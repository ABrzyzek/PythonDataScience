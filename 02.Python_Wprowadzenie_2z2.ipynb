{
 "cells": [
  {
   "cell_type": "markdown",
   "metadata": {},
   "source": [
    "# Warsztaty Python w Data Science"
   ]
  },
  {
   "cell_type": "markdown",
   "metadata": {},
   "source": [
    "***"
   ]
  },
  {
   "cell_type": "markdown",
   "metadata": {},
   "source": [
    "# Blok 1 - Wprowadzenie\n",
    "## Python (2 z 2)"
   ]
  },
  {
   "cell_type": "markdown",
   "metadata": {},
   "source": [
    "***"
   ]
  },
  {
   "cell_type": "markdown",
   "metadata": {},
   "source": [
    "# Zadanie 1\n",
    "\n",
    "Napisać funkcję co policzy ilość wystąpień na liście\n",
    "Przykład\n",
    "\n",
    "zlicz( [1, 2, 3, 4, 1, 2, 1] )\n",
    "\n",
    "{ 1: 3, 2: 2, 3: 1, 4: 1 }"
   ]
  },
  {
   "cell_type": "code",
   "execution_count": null,
   "metadata": {},
   "outputs": [],
   "source": [
    "def zlicz(lista):\n",
    "    ilosc_wystapien = {}\n",
    "    for x in lista:\n",
    "        ilosc = ilosc_wystapien.get(x, 0)\n",
    "        ilosc = ilosc + 1\n",
    "        ilosc_wystapien[x] = ilosc\n",
    "    return ilosc_wystapien"
   ]
  },
  {
   "cell_type": "code",
   "execution_count": null,
   "metadata": {},
   "outputs": [],
   "source": [
    "zlicz([1])"
   ]
  },
  {
   "cell_type": "code",
   "execution_count": null,
   "metadata": {},
   "outputs": [],
   "source": [
    "zlicz([1, 1, 1])"
   ]
  },
  {
   "cell_type": "code",
   "execution_count": null,
   "metadata": {},
   "outputs": [],
   "source": [
    "zlicz([1, 2, 1])"
   ]
  },
  {
   "cell_type": "code",
   "execution_count": null,
   "metadata": {},
   "outputs": [],
   "source": [
    "zlicz( [1, 2, 3, 4, 1, 2, 1] )"
   ]
  },
  {
   "cell_type": "markdown",
   "metadata": {},
   "source": [
    "# Zadanie 2"
   ]
  },
  {
   "cell_type": "raw",
   "metadata": {},
   "source": [
    "Napisać funkcję co wypisze choinkę o odpowiedniej wysokości\n",
    "\n",
    "choinka(7)\n",
    "\n",
    "\n",
    "       *\n",
    "      ***\n",
    "     *****\n",
    "    *******\n",
    "   *********\n",
    "  ***********\n",
    " *************\n",
    "       *\n",
    "      ***"
   ]
  },
  {
   "cell_type": "code",
   "execution_count": null,
   "metadata": {},
   "outputs": [],
   "source": [
    "def choinka(poziom):\n",
    "    S=\" \"\n",
    "    G=\"*\"\n",
    "    for i in range(1,poziom+1):\n",
    "        print ( S*(poziom-i) + G*(2*i-1) )\n",
    "    print( S*(poziom-1) + G )\n",
    "    print( S*(poziom-2) + G*3 )    "
   ]
  },
  {
   "cell_type": "code",
   "execution_count": null,
   "metadata": {},
   "outputs": [],
   "source": [
    "choinka(7)"
   ]
  },
  {
   "cell_type": "code",
   "execution_count": null,
   "metadata": {},
   "outputs": [],
   "source": [
    "choinka(3)"
   ]
  },
  {
   "cell_type": "code",
   "execution_count": null,
   "metadata": {},
   "outputs": [],
   "source": [
    "choinka(12)"
   ]
  },
  {
   "cell_type": "markdown",
   "metadata": {},
   "source": [
    "# Zadanie 3"
   ]
  },
  {
   "cell_type": "raw",
   "metadata": {},
   "source": [
    "Napisać funkcję co wypiszę liczbę naturalną słownie dla liczb od 0 do 999999.\n",
    "\n",
    "slownie(1984)\n",
    "'tysiąc dziewięćset osiemdziesiąt cztery'\n"
   ]
  },
  {
   "cell_type": "markdown",
   "metadata": {},
   "source": [
    "## \"Dziel i rządź\" - dzielimy problem na podproblemy\n",
    "### 1. Rozwiążemy problem w zakresie 0-999\n",
    "### 2. Rozwiążemy problem dodania jednostek\n",
    "### 3. Połączymy rozwiązania"
   ]
  },
  {
   "cell_type": "markdown",
   "metadata": {},
   "source": [
    "---\n",
    "#### 1. Rozwiązujemy problem w zakresie 0-999"
   ]
  },
  {
   "cell_type": "code",
   "execution_count": null,
   "metadata": {},
   "outputs": [],
   "source": [
    "def do999(n):\n",
    "    nazwy_jednosci = { 0: \"\", 1: \"jeden\", 2: \"dwa\", 3: \"trzy\", 4: \"cztery\", 5: \"pięć\", 6: \"sześć\", 7: \"siedem\", 8: \"osiem\", 9: \"dziewięć\"}\n",
    "    nazwy_nastki = { 11: \"jedenaście\", 12: \"dwanaście\", 13: \"trzynaście\", 14: \"czternaście\", 15: \"piętnaście\", 16: \"szesnaście\", 17: \"siedemnaście\", 18: \"osiemnaście\", 19: \"dziewietnaście\"}\n",
    "    nazwy_dziesiatki = { 0: \"\", 10: \"dziesięć\", 20: \"dwadzieścia\", 30: \"trzydzieści\", 40: \"czterdzieści\", 50: \"pięćdziesiąt\", 60: \"sześćdziesiąt\", 70: \"siedemdziesiąt\", 80: \"osiemdziesiąt\", 90: \"dziewięćdziesiąt\"}\n",
    "    nazwy_setki = { 0: \"\", 100: \"sto\", 200: \"dwieście\", 300: \"trzysta\", 400: \"czterysta\", 500: \"pięćset\", 600: \"sześćset\", 700: \"siedemset\", 800: \"osiemset\", 900: \"dziewięćset\"}\n",
    "    \n",
    "    wynik = [n] \n",
    "    \n",
    "    jednosci = n % 10\n",
    "    wynik =  [ (jednosci,nazwy_jednosci[jednosci]) ]\n",
    "    \n",
    "    n = n - jednosci\n",
    "    dziesiatki = n % 100\n",
    "    \n",
    "    if dziesiatki == 10 and jednosci > 0:\n",
    "        suma = dziesiatki+jednosci\n",
    "        wynik = [ (suma, nazwy_nastki[suma]) ]\n",
    "    else:\n",
    "        wynik = [ (dziesiatki,nazwy_dziesiatki[dziesiatki]) ]  + wynik\n",
    "        \n",
    "    n = n - dziesiatki\n",
    "    setki = n % 1000\n",
    "    wynik= [ (setki,nazwy_setki[setki]) ] + wynik\n",
    "    \n",
    "    return wynik"
   ]
  },
  {
   "cell_type": "code",
   "execution_count": null,
   "metadata": {},
   "outputs": [],
   "source": [
    "do999(0)"
   ]
  },
  {
   "cell_type": "code",
   "execution_count": null,
   "metadata": {},
   "outputs": [],
   "source": [
    "do999(37)"
   ]
  },
  {
   "cell_type": "code",
   "execution_count": null,
   "metadata": {},
   "outputs": [],
   "source": [
    "do999(231)"
   ]
  },
  {
   "cell_type": "code",
   "execution_count": null,
   "metadata": {},
   "outputs": [],
   "source": [
    "do999(211)"
   ]
  },
  {
   "cell_type": "code",
   "execution_count": null,
   "metadata": {},
   "outputs": [],
   "source": [
    "do999(112)"
   ]
  },
  {
   "cell_type": "markdown",
   "metadata": {},
   "source": [
    "---\n",
    "#### 2. Rozwiązujemy problem dodania jednostek"
   ]
  },
  {
   "cell_type": "code",
   "execution_count": null,
   "metadata": {},
   "outputs": [],
   "source": [
    "def dodaj_jednostke(lista, formy):\n",
    "    wartosc = 0\n",
    "    for i in lista:\n",
    "        wartosc += i[0] \n",
    "        \n",
    "    if wartosc==0:\n",
    "        return lista\n",
    "\n",
    "    if wartosc==1:\n",
    "        lista = [ (0, formy[0]) ]\n",
    "    elif lista[-1][0] in [2,3,4]:\n",
    "        lista.append( (lista[-1][0], formy[1]))\n",
    "    else:\n",
    "        lista.append( (lista[-1][0], formy[2]))\n",
    "    return lista"
   ]
  },
  {
   "cell_type": "code",
   "execution_count": null,
   "metadata": {},
   "outputs": [],
   "source": [
    "dodaj_jednostke([(100, 'sto'), (12, 'dwanaście')], ['jabłko', 'jabłka', 'jabłek'])"
   ]
  },
  {
   "cell_type": "code",
   "execution_count": null,
   "metadata": {},
   "outputs": [],
   "source": [
    "dodaj_jednostke(do999(112), ['jabłko', 'jabłka', 'jabłek'])"
   ]
  },
  {
   "cell_type": "code",
   "execution_count": null,
   "metadata": {},
   "outputs": [],
   "source": [
    "dodaj_jednostke(do999(2), ['jabłko', 'jabłka', 'jabłek'])"
   ]
  },
  {
   "cell_type": "code",
   "execution_count": null,
   "metadata": {},
   "outputs": [],
   "source": [
    "dodaj_jednostke(do999(5), ['jabłko', 'jabłka', 'jabłek'])"
   ]
  },
  {
   "cell_type": "markdown",
   "metadata": {},
   "source": [
    "---\n",
    "#### 3. Łączymy rozwiązania"
   ]
  },
  {
   "cell_type": "code",
   "execution_count": null,
   "metadata": {},
   "outputs": [],
   "source": [
    "def sklej(lista):\n",
    "    wynik = \"\"\n",
    "    S = \" \"\n",
    "    for i in lista:\n",
    "        if len(i[1])>0:\n",
    "            wynik += S + i[1]\n",
    "    return wynik.strip()"
   ]
  },
  {
   "cell_type": "code",
   "execution_count": null,
   "metadata": {},
   "outputs": [],
   "source": [
    "sklej(dodaj_jednostke(do999(5), ['jabłko', 'jabłka', 'jabłek']))"
   ]
  },
  {
   "cell_type": "code",
   "execution_count": null,
   "metadata": {},
   "outputs": [],
   "source": [
    "sklej(dodaj_jednostke(do999(72), ['jabłko', 'jabłka', 'jabłek']))"
   ]
  },
  {
   "cell_type": "code",
   "execution_count": null,
   "metadata": {},
   "outputs": [],
   "source": [
    "sklej(dodaj_jednostke(do999(121), ['jabłko', 'jabłka', 'jabłek']))"
   ]
  },
  {
   "cell_type": "code",
   "execution_count": null,
   "metadata": {},
   "outputs": [],
   "source": [
    "sklej(dodaj_jednostke(do999(1), ['jabłko', 'jabłka', 'jabłek']))"
   ]
  },
  {
   "cell_type": "code",
   "execution_count": null,
   "metadata": {},
   "outputs": [],
   "source": [
    "def _slownie(n):\n",
    "    wynik = do999(n%1000)\n",
    "    if n>999:\n",
    "        n=n//1000\n",
    "        wynik = dodaj_jednostke(do999(n%1000), ['tysiąc', 'tysiące', 'tysięcy']) + wynik\n",
    "    if n>999:\n",
    "        n=n//1000\n",
    "        wynik = dodaj_jednostke(do999(n%1000), ['milion', 'miliony', 'milionów']) + wynik\n",
    "    if n>999:\n",
    "        n=n//1000\n",
    "        wynik = dodaj_jednostke(do999(n%1000), ['miliard', 'miliardy', 'miliardów']) + wynik\n",
    "        \n",
    "    return wynik"
   ]
  },
  {
   "cell_type": "code",
   "execution_count": null,
   "metadata": {},
   "outputs": [],
   "source": [
    "_slownie(1984)"
   ]
  },
  {
   "cell_type": "code",
   "execution_count": null,
   "metadata": {},
   "outputs": [],
   "source": [
    "_slownie(369017002011)"
   ]
  },
  {
   "cell_type": "raw",
   "metadata": {},
   "source": [
    "do999 -------------\\\n",
    "                    ------> _slownie -----> sklej -----> slownie \n",
    "dodaj_jednostke ---/"
   ]
  },
  {
   "cell_type": "code",
   "execution_count": null,
   "metadata": {},
   "outputs": [],
   "source": [
    "def slownie(n):\n",
    "    lista = _slownie(n)\n",
    "    wynik = sklej(lista)\n",
    "    return wynik.strip()"
   ]
  },
  {
   "cell_type": "code",
   "execution_count": null,
   "metadata": {},
   "outputs": [],
   "source": [
    "slownie(1984)"
   ]
  },
  {
   "cell_type": "code",
   "execution_count": null,
   "metadata": {},
   "outputs": [],
   "source": [
    "slownie(1000000000)"
   ]
  },
  {
   "cell_type": "code",
   "execution_count": null,
   "metadata": {},
   "outputs": [],
   "source": [
    "slownie(369017002011)"
   ]
  },
  {
   "cell_type": "markdown",
   "metadata": {},
   "source": [
    "---\n",
    "\n",
    "## Język Python - wprowadzenie (2. spotkanie)\n",
    "- ### Argumenty Funkcji\n",
    "- ### Instrukcje sterujące cd. \n",
    "- ### Struktury danych cd.\n",
    "    - ### Zbiory\n",
    "    - ### List comprehension\n",
    "    - ### Sortowanie\n",
    "---\n",
    "## Argumenty Funkcji"
   ]
  },
  {
   "cell_type": "code",
   "execution_count": null,
   "metadata": {},
   "outputs": [],
   "source": [
    "int(\"10\")"
   ]
  },
  {
   "cell_type": "code",
   "execution_count": null,
   "metadata": {},
   "outputs": [],
   "source": [
    "int(\"10\", base=2)"
   ]
  },
  {
   "cell_type": "code",
   "execution_count": null,
   "metadata": {},
   "outputs": [],
   "source": [
    "def wiecej(x, ile_razy=2):\n",
    "    return ile_razy*x"
   ]
  },
  {
   "cell_type": "code",
   "execution_count": null,
   "metadata": {},
   "outputs": [],
   "source": [
    "wiecej(100)"
   ]
  },
  {
   "cell_type": "code",
   "execution_count": null,
   "metadata": {},
   "outputs": [],
   "source": [
    "wiecej(100, ile_razy=10)"
   ]
  },
  {
   "cell_type": "code",
   "execution_count": null,
   "metadata": {},
   "outputs": [],
   "source": [
    "def _slownie(n, jednostki=None):\n",
    "    if jednostki:\n",
    "        wynik = dodaj_jednostke(do999(n%1000), jednostki)\n",
    "    else:\n",
    "        wynik = do999(n%1000)\n",
    "    \n",
    "    if n>999:\n",
    "        n=n//1000\n",
    "        wynik = dodaj_jednostke(do999(n%1000), ['tysiąc', 'tysiące', 'tysięcy']) + wynik\n",
    "    if n>999:\n",
    "        n=n//1000\n",
    "        wynik = dodaj_jednostke(do999(n%1000), ['milion', 'miliony', 'milionów']) + wynik\n",
    "    if n>999:\n",
    "        n=n//1000\n",
    "        wynik = dodaj_jednostke(do999(n%1000), ['miliard', 'miliardy', 'miliardów']) + wynik\n",
    "        \n",
    "    return wynik\n",
    "\n",
    "def slownie(n, jednostki= None):\n",
    "    lista = _slownie(n, jednostki)\n",
    "    wynik = sklej(lista)\n",
    "    return wynik.strip()"
   ]
  },
  {
   "cell_type": "code",
   "execution_count": null,
   "metadata": {},
   "outputs": [],
   "source": [
    "slownie(1984)"
   ]
  },
  {
   "cell_type": "code",
   "execution_count": null,
   "metadata": {},
   "outputs": [],
   "source": [
    "zlote=['złoty', 'złote', 'złotych']\n",
    "\n",
    "slownie(1984, zlote)"
   ]
  },
  {
   "cell_type": "code",
   "execution_count": null,
   "metadata": {},
   "outputs": [],
   "source": [
    "def choinka(poziom, separator=\" \", znak=\"*\"):\n",
    "    S=separator\n",
    "    G=znak\n",
    "    for i in range(1,poziom+1):\n",
    "        print ( S*(poziom-i) + G*(2*i-1) )\n",
    "    print( S*(poziom-1) + G )\n",
    "    print( S*(poziom-2) + G*3 )  "
   ]
  },
  {
   "cell_type": "code",
   "execution_count": null,
   "metadata": {},
   "outputs": [],
   "source": [
    "choinka(7)"
   ]
  },
  {
   "cell_type": "code",
   "execution_count": null,
   "metadata": {},
   "outputs": [],
   "source": [
    "choinka(znak='#', poziom=7)"
   ]
  },
  {
   "cell_type": "code",
   "execution_count": null,
   "metadata": {},
   "outputs": [],
   "source": [
    "def test_var_args(farg, *args):\n",
    "    print (\"formal arg:\", farg)\n",
    "    print(args)\n",
    "    for arg in args:\n",
    "        print (\"another arg:\", arg)"
   ]
  },
  {
   "cell_type": "code",
   "execution_count": null,
   "metadata": {},
   "outputs": [],
   "source": [
    "test_var_args(1, \"two\", 3)"
   ]
  },
  {
   "cell_type": "code",
   "execution_count": null,
   "metadata": {},
   "outputs": [],
   "source": [
    "def test_var_kwargs(farg, **kwargs):\n",
    "    print (\"formal arg:\", farg)\n",
    "    for key in kwargs:\n",
    "        print (\"another keyword arg: %s: %s\" % (key, kwargs[key]))\n",
    "    print (kwargs)"
   ]
  },
  {
   "cell_type": "code",
   "execution_count": null,
   "metadata": {},
   "outputs": [],
   "source": [
    "test_var_kwargs(farg=1, myarg2=\"two\", myarg3=3)"
   ]
  },
  {
   "cell_type": "markdown",
   "metadata": {},
   "source": [
    "## Instrukcje sterujące"
   ]
  },
  {
   "cell_type": "code",
   "execution_count": null,
   "metadata": {},
   "outputs": [],
   "source": [
    "n = 1\n",
    "napis = \"\"\n",
    "if n==0:\n",
    "    nazwa = \"zero\"\n",
    "else:\n",
    "    nazwa = \"nie zero\"\n",
    "    \n",
    "nazwa"
   ]
  },
  {
   "cell_type": "code",
   "execution_count": null,
   "metadata": {},
   "outputs": [],
   "source": [
    "nazwa = \"zero\" if n==0 else \"nie zero\"\n",
    "nazwa"
   ]
  },
  {
   "cell_type": "code",
   "execution_count": null,
   "metadata": {},
   "outputs": [],
   "source": [
    "n = 5\n",
    "while n > 0:\n",
    "    n -= 1\n",
    "    print(n)"
   ]
  },
  {
   "cell_type": "code",
   "execution_count": null,
   "metadata": {},
   "outputs": [],
   "source": [
    "n = 5\n",
    "while n > 0:\n",
    "    n -= 1\n",
    "    print(n)\n",
    "    if n==2: \n",
    "        break"
   ]
  },
  {
   "cell_type": "code",
   "execution_count": null,
   "metadata": {},
   "outputs": [],
   "source": [
    "lista = list(range(7))\n",
    "lista"
   ]
  },
  {
   "cell_type": "code",
   "execution_count": null,
   "metadata": {},
   "outputs": [],
   "source": [
    "lista = list(range(1, 7))\n",
    "lista"
   ]
  },
  {
   "cell_type": "code",
   "execution_count": null,
   "metadata": {},
   "outputs": [],
   "source": [
    "lista = list(range(1, 7, 2))\n",
    "lista"
   ]
  },
  {
   "cell_type": "code",
   "execution_count": null,
   "metadata": {},
   "outputs": [],
   "source": [
    "lista = list(range(7, 1, -1))\n",
    "lista"
   ]
  },
  {
   "cell_type": "code",
   "execution_count": null,
   "metadata": {},
   "outputs": [],
   "source": [
    "lista.pop()"
   ]
  },
  {
   "cell_type": "code",
   "execution_count": null,
   "metadata": {},
   "outputs": [],
   "source": [
    "lista"
   ]
  },
  {
   "cell_type": "code",
   "execution_count": null,
   "metadata": {},
   "outputs": [],
   "source": [
    "while lista:\n",
    "    print(lista.pop())"
   ]
  },
  {
   "cell_type": "code",
   "execution_count": null,
   "metadata": {},
   "outputs": [],
   "source": [
    "lista"
   ]
  },
  {
   "cell_type": "markdown",
   "metadata": {},
   "source": [
    "## Zbiory"
   ]
  },
  {
   "cell_type": "code",
   "execution_count": null,
   "metadata": {},
   "outputs": [],
   "source": [
    "zbior = set()"
   ]
  },
  {
   "cell_type": "code",
   "execution_count": null,
   "metadata": {},
   "outputs": [],
   "source": [
    "zbior.add(3)\n",
    "zbior.add(4)\n",
    "zbior.add(3)\n",
    "zbior"
   ]
  },
  {
   "cell_type": "code",
   "execution_count": null,
   "metadata": {},
   "outputs": [],
   "source": [
    "zbior = {3, 4, 5}"
   ]
  },
  {
   "cell_type": "code",
   "execution_count": null,
   "metadata": {},
   "outputs": [],
   "source": [
    "zbior.add(3)\n",
    "zbior.add(4)\n",
    "zbior.add(7)\n",
    "zbior"
   ]
  },
  {
   "cell_type": "markdown",
   "metadata": {},
   "source": [
    "## List comprehension\n",
    "\n",
    "### Generator Expressions"
   ]
  },
  {
   "cell_type": "raw",
   "metadata": {},
   "source": [
    "x for x in range(10)\n",
    "\n",
    "x*x for x in range(10)\n",
    "\n",
    "(x*y for x in range(10) for y in range(x))\n",
    "\n",
    "x*x for x in range(10) if x % 2 == 0\n"
   ]
  },
  {
   "cell_type": "raw",
   "metadata": {},
   "source": [
    "List + Generator Expression\n",
    "           =     \n",
    "    List comprehension"
   ]
  },
  {
   "cell_type": "code",
   "execution_count": null,
   "metadata": {},
   "outputs": [],
   "source": [
    "[ x for x in range(10)]"
   ]
  },
  {
   "cell_type": "code",
   "execution_count": null,
   "metadata": {},
   "outputs": [],
   "source": [
    "[ x*x for x in range(10)]"
   ]
  },
  {
   "cell_type": "code",
   "execution_count": null,
   "metadata": {},
   "outputs": [],
   "source": [
    "[ x*x for x in range(10) if x % 2 == 0 ]"
   ]
  },
  {
   "cell_type": "markdown",
   "metadata": {},
   "source": [
    "## Dict comprehension"
   ]
  },
  {
   "cell_type": "code",
   "execution_count": null,
   "metadata": {},
   "outputs": [],
   "source": [
    "{ x:x*x for x in range(10) if x % 2 == 0 }"
   ]
  },
  {
   "cell_type": "markdown",
   "metadata": {},
   "source": [
    "## Generator Expression"
   ]
  },
  {
   "cell_type": "code",
   "execution_count": null,
   "metadata": {},
   "outputs": [],
   "source": [
    "(x*y for x in range(10) for y in range(x))"
   ]
  },
  {
   "cell_type": "code",
   "execution_count": null,
   "metadata": {},
   "outputs": [],
   "source": [
    "[(x, y, x*y) for x in range(5) for y in range(x)]"
   ]
  },
  {
   "cell_type": "markdown",
   "metadata": {},
   "source": [
    "## Sortowanie list"
   ]
  },
  {
   "cell_type": "code",
   "execution_count": null,
   "metadata": {},
   "outputs": [],
   "source": [
    "lista = list(range(10, 0, -1))\n",
    "lista"
   ]
  },
  {
   "cell_type": "code",
   "execution_count": null,
   "metadata": {},
   "outputs": [],
   "source": [
    "lista.sort()\n",
    "lista"
   ]
  },
  {
   "cell_type": "code",
   "execution_count": null,
   "metadata": {},
   "outputs": [],
   "source": [
    "lista.sort(reverse=True)\n",
    "lista"
   ]
  },
  {
   "cell_type": "code",
   "execution_count": null,
   "metadata": {},
   "outputs": [],
   "source": [
    "lista = [ str(i) for i in range(21)]\n",
    "str(lista)"
   ]
  },
  {
   "cell_type": "code",
   "execution_count": null,
   "metadata": {},
   "outputs": [],
   "source": [
    "lista.sort()\n",
    "str(lista)"
   ]
  },
  {
   "cell_type": "code",
   "execution_count": null,
   "metadata": {},
   "outputs": [],
   "source": [
    "def int_val(s):\n",
    "    return int(s)"
   ]
  },
  {
   "cell_type": "code",
   "execution_count": null,
   "metadata": {},
   "outputs": [],
   "source": [
    "lista.sort(key=int_val)\n",
    "str(lista)"
   ]
  },
  {
   "cell_type": "code",
   "execution_count": null,
   "metadata": {},
   "outputs": [],
   "source": [
    "dluga_lista = [ str(i) for i in range(21)] + [ str(i) for i in range(-1, -21, -1)]\n",
    "str(dluga_lista)"
   ]
  },
  {
   "cell_type": "markdown",
   "metadata": {},
   "source": [
    "---\n",
    "## Zadanie 1 - łatwe"
   ]
  },
  {
   "cell_type": "markdown",
   "metadata": {},
   "source": [
    "Posortować `dluga_lista` po wartości bezwględnej elementów listy interpretowanych jako wartość całkowita "
   ]
  },
  {
   "cell_type": "markdown",
   "metadata": {},
   "source": [
    "## Zadanie 2 - średnie"
   ]
  },
  {
   "cell_type": "markdown",
   "metadata": {},
   "source": [
    "Wygenerować listę liczb z zakresu `1-1000` które nie są podzielne przez żadną cyfrę od `2` do `9`."
   ]
  },
  {
   "cell_type": "markdown",
   "metadata": {},
   "source": [
    "## Zadanie 3 - trudne"
   ]
  },
  {
   "cell_type": "markdown",
   "metadata": {},
   "source": [
    "Stworz funkcję która usunie (*\"wyplaszczy\"*) zagnieżdzone listy\n",
    "\n",
    "`l = [4, 1, [ 2, [7] ], 3]`\n",
    "\n",
    "`wyplaszcz(l)`\n",
    "\n",
    "`[4, 1, 2, 7, 3]`\n",
    "\n",
    "Podpowiedź: sprawdź co robi funkcja wbudowana `type`"
   ]
  }
 ],
 "metadata": {
  "kernelspec": {
   "display_name": "Python 3",
   "language": "python",
   "name": "python3"
  },
  "language_info": {
   "codemirror_mode": {
    "name": "ipython",
    "version": 3
   },
   "file_extension": ".py",
   "mimetype": "text/x-python",
   "name": "python",
   "nbconvert_exporter": "python",
   "pygments_lexer": "ipython3",
   "version": "3.9.1"
  },
  "widgets": {
   "application/vnd.jupyter.widget-state+json": {
    "state": {},
    "version_major": 2,
    "version_minor": 0
   }
  }
 },
 "nbformat": 4,
 "nbformat_minor": 4
}
