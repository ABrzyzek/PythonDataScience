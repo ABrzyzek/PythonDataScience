{
 "cells": [
  {
   "cell_type": "markdown",
   "metadata": {},
   "source": [
    "# Warsztaty Python w Data Science"
   ]
  },
  {
   "cell_type": "markdown",
   "metadata": {},
   "source": [
    "## Data Wrangling z Biblioteką Pandas \n",
    "### Część 1 z 5 - wprowadzenie "
   ]
  },
  {
   "cell_type": "markdown",
   "metadata": {},
   "source": [
    "***"
   ]
  },
  {
   "cell_type": "markdown",
   "metadata": {},
   "source": [
    "# https://github.com/Bits-of-Data-PL/PythonDataScience"
   ]
  },
  {
   "cell_type": "markdown",
   "metadata": {},
   "source": [
    "***"
   ]
  },
  {
   "cell_type": "markdown",
   "metadata": {},
   "source": [
    "## Data Wrangling 1\n",
    "- Data wrangling, munging, tidying\n",
    "- Biblioteka Pandas – wprowadzenie\n",
    "- Wybieranie wierszy\n",
    "- Formatowanie"
   ]
  },
  {
   "cell_type": "markdown",
   "metadata": {},
   "source": [
    "---\n",
    "## Zadanie 1 \n",
    "\n",
    "Posortować `dluga_lista` po wartości bezwględnej elementów listy interpretowanych jako wartość całkowita "
   ]
  },
  {
   "cell_type": "code",
   "execution_count": 1,
   "metadata": {},
   "outputs": [
    {
     "data": {
      "text/plain": [
       "\"['0', '1', '2', '3', '4', '5', '6', '7', '8', '9', '10', '11', '12', '13', '14', '15', '16', '17', '18', '19', '20', '-1', '-2', '-3', '-4', '-5', '-6', '-7', '-8', '-9', '-10', '-11', '-12', '-13', '-14', '-15', '-16', '-17', '-18', '-19', '-20']\""
      ]
     },
     "execution_count": 1,
     "metadata": {},
     "output_type": "execute_result"
    }
   ],
   "source": [
    "dluga_lista = [ str(i) for i in range(21)] + [ str(i) for i in range(-1, -21, -1)]\n",
    "str(dluga_lista)"
   ]
  },
  {
   "cell_type": "code",
   "execution_count": 2,
   "metadata": {},
   "outputs": [
    {
     "data": {
      "text/plain": [
       "1"
      ]
     },
     "execution_count": 2,
     "metadata": {},
     "output_type": "execute_result"
    }
   ],
   "source": [
    "abs(-1)"
   ]
  },
  {
   "cell_type": "code",
   "execution_count": 3,
   "metadata": {},
   "outputs": [
    {
     "ename": "TypeError",
     "evalue": "bad operand type for abs(): 'str'",
     "output_type": "error",
     "traceback": [
      "\u001b[1;31m---------------------------------------------------------------------------\u001b[0m",
      "\u001b[1;31mTypeError\u001b[0m                                 Traceback (most recent call last)",
      "\u001b[1;32m<ipython-input-3-676b127b15ab>\u001b[0m in \u001b[0;36m<module>\u001b[1;34m\u001b[0m\n\u001b[1;32m----> 1\u001b[1;33m \u001b[0mabs\u001b[0m\u001b[1;33m(\u001b[0m\u001b[1;34m'-1'\u001b[0m\u001b[1;33m)\u001b[0m\u001b[1;33m\u001b[0m\u001b[1;33m\u001b[0m\u001b[0m\n\u001b[0m",
      "\u001b[1;31mTypeError\u001b[0m: bad operand type for abs(): 'str'"
     ]
    }
   ],
   "source": [
    "abs('-1')"
   ]
  },
  {
   "cell_type": "code",
   "execution_count": 4,
   "metadata": {},
   "outputs": [],
   "source": [
    "def bezwzgledna(x):\n",
    "    x = float(x)\n",
    "    return x if x > 0 else -x"
   ]
  },
  {
   "cell_type": "code",
   "execution_count": 5,
   "metadata": {},
   "outputs": [
    {
     "data": {
      "text/plain": [
       "1.0"
      ]
     },
     "execution_count": 5,
     "metadata": {},
     "output_type": "execute_result"
    }
   ],
   "source": [
    "bezwzgledna('-1')"
   ]
  },
  {
   "cell_type": "code",
   "execution_count": 6,
   "metadata": {},
   "outputs": [
    {
     "data": {
      "text/plain": [
       "\"['0', '1', '-1', '2', '-2', '3', '-3', '4', '-4', '5', '-5', '6', '-6', '7', '-7', '8', '-8', '9', '-9', '10', '-10', '11', '-11', '12', '-12', '13', '-13', '14', '-14', '15', '-15', '16', '-16', '17', '-17', '18', '-18', '19', '-19', '20', '-20']\""
      ]
     },
     "execution_count": 6,
     "metadata": {},
     "output_type": "execute_result"
    }
   ],
   "source": [
    "dluga_lista.sort(key=bezwzgledna)\n",
    "str(dluga_lista)"
   ]
  },
  {
   "cell_type": "code",
   "execution_count": 7,
   "metadata": {},
   "outputs": [
    {
     "data": {
      "text/plain": [
       "\"['-1', '-2', '-3', '-4', '-5', '-6', '-7', '-8', '-9', '-10', '-11', '-12', '-13', '-14', '-15', '-16', '-17', '-18', '-19', '-20', '0', '1', '2', '3', '4', '5', '6', '7', '8', '9', '10', '11', '12', '13', '14', '15', '16', '17', '18', '19', '20']\""
      ]
     },
     "execution_count": 7,
     "metadata": {},
     "output_type": "execute_result"
    }
   ],
   "source": [
    "dluga_lista =  [ str(i) for i in range(-1, -21, -1)] + [ str(i) for i in range(21)]\n",
    "str(dluga_lista)"
   ]
  },
  {
   "cell_type": "code",
   "execution_count": null,
   "metadata": {},
   "outputs": [],
   "source": [
    "dluga_lista.sort(key=bezwzgledna)\n",
    "str(dluga_lista)"
   ]
  },
  {
   "cell_type": "code",
   "execution_count": null,
   "metadata": {},
   "outputs": [],
   "source": [
    "def bezwzgledna(x):\n",
    "    x = float(x)\n",
    "    return (x, x if x > 0 else -x)"
   ]
  },
  {
   "cell_type": "markdown",
   "metadata": {},
   "source": [
    "## Zadanie 2"
   ]
  },
  {
   "cell_type": "markdown",
   "metadata": {},
   "source": [
    "Wygenerować listę liczb z zakresu `1-1000` które nie są podzielne przez żadną cyfrę od `2` do `9`."
   ]
  },
  {
   "cell_type": "code",
   "execution_count": 8,
   "metadata": {},
   "outputs": [
    {
     "data": {
      "text/plain": [
       "[(1, []),\n",
       " (2, [2]),\n",
       " (3, [3]),\n",
       " (4, [2, 4]),\n",
       " (5, [5]),\n",
       " (6, [2, 3, 6]),\n",
       " (7, [7]),\n",
       " (8, [2, 4, 8]),\n",
       " (9, [3, 9]),\n",
       " (10, [2, 5]),\n",
       " (11, []),\n",
       " (12, [2, 3, 4, 6]),\n",
       " (13, []),\n",
       " (14, [2, 7]),\n",
       " (15, [3, 5]),\n",
       " (16, [2, 4, 8]),\n",
       " (17, []),\n",
       " (18, [2, 3, 6, 9]),\n",
       " (19, []),\n",
       " (20, [2, 4, 5])]"
      ]
     },
     "execution_count": 8,
     "metadata": {},
     "output_type": "execute_result"
    }
   ],
   "source": [
    "[ (num,[div for div in range(2,10) if num%div == 0])  for num in range(1,21)]"
   ]
  },
  {
   "cell_type": "markdown",
   "metadata": {},
   "source": [
    "``` python\n",
    "[num for num in range(1,1001) if not [div for div in range(2,10) if num%div == 0]]\n",
    "```"
   ]
  },
  {
   "cell_type": "code",
   "execution_count": 9,
   "metadata": {},
   "outputs": [
    {
     "data": {
      "text/plain": [
       "'[1, 11, 13, 17, 19, 23, 29, 31, 37, 41, 43, 47, 53, 59, 61, 67, 71, 73, 79, 83, 89]'"
      ]
     },
     "execution_count": 9,
     "metadata": {},
     "output_type": "execute_result"
    }
   ],
   "source": [
    "str([num for num in range(1,1001) if not [div for div in range(2,10) if num%div == 0]][:21])"
   ]
  },
  {
   "cell_type": "code",
   "execution_count": 10,
   "metadata": {},
   "outputs": [
    {
     "data": {
      "text/plain": [
       "'[911, 913, 919, 923, 929, 937, 941, 943, 947, 949, 953, 961, 967, 971, 977, 979, 983, 989, 991, 997]'"
      ]
     },
     "execution_count": 10,
     "metadata": {},
     "output_type": "execute_result"
    }
   ],
   "source": [
    "str([num for num in range(1,1001) if not [div for div in range(2,10) if num%div == 0]][-20:])"
   ]
  },
  {
   "cell_type": "markdown",
   "metadata": {},
   "source": [
    "## Zadanie 3"
   ]
  },
  {
   "cell_type": "markdown",
   "metadata": {},
   "source": [
    "Stworz funkcję która usunie \"wyplaszczy\" zagnieżdzone listy\n",
    "\n",
    "l = [4, 1, [ 2, [7] ], 3]\n",
    "\n",
    "wyplaszcz(l)\n",
    "\n",
    "l\n",
    "\n",
    "[4, 1, 2, 7, 3]"
   ]
  },
  {
   "cell_type": "code",
   "execution_count": 11,
   "metadata": {},
   "outputs": [],
   "source": [
    "def wyplaszcz(lista):\n",
    "    ret = []\n",
    "    for x in lista:\n",
    "        if type(x)==type([]):\n",
    "            for y in wyplaszcz(x):\n",
    "                ret.append(y)\n",
    "        else:\n",
    "            ret.append(x)\n",
    "    return ret"
   ]
  },
  {
   "cell_type": "code",
   "execution_count": 12,
   "metadata": {},
   "outputs": [
    {
     "data": {
      "text/plain": [
       "[4, 1, 2, 7, 3]"
      ]
     },
     "execution_count": 12,
     "metadata": {},
     "output_type": "execute_result"
    }
   ],
   "source": [
    "l = [4, 1, [ 2, [7] ], 3]\n",
    "l = wyplaszcz(l)\n",
    "l"
   ]
  },
  {
   "cell_type": "code",
   "execution_count": 13,
   "metadata": {},
   "outputs": [],
   "source": [
    "def wyplaszcz(lista):\n",
    "    kopia = list(lista)\n",
    "    for i in range(len(lista)-1,-1,-1):\n",
    "        del lista[i]\n",
    "    for x in kopia:\n",
    "        if type(x)==type([]):\n",
    "            for y in wyplaszcz(x):\n",
    "                lista.append(y)\n",
    "        else:\n",
    "            lista.append(x)\n",
    "    return lista"
   ]
  },
  {
   "cell_type": "code",
   "execution_count": 14,
   "metadata": {},
   "outputs": [
    {
     "data": {
      "text/plain": [
       "[4, 1, 2, 7, 3]"
      ]
     },
     "execution_count": 14,
     "metadata": {},
     "output_type": "execute_result"
    }
   ],
   "source": [
    "l = [4, 1, [ 2, [7] ], 3]\n",
    "wyplaszcz(l)\n",
    "l"
   ]
  },
  {
   "cell_type": "markdown",
   "metadata": {},
   "source": [
    "***"
   ]
  },
  {
   "cell_type": "markdown",
   "metadata": {
    "tags": []
   },
   "source": [
    "![](img/road.jpg)"
   ]
  },
  {
   "cell_type": "markdown",
   "metadata": {},
   "source": [
    "## Data Wrangling, Munging, Tidying "
   ]
  },
  {
   "cell_type": "markdown",
   "metadata": {},
   "source": [
    "### Data Wrangling\n",
    "- __Discovering__ (eksploracja danych)\n",
    "- __Structuring__ (przygotowanie danych do konkretnego zadania)\n",
    "- __Cleaning__ (ujednolicenie danych, usuwanie danych niepotrzebnych itd.)\n",
    "- Enriching (łączenie danych)\n",
    "- Validating (sprawdzenie poprawności merytorycznej)\n",
    "- Publishing (publikacja wyników)\n",
    "\n",
    "źródło: https://www.onlinewhitepapers.com/information-technology/six-core-data-wrangling-activities/"
   ]
  },
  {
   "cell_type": "markdown",
   "metadata": {},
   "source": [
    "## Tidy Data"
   ]
  },
  {
   "cell_type": "markdown",
   "metadata": {},
   "source": [
    "Wickham, Hadley - _\"Tidy Data\"_\n",
    "https://www.jstatsoft.org/index.php/jss/article/view/v059i10/v59i10.pdf"
   ]
  },
  {
   "cell_type": "markdown",
   "metadata": {},
   "source": [
    "- __Each variable you measure should be in one column.__\n",
    "- __Each different observation of that variable should be in a different row.__\n",
    "- There should be one table for each \"kind\" of variable.\n",
    "- If you have multiple tables, they should include a column in the table that allows them to be linked."
   ]
  },
  {
   "cell_type": "markdown",
   "metadata": {},
   "source": [
    "## Pandas"
   ]
  },
  {
   "cell_type": "markdown",
   "metadata": {},
   "source": [
    "https://pandas.pydata.org/Pandas_Cheat_Sheet.pdf"
   ]
  },
  {
   "cell_type": "code",
   "execution_count": 15,
   "metadata": {},
   "outputs": [],
   "source": [
    "import pandas"
   ]
  },
  {
   "cell_type": "code",
   "execution_count": 16,
   "metadata": {},
   "outputs": [],
   "source": [
    "data = {'year': [2010, 2011, 2012, 2011, 2012, 2010, 2011, 2012],\n",
    "        'team': ['Bears', 'Bears', 'Bears', 'Packers', 'Packers', 'Lions',\n",
    "                 'Lions', 'Lions'],\n",
    "        'wins': [11, 8, 10, 15, 11, 6, 10, 4],\n",
    "        'losses': [5, 8, 6, 1, 5, 10, 6, 12]}"
   ]
  },
  {
   "cell_type": "code",
   "execution_count": 17,
   "metadata": {},
   "outputs": [
    {
     "name": "stdout",
     "output_type": "stream",
     "text": [
      "   year     team  wins  losses\n",
      "0  2010    Bears    11       5\n",
      "1  2011    Bears     8       8\n",
      "2  2012    Bears    10       6\n",
      "3  2011  Packers    15       1\n",
      "4  2012  Packers    11       5\n",
      "5  2010    Lions     6      10\n",
      "6  2011    Lions    10       6\n",
      "7  2012    Lions     4      12\n"
     ]
    }
   ],
   "source": [
    "import pandas \n",
    "\n",
    "football = pandas.DataFrame(data)\n",
    "print (football)"
   ]
  },
  {
   "cell_type": "code",
   "execution_count": 18,
   "metadata": {},
   "outputs": [
    {
     "data": {
      "text/html": [
       "<div>\n",
       "<style scoped>\n",
       "    .dataframe tbody tr th:only-of-type {\n",
       "        vertical-align: middle;\n",
       "    }\n",
       "\n",
       "    .dataframe tbody tr th {\n",
       "        vertical-align: top;\n",
       "    }\n",
       "\n",
       "    .dataframe thead th {\n",
       "        text-align: right;\n",
       "    }\n",
       "</style>\n",
       "<table border=\"1\" class=\"dataframe\">\n",
       "  <thead>\n",
       "    <tr style=\"text-align: right;\">\n",
       "      <th></th>\n",
       "      <th>year</th>\n",
       "      <th>team</th>\n",
       "      <th>wins</th>\n",
       "      <th>losses</th>\n",
       "    </tr>\n",
       "  </thead>\n",
       "  <tbody>\n",
       "    <tr>\n",
       "      <th>0</th>\n",
       "      <td>2010</td>\n",
       "      <td>Bears</td>\n",
       "      <td>11</td>\n",
       "      <td>5</td>\n",
       "    </tr>\n",
       "    <tr>\n",
       "      <th>1</th>\n",
       "      <td>2011</td>\n",
       "      <td>Bears</td>\n",
       "      <td>8</td>\n",
       "      <td>8</td>\n",
       "    </tr>\n",
       "    <tr>\n",
       "      <th>2</th>\n",
       "      <td>2012</td>\n",
       "      <td>Bears</td>\n",
       "      <td>10</td>\n",
       "      <td>6</td>\n",
       "    </tr>\n",
       "    <tr>\n",
       "      <th>3</th>\n",
       "      <td>2011</td>\n",
       "      <td>Packers</td>\n",
       "      <td>15</td>\n",
       "      <td>1</td>\n",
       "    </tr>\n",
       "    <tr>\n",
       "      <th>4</th>\n",
       "      <td>2012</td>\n",
       "      <td>Packers</td>\n",
       "      <td>11</td>\n",
       "      <td>5</td>\n",
       "    </tr>\n",
       "    <tr>\n",
       "      <th>5</th>\n",
       "      <td>2010</td>\n",
       "      <td>Lions</td>\n",
       "      <td>6</td>\n",
       "      <td>10</td>\n",
       "    </tr>\n",
       "    <tr>\n",
       "      <th>6</th>\n",
       "      <td>2011</td>\n",
       "      <td>Lions</td>\n",
       "      <td>10</td>\n",
       "      <td>6</td>\n",
       "    </tr>\n",
       "    <tr>\n",
       "      <th>7</th>\n",
       "      <td>2012</td>\n",
       "      <td>Lions</td>\n",
       "      <td>4</td>\n",
       "      <td>12</td>\n",
       "    </tr>\n",
       "  </tbody>\n",
       "</table>\n",
       "</div>"
      ],
      "text/plain": [
       "   year     team  wins  losses\n",
       "0  2010    Bears    11       5\n",
       "1  2011    Bears     8       8\n",
       "2  2012    Bears    10       6\n",
       "3  2011  Packers    15       1\n",
       "4  2012  Packers    11       5\n",
       "5  2010    Lions     6      10\n",
       "6  2011    Lions    10       6\n",
       "7  2012    Lions     4      12"
      ]
     },
     "execution_count": 18,
     "metadata": {},
     "output_type": "execute_result"
    }
   ],
   "source": [
    "football"
   ]
  },
  {
   "cell_type": "code",
   "execution_count": 19,
   "metadata": {},
   "outputs": [
    {
     "data": {
      "text/html": [
       "<div>\n",
       "<style scoped>\n",
       "    .dataframe tbody tr th:only-of-type {\n",
       "        vertical-align: middle;\n",
       "    }\n",
       "\n",
       "    .dataframe tbody tr th {\n",
       "        vertical-align: top;\n",
       "    }\n",
       "\n",
       "    .dataframe thead th {\n",
       "        text-align: right;\n",
       "    }\n",
       "</style>\n",
       "<table border=\"1\" class=\"dataframe\">\n",
       "  <thead>\n",
       "    <tr style=\"text-align: right;\">\n",
       "      <th></th>\n",
       "      <th>year</th>\n",
       "      <th>wins</th>\n",
       "      <th>losses</th>\n",
       "    </tr>\n",
       "  </thead>\n",
       "  <tbody>\n",
       "    <tr>\n",
       "      <th>count</th>\n",
       "      <td>8.000000</td>\n",
       "      <td>8.000000</td>\n",
       "      <td>8.000000</td>\n",
       "    </tr>\n",
       "    <tr>\n",
       "      <th>mean</th>\n",
       "      <td>2011.125000</td>\n",
       "      <td>9.375000</td>\n",
       "      <td>6.625000</td>\n",
       "    </tr>\n",
       "    <tr>\n",
       "      <th>std</th>\n",
       "      <td>0.834523</td>\n",
       "      <td>3.377975</td>\n",
       "      <td>3.377975</td>\n",
       "    </tr>\n",
       "    <tr>\n",
       "      <th>min</th>\n",
       "      <td>2010.000000</td>\n",
       "      <td>4.000000</td>\n",
       "      <td>1.000000</td>\n",
       "    </tr>\n",
       "    <tr>\n",
       "      <th>25%</th>\n",
       "      <td>2010.750000</td>\n",
       "      <td>7.500000</td>\n",
       "      <td>5.000000</td>\n",
       "    </tr>\n",
       "    <tr>\n",
       "      <th>50%</th>\n",
       "      <td>2011.000000</td>\n",
       "      <td>10.000000</td>\n",
       "      <td>6.000000</td>\n",
       "    </tr>\n",
       "    <tr>\n",
       "      <th>75%</th>\n",
       "      <td>2012.000000</td>\n",
       "      <td>11.000000</td>\n",
       "      <td>8.500000</td>\n",
       "    </tr>\n",
       "    <tr>\n",
       "      <th>max</th>\n",
       "      <td>2012.000000</td>\n",
       "      <td>15.000000</td>\n",
       "      <td>12.000000</td>\n",
       "    </tr>\n",
       "  </tbody>\n",
       "</table>\n",
       "</div>"
      ],
      "text/plain": [
       "              year       wins     losses\n",
       "count     8.000000   8.000000   8.000000\n",
       "mean   2011.125000   9.375000   6.625000\n",
       "std       0.834523   3.377975   3.377975\n",
       "min    2010.000000   4.000000   1.000000\n",
       "25%    2010.750000   7.500000   5.000000\n",
       "50%    2011.000000  10.000000   6.000000\n",
       "75%    2012.000000  11.000000   8.500000\n",
       "max    2012.000000  15.000000  12.000000"
      ]
     },
     "execution_count": 19,
     "metadata": {},
     "output_type": "execute_result"
    }
   ],
   "source": [
    "football.describe()"
   ]
  },
  {
   "cell_type": "code",
   "execution_count": 20,
   "metadata": {},
   "outputs": [
    {
     "data": {
      "text/plain": [
       "year       int64\n",
       "team      object\n",
       "wins       int64\n",
       "losses     int64\n",
       "dtype: object"
      ]
     },
     "execution_count": 20,
     "metadata": {},
     "output_type": "execute_result"
    }
   ],
   "source": [
    "football.dtypes"
   ]
  },
  {
   "cell_type": "code",
   "execution_count": 21,
   "metadata": {},
   "outputs": [
    {
     "data": {
      "text/html": [
       "<div>\n",
       "<style scoped>\n",
       "    .dataframe tbody tr th:only-of-type {\n",
       "        vertical-align: middle;\n",
       "    }\n",
       "\n",
       "    .dataframe tbody tr th {\n",
       "        vertical-align: top;\n",
       "    }\n",
       "\n",
       "    .dataframe thead th {\n",
       "        text-align: right;\n",
       "    }\n",
       "</style>\n",
       "<table border=\"1\" class=\"dataframe\">\n",
       "  <thead>\n",
       "    <tr style=\"text-align: right;\">\n",
       "      <th></th>\n",
       "      <th>year</th>\n",
       "      <th>team</th>\n",
       "      <th>wins</th>\n",
       "      <th>losses</th>\n",
       "    </tr>\n",
       "  </thead>\n",
       "  <tbody>\n",
       "    <tr>\n",
       "      <th>0</th>\n",
       "      <td>2010</td>\n",
       "      <td>Bears</td>\n",
       "      <td>11</td>\n",
       "      <td>5</td>\n",
       "    </tr>\n",
       "    <tr>\n",
       "      <th>1</th>\n",
       "      <td>2011</td>\n",
       "      <td>Bears</td>\n",
       "      <td>8</td>\n",
       "      <td>8</td>\n",
       "    </tr>\n",
       "    <tr>\n",
       "      <th>2</th>\n",
       "      <td>2012</td>\n",
       "      <td>Bears</td>\n",
       "      <td>10</td>\n",
       "      <td>6</td>\n",
       "    </tr>\n",
       "    <tr>\n",
       "      <th>3</th>\n",
       "      <td>2011</td>\n",
       "      <td>Packers</td>\n",
       "      <td>15</td>\n",
       "      <td>1</td>\n",
       "    </tr>\n",
       "    <tr>\n",
       "      <th>4</th>\n",
       "      <td>2012</td>\n",
       "      <td>Packers</td>\n",
       "      <td>11</td>\n",
       "      <td>5</td>\n",
       "    </tr>\n",
       "  </tbody>\n",
       "</table>\n",
       "</div>"
      ],
      "text/plain": [
       "   year     team  wins  losses\n",
       "0  2010    Bears    11       5\n",
       "1  2011    Bears     8       8\n",
       "2  2012    Bears    10       6\n",
       "3  2011  Packers    15       1\n",
       "4  2012  Packers    11       5"
      ]
     },
     "execution_count": 21,
     "metadata": {},
     "output_type": "execute_result"
    }
   ],
   "source": [
    "football.head()"
   ]
  },
  {
   "cell_type": "code",
   "execution_count": 22,
   "metadata": {},
   "outputs": [
    {
     "data": {
      "text/html": [
       "<div>\n",
       "<style scoped>\n",
       "    .dataframe tbody tr th:only-of-type {\n",
       "        vertical-align: middle;\n",
       "    }\n",
       "\n",
       "    .dataframe tbody tr th {\n",
       "        vertical-align: top;\n",
       "    }\n",
       "\n",
       "    .dataframe thead th {\n",
       "        text-align: right;\n",
       "    }\n",
       "</style>\n",
       "<table border=\"1\" class=\"dataframe\">\n",
       "  <thead>\n",
       "    <tr style=\"text-align: right;\">\n",
       "      <th></th>\n",
       "      <th>year</th>\n",
       "      <th>team</th>\n",
       "      <th>wins</th>\n",
       "      <th>losses</th>\n",
       "    </tr>\n",
       "  </thead>\n",
       "  <tbody>\n",
       "    <tr>\n",
       "      <th>3</th>\n",
       "      <td>2011</td>\n",
       "      <td>Packers</td>\n",
       "      <td>15</td>\n",
       "      <td>1</td>\n",
       "    </tr>\n",
       "    <tr>\n",
       "      <th>4</th>\n",
       "      <td>2012</td>\n",
       "      <td>Packers</td>\n",
       "      <td>11</td>\n",
       "      <td>5</td>\n",
       "    </tr>\n",
       "    <tr>\n",
       "      <th>5</th>\n",
       "      <td>2010</td>\n",
       "      <td>Lions</td>\n",
       "      <td>6</td>\n",
       "      <td>10</td>\n",
       "    </tr>\n",
       "    <tr>\n",
       "      <th>6</th>\n",
       "      <td>2011</td>\n",
       "      <td>Lions</td>\n",
       "      <td>10</td>\n",
       "      <td>6</td>\n",
       "    </tr>\n",
       "    <tr>\n",
       "      <th>7</th>\n",
       "      <td>2012</td>\n",
       "      <td>Lions</td>\n",
       "      <td>4</td>\n",
       "      <td>12</td>\n",
       "    </tr>\n",
       "  </tbody>\n",
       "</table>\n",
       "</div>"
      ],
      "text/plain": [
       "   year     team  wins  losses\n",
       "3  2011  Packers    15       1\n",
       "4  2012  Packers    11       5\n",
       "5  2010    Lions     6      10\n",
       "6  2011    Lions    10       6\n",
       "7  2012    Lions     4      12"
      ]
     },
     "execution_count": 22,
     "metadata": {},
     "output_type": "execute_result"
    }
   ],
   "source": [
    "football.tail()"
   ]
  },
  {
   "cell_type": "code",
   "execution_count": 25,
   "metadata": {},
   "outputs": [
    {
     "data": {
      "text/html": [
       "<div>\n",
       "<style scoped>\n",
       "    .dataframe tbody tr th:only-of-type {\n",
       "        vertical-align: middle;\n",
       "    }\n",
       "\n",
       "    .dataframe tbody tr th {\n",
       "        vertical-align: top;\n",
       "    }\n",
       "\n",
       "    .dataframe thead th {\n",
       "        text-align: right;\n",
       "    }\n",
       "</style>\n",
       "<table border=\"1\" class=\"dataframe\">\n",
       "  <thead>\n",
       "    <tr style=\"text-align: right;\">\n",
       "      <th></th>\n",
       "      <th>year</th>\n",
       "      <th>team</th>\n",
       "      <th>wins</th>\n",
       "      <th>losses</th>\n",
       "    </tr>\n",
       "  </thead>\n",
       "  <tbody>\n",
       "    <tr>\n",
       "      <th>4</th>\n",
       "      <td>2012</td>\n",
       "      <td>Packers</td>\n",
       "      <td>11</td>\n",
       "      <td>5</td>\n",
       "    </tr>\n",
       "    <tr>\n",
       "      <th>0</th>\n",
       "      <td>2010</td>\n",
       "      <td>Bears</td>\n",
       "      <td>11</td>\n",
       "      <td>5</td>\n",
       "    </tr>\n",
       "    <tr>\n",
       "      <th>1</th>\n",
       "      <td>2011</td>\n",
       "      <td>Bears</td>\n",
       "      <td>8</td>\n",
       "      <td>8</td>\n",
       "    </tr>\n",
       "    <tr>\n",
       "      <th>6</th>\n",
       "      <td>2011</td>\n",
       "      <td>Lions</td>\n",
       "      <td>10</td>\n",
       "      <td>6</td>\n",
       "    </tr>\n",
       "    <tr>\n",
       "      <th>3</th>\n",
       "      <td>2011</td>\n",
       "      <td>Packers</td>\n",
       "      <td>15</td>\n",
       "      <td>1</td>\n",
       "    </tr>\n",
       "  </tbody>\n",
       "</table>\n",
       "</div>"
      ],
      "text/plain": [
       "   year     team  wins  losses\n",
       "4  2012  Packers    11       5\n",
       "0  2010    Bears    11       5\n",
       "1  2011    Bears     8       8\n",
       "6  2011    Lions    10       6\n",
       "3  2011  Packers    15       1"
      ]
     },
     "execution_count": 25,
     "metadata": {},
     "output_type": "execute_result"
    }
   ],
   "source": [
    "football.sample(5)"
   ]
  },
  {
   "cell_type": "code",
   "execution_count": 26,
   "metadata": {},
   "outputs": [
    {
     "data": {
      "text/plain": [
       "0    2010\n",
       "1    2011\n",
       "2    2012\n",
       "3    2011\n",
       "4    2012\n",
       "5    2010\n",
       "6    2011\n",
       "7    2012\n",
       "Name: year, dtype: int64"
      ]
     },
     "execution_count": 26,
     "metadata": {},
     "output_type": "execute_result"
    }
   ],
   "source": [
    "football['year']"
   ]
  },
  {
   "cell_type": "code",
   "execution_count": 27,
   "metadata": {},
   "outputs": [
    {
     "data": {
      "text/plain": [
       "0    2010\n",
       "1    2011\n",
       "2    2012\n",
       "3    2011\n",
       "4    2012\n",
       "5    2010\n",
       "6    2011\n",
       "7    2012\n",
       "Name: year, dtype: int64"
      ]
     },
     "execution_count": 27,
     "metadata": {},
     "output_type": "execute_result"
    }
   ],
   "source": [
    "football.year"
   ]
  },
  {
   "cell_type": "code",
   "execution_count": 28,
   "metadata": {},
   "outputs": [
    {
     "data": {
      "text/html": [
       "<div>\n",
       "<style scoped>\n",
       "    .dataframe tbody tr th:only-of-type {\n",
       "        vertical-align: middle;\n",
       "    }\n",
       "\n",
       "    .dataframe tbody tr th {\n",
       "        vertical-align: top;\n",
       "    }\n",
       "\n",
       "    .dataframe thead th {\n",
       "        text-align: right;\n",
       "    }\n",
       "</style>\n",
       "<table border=\"1\" class=\"dataframe\">\n",
       "  <thead>\n",
       "    <tr style=\"text-align: right;\">\n",
       "      <th></th>\n",
       "      <th>year</th>\n",
       "      <th>team</th>\n",
       "      <th>wins</th>\n",
       "    </tr>\n",
       "  </thead>\n",
       "  <tbody>\n",
       "    <tr>\n",
       "      <th>0</th>\n",
       "      <td>2010</td>\n",
       "      <td>Bears</td>\n",
       "      <td>11</td>\n",
       "    </tr>\n",
       "    <tr>\n",
       "      <th>1</th>\n",
       "      <td>2011</td>\n",
       "      <td>Bears</td>\n",
       "      <td>8</td>\n",
       "    </tr>\n",
       "    <tr>\n",
       "      <th>2</th>\n",
       "      <td>2012</td>\n",
       "      <td>Bears</td>\n",
       "      <td>10</td>\n",
       "    </tr>\n",
       "    <tr>\n",
       "      <th>3</th>\n",
       "      <td>2011</td>\n",
       "      <td>Packers</td>\n",
       "      <td>15</td>\n",
       "    </tr>\n",
       "    <tr>\n",
       "      <th>4</th>\n",
       "      <td>2012</td>\n",
       "      <td>Packers</td>\n",
       "      <td>11</td>\n",
       "    </tr>\n",
       "    <tr>\n",
       "      <th>5</th>\n",
       "      <td>2010</td>\n",
       "      <td>Lions</td>\n",
       "      <td>6</td>\n",
       "    </tr>\n",
       "    <tr>\n",
       "      <th>6</th>\n",
       "      <td>2011</td>\n",
       "      <td>Lions</td>\n",
       "      <td>10</td>\n",
       "    </tr>\n",
       "    <tr>\n",
       "      <th>7</th>\n",
       "      <td>2012</td>\n",
       "      <td>Lions</td>\n",
       "      <td>4</td>\n",
       "    </tr>\n",
       "  </tbody>\n",
       "</table>\n",
       "</div>"
      ],
      "text/plain": [
       "   year     team  wins\n",
       "0  2010    Bears    11\n",
       "1  2011    Bears     8\n",
       "2  2012    Bears    10\n",
       "3  2011  Packers    15\n",
       "4  2012  Packers    11\n",
       "5  2010    Lions     6\n",
       "6  2011    Lions    10\n",
       "7  2012    Lions     4"
      ]
     },
     "execution_count": 28,
     "metadata": {},
     "output_type": "execute_result"
    }
   ],
   "source": [
    "football[['year', 'team', 'wins']]"
   ]
  },
  {
   "cell_type": "markdown",
   "metadata": {},
   "source": [
    "---\n",
    "\n",
    "## Row Selection\n",
    "### Wybieranie wierszy\n",
    "\n",
    "1. Slicing\n",
    "2. Individual index (iloc / loc)\n",
    "3. Boolean indexing\n",
    "4. Combination"
   ]
  },
  {
   "cell_type": "markdown",
   "metadata": {},
   "source": [
    "### Slicing"
   ]
  },
  {
   "cell_type": "code",
   "execution_count": 29,
   "metadata": {},
   "outputs": [
    {
     "data": {
      "text/html": [
       "<div>\n",
       "<style scoped>\n",
       "    .dataframe tbody tr th:only-of-type {\n",
       "        vertical-align: middle;\n",
       "    }\n",
       "\n",
       "    .dataframe tbody tr th {\n",
       "        vertical-align: top;\n",
       "    }\n",
       "\n",
       "    .dataframe thead th {\n",
       "        text-align: right;\n",
       "    }\n",
       "</style>\n",
       "<table border=\"1\" class=\"dataframe\">\n",
       "  <thead>\n",
       "    <tr style=\"text-align: right;\">\n",
       "      <th></th>\n",
       "      <th>year</th>\n",
       "      <th>team</th>\n",
       "      <th>wins</th>\n",
       "      <th>losses</th>\n",
       "    </tr>\n",
       "  </thead>\n",
       "  <tbody>\n",
       "    <tr>\n",
       "      <th>0</th>\n",
       "      <td>2010</td>\n",
       "      <td>Bears</td>\n",
       "      <td>11</td>\n",
       "      <td>5</td>\n",
       "    </tr>\n",
       "    <tr>\n",
       "      <th>1</th>\n",
       "      <td>2011</td>\n",
       "      <td>Bears</td>\n",
       "      <td>8</td>\n",
       "      <td>8</td>\n",
       "    </tr>\n",
       "    <tr>\n",
       "      <th>2</th>\n",
       "      <td>2012</td>\n",
       "      <td>Bears</td>\n",
       "      <td>10</td>\n",
       "      <td>6</td>\n",
       "    </tr>\n",
       "    <tr>\n",
       "      <th>3</th>\n",
       "      <td>2011</td>\n",
       "      <td>Packers</td>\n",
       "      <td>15</td>\n",
       "      <td>1</td>\n",
       "    </tr>\n",
       "    <tr>\n",
       "      <th>4</th>\n",
       "      <td>2012</td>\n",
       "      <td>Packers</td>\n",
       "      <td>11</td>\n",
       "      <td>5</td>\n",
       "    </tr>\n",
       "    <tr>\n",
       "      <th>5</th>\n",
       "      <td>2010</td>\n",
       "      <td>Lions</td>\n",
       "      <td>6</td>\n",
       "      <td>10</td>\n",
       "    </tr>\n",
       "    <tr>\n",
       "      <th>6</th>\n",
       "      <td>2011</td>\n",
       "      <td>Lions</td>\n",
       "      <td>10</td>\n",
       "      <td>6</td>\n",
       "    </tr>\n",
       "    <tr>\n",
       "      <th>7</th>\n",
       "      <td>2012</td>\n",
       "      <td>Lions</td>\n",
       "      <td>4</td>\n",
       "      <td>12</td>\n",
       "    </tr>\n",
       "  </tbody>\n",
       "</table>\n",
       "</div>"
      ],
      "text/plain": [
       "   year     team  wins  losses\n",
       "0  2010    Bears    11       5\n",
       "1  2011    Bears     8       8\n",
       "2  2012    Bears    10       6\n",
       "3  2011  Packers    15       1\n",
       "4  2012  Packers    11       5\n",
       "5  2010    Lions     6      10\n",
       "6  2011    Lions    10       6\n",
       "7  2012    Lions     4      12"
      ]
     },
     "execution_count": 29,
     "metadata": {},
     "output_type": "execute_result"
    }
   ],
   "source": [
    "football"
   ]
  },
  {
   "cell_type": "code",
   "execution_count": 30,
   "metadata": {},
   "outputs": [
    {
     "data": {
      "text/html": [
       "<div>\n",
       "<style scoped>\n",
       "    .dataframe tbody tr th:only-of-type {\n",
       "        vertical-align: middle;\n",
       "    }\n",
       "\n",
       "    .dataframe tbody tr th {\n",
       "        vertical-align: top;\n",
       "    }\n",
       "\n",
       "    .dataframe thead th {\n",
       "        text-align: right;\n",
       "    }\n",
       "</style>\n",
       "<table border=\"1\" class=\"dataframe\">\n",
       "  <thead>\n",
       "    <tr style=\"text-align: right;\">\n",
       "      <th></th>\n",
       "      <th>year</th>\n",
       "      <th>team</th>\n",
       "      <th>wins</th>\n",
       "      <th>losses</th>\n",
       "    </tr>\n",
       "  </thead>\n",
       "  <tbody>\n",
       "    <tr>\n",
       "      <th>3</th>\n",
       "      <td>2011</td>\n",
       "      <td>Packers</td>\n",
       "      <td>15</td>\n",
       "      <td>1</td>\n",
       "    </tr>\n",
       "    <tr>\n",
       "      <th>4</th>\n",
       "      <td>2012</td>\n",
       "      <td>Packers</td>\n",
       "      <td>11</td>\n",
       "      <td>5</td>\n",
       "    </tr>\n",
       "  </tbody>\n",
       "</table>\n",
       "</div>"
      ],
      "text/plain": [
       "   year     team  wins  losses\n",
       "3  2011  Packers    15       1\n",
       "4  2012  Packers    11       5"
      ]
     },
     "execution_count": 30,
     "metadata": {},
     "output_type": "execute_result"
    }
   ],
   "source": [
    "football[3:5]"
   ]
  },
  {
   "cell_type": "markdown",
   "metadata": {},
   "source": [
    "### Individual index"
   ]
  },
  {
   "cell_type": "markdown",
   "metadata": {},
   "source": [
    "### Iloc\n",
    "- An integer, e.g. 5.\n",
    "- A list or array of integers, e.g. [4, 3, 0].\n",
    "- A slice object with ints, e.g. 1:7.\n",
    "- A boolean array.\n",
    "- A function"
   ]
  },
  {
   "cell_type": "code",
   "execution_count": 31,
   "metadata": {},
   "outputs": [
    {
     "data": {
      "text/html": [
       "<div>\n",
       "<style scoped>\n",
       "    .dataframe tbody tr th:only-of-type {\n",
       "        vertical-align: middle;\n",
       "    }\n",
       "\n",
       "    .dataframe tbody tr th {\n",
       "        vertical-align: top;\n",
       "    }\n",
       "\n",
       "    .dataframe thead th {\n",
       "        text-align: right;\n",
       "    }\n",
       "</style>\n",
       "<table border=\"1\" class=\"dataframe\">\n",
       "  <thead>\n",
       "    <tr style=\"text-align: right;\">\n",
       "      <th></th>\n",
       "      <th>year</th>\n",
       "      <th>team</th>\n",
       "      <th>wins</th>\n",
       "      <th>losses</th>\n",
       "    </tr>\n",
       "  </thead>\n",
       "  <tbody>\n",
       "    <tr>\n",
       "      <th>0</th>\n",
       "      <td>2010</td>\n",
       "      <td>Bears</td>\n",
       "      <td>11</td>\n",
       "      <td>5</td>\n",
       "    </tr>\n",
       "    <tr>\n",
       "      <th>3</th>\n",
       "      <td>2011</td>\n",
       "      <td>Packers</td>\n",
       "      <td>15</td>\n",
       "      <td>1</td>\n",
       "    </tr>\n",
       "  </tbody>\n",
       "</table>\n",
       "</div>"
      ],
      "text/plain": [
       "   year     team  wins  losses\n",
       "0  2010    Bears    11       5\n",
       "3  2011  Packers    15       1"
      ]
     },
     "execution_count": 31,
     "metadata": {},
     "output_type": "execute_result"
    }
   ],
   "source": [
    "football.iloc[[0,3]]"
   ]
  },
  {
   "cell_type": "markdown",
   "metadata": {},
   "source": [
    "### Loc\n",
    "- A single label\n",
    "- A list or array of labels, e.g. ['a', 'b', 'c'].\n",
    "- A slice object with labels, e.g. 'a':'f' __(WARNING - both the start and the stop are included)__ \n",
    "- A boolean array\n",
    "- A callable function "
   ]
  },
  {
   "cell_type": "code",
   "execution_count": 32,
   "metadata": {},
   "outputs": [
    {
     "data": {
      "text/html": [
       "<div>\n",
       "<style scoped>\n",
       "    .dataframe tbody tr th:only-of-type {\n",
       "        vertical-align: middle;\n",
       "    }\n",
       "\n",
       "    .dataframe tbody tr th {\n",
       "        vertical-align: top;\n",
       "    }\n",
       "\n",
       "    .dataframe thead th {\n",
       "        text-align: right;\n",
       "    }\n",
       "</style>\n",
       "<table border=\"1\" class=\"dataframe\">\n",
       "  <thead>\n",
       "    <tr style=\"text-align: right;\">\n",
       "      <th></th>\n",
       "      <th>A</th>\n",
       "      <th>B</th>\n",
       "      <th>C</th>\n",
       "    </tr>\n",
       "  </thead>\n",
       "  <tbody>\n",
       "    <tr>\n",
       "      <th>2000-01-01</th>\n",
       "      <td>-1.095227</td>\n",
       "      <td>-2.173282</td>\n",
       "      <td>-0.367219</td>\n",
       "    </tr>\n",
       "    <tr>\n",
       "      <th>2000-01-02</th>\n",
       "      <td>0.660062</td>\n",
       "      <td>1.540461</td>\n",
       "      <td>-0.745741</td>\n",
       "    </tr>\n",
       "    <tr>\n",
       "      <th>2000-01-03</th>\n",
       "      <td>2.088378</td>\n",
       "      <td>-1.045437</td>\n",
       "      <td>-0.217719</td>\n",
       "    </tr>\n",
       "    <tr>\n",
       "      <th>2000-01-04</th>\n",
       "      <td>1.834816</td>\n",
       "      <td>-1.605575</td>\n",
       "      <td>1.697272</td>\n",
       "    </tr>\n",
       "    <tr>\n",
       "      <th>2000-01-05</th>\n",
       "      <td>0.079391</td>\n",
       "      <td>1.598117</td>\n",
       "      <td>0.709488</td>\n",
       "    </tr>\n",
       "    <tr>\n",
       "      <th>2000-01-06</th>\n",
       "      <td>-0.240125</td>\n",
       "      <td>-0.847581</td>\n",
       "      <td>-1.171186</td>\n",
       "    </tr>\n",
       "    <tr>\n",
       "      <th>2000-01-07</th>\n",
       "      <td>0.958691</td>\n",
       "      <td>1.141735</td>\n",
       "      <td>0.131745</td>\n",
       "    </tr>\n",
       "    <tr>\n",
       "      <th>2000-01-08</th>\n",
       "      <td>1.799966</td>\n",
       "      <td>-0.915102</td>\n",
       "      <td>-0.153541</td>\n",
       "    </tr>\n",
       "  </tbody>\n",
       "</table>\n",
       "</div>"
      ],
      "text/plain": [
       "                   A         B         C\n",
       "2000-01-01 -1.095227 -2.173282 -0.367219\n",
       "2000-01-02  0.660062  1.540461 -0.745741\n",
       "2000-01-03  2.088378 -1.045437 -0.217719\n",
       "2000-01-04  1.834816 -1.605575  1.697272\n",
       "2000-01-05  0.079391  1.598117  0.709488\n",
       "2000-01-06 -0.240125 -0.847581 -1.171186\n",
       "2000-01-07  0.958691  1.141735  0.131745\n",
       "2000-01-08  1.799966 -0.915102 -0.153541"
      ]
     },
     "execution_count": 32,
     "metadata": {},
     "output_type": "execute_result"
    }
   ],
   "source": [
    "import numpy as np\n",
    "import pandas as pd\n",
    "\n",
    "index = pd.date_range('1/1/2000', periods=8)\n",
    "df = pd.DataFrame(np.random.randn(8, 3), index=index, columns=['A', 'B', 'C'])\n",
    "df"
   ]
  },
  {
   "cell_type": "code",
   "execution_count": 33,
   "metadata": {},
   "outputs": [
    {
     "data": {
      "text/plain": [
       "A    2.088378\n",
       "B   -1.045437\n",
       "C   -0.217719\n",
       "Name: 2000-01-03 00:00:00, dtype: float64"
      ]
     },
     "execution_count": 33,
     "metadata": {},
     "output_type": "execute_result"
    }
   ],
   "source": [
    "df.loc['2000-01-03']"
   ]
  },
  {
   "cell_type": "code",
   "execution_count": 34,
   "metadata": {},
   "outputs": [
    {
     "data": {
      "text/html": [
       "<div>\n",
       "<style scoped>\n",
       "    .dataframe tbody tr th:only-of-type {\n",
       "        vertical-align: middle;\n",
       "    }\n",
       "\n",
       "    .dataframe tbody tr th {\n",
       "        vertical-align: top;\n",
       "    }\n",
       "\n",
       "    .dataframe thead th {\n",
       "        text-align: right;\n",
       "    }\n",
       "</style>\n",
       "<table border=\"1\" class=\"dataframe\">\n",
       "  <thead>\n",
       "    <tr style=\"text-align: right;\">\n",
       "      <th></th>\n",
       "      <th>A</th>\n",
       "      <th>B</th>\n",
       "      <th>C</th>\n",
       "    </tr>\n",
       "  </thead>\n",
       "  <tbody>\n",
       "    <tr>\n",
       "      <th>2000-01-03</th>\n",
       "      <td>2.088378</td>\n",
       "      <td>-1.045437</td>\n",
       "      <td>-0.217719</td>\n",
       "    </tr>\n",
       "    <tr>\n",
       "      <th>2000-01-04</th>\n",
       "      <td>1.834816</td>\n",
       "      <td>-1.605575</td>\n",
       "      <td>1.697272</td>\n",
       "    </tr>\n",
       "  </tbody>\n",
       "</table>\n",
       "</div>"
      ],
      "text/plain": [
       "                   A         B         C\n",
       "2000-01-03  2.088378 -1.045437 -0.217719\n",
       "2000-01-04  1.834816 -1.605575  1.697272"
      ]
     },
     "execution_count": 34,
     "metadata": {},
     "output_type": "execute_result"
    }
   ],
   "source": [
    "df.loc['2000-01-03': '2000-01-04'] "
   ]
  },
  {
   "cell_type": "markdown",
   "metadata": {},
   "source": [
    "### Boolean indexing"
   ]
  },
  {
   "cell_type": "code",
   "execution_count": 35,
   "metadata": {},
   "outputs": [
    {
     "data": {
      "text/html": [
       "<div>\n",
       "<style scoped>\n",
       "    .dataframe tbody tr th:only-of-type {\n",
       "        vertical-align: middle;\n",
       "    }\n",
       "\n",
       "    .dataframe tbody tr th {\n",
       "        vertical-align: top;\n",
       "    }\n",
       "\n",
       "    .dataframe thead th {\n",
       "        text-align: right;\n",
       "    }\n",
       "</style>\n",
       "<table border=\"1\" class=\"dataframe\">\n",
       "  <thead>\n",
       "    <tr style=\"text-align: right;\">\n",
       "      <th></th>\n",
       "      <th>year</th>\n",
       "      <th>team</th>\n",
       "      <th>wins</th>\n",
       "      <th>losses</th>\n",
       "    </tr>\n",
       "  </thead>\n",
       "  <tbody>\n",
       "    <tr>\n",
       "      <th>0</th>\n",
       "      <td>2010</td>\n",
       "      <td>Bears</td>\n",
       "      <td>11</td>\n",
       "      <td>5</td>\n",
       "    </tr>\n",
       "    <tr>\n",
       "      <th>3</th>\n",
       "      <td>2011</td>\n",
       "      <td>Packers</td>\n",
       "      <td>15</td>\n",
       "      <td>1</td>\n",
       "    </tr>\n",
       "    <tr>\n",
       "      <th>4</th>\n",
       "      <td>2012</td>\n",
       "      <td>Packers</td>\n",
       "      <td>11</td>\n",
       "      <td>5</td>\n",
       "    </tr>\n",
       "  </tbody>\n",
       "</table>\n",
       "</div>"
      ],
      "text/plain": [
       "   year     team  wins  losses\n",
       "0  2010    Bears    11       5\n",
       "3  2011  Packers    15       1\n",
       "4  2012  Packers    11       5"
      ]
     },
     "execution_count": 35,
     "metadata": {},
     "output_type": "execute_result"
    }
   ],
   "source": [
    "football[football.wins > 10]"
   ]
  },
  {
   "cell_type": "markdown",
   "metadata": {},
   "source": [
    "### Combination"
   ]
  },
  {
   "cell_type": "code",
   "execution_count": 36,
   "metadata": {},
   "outputs": [
    {
     "data": {
      "text/html": [
       "<div>\n",
       "<style scoped>\n",
       "    .dataframe tbody tr th:only-of-type {\n",
       "        vertical-align: middle;\n",
       "    }\n",
       "\n",
       "    .dataframe tbody tr th {\n",
       "        vertical-align: top;\n",
       "    }\n",
       "\n",
       "    .dataframe thead th {\n",
       "        text-align: right;\n",
       "    }\n",
       "</style>\n",
       "<table border=\"1\" class=\"dataframe\">\n",
       "  <thead>\n",
       "    <tr style=\"text-align: right;\">\n",
       "      <th></th>\n",
       "      <th>year</th>\n",
       "      <th>team</th>\n",
       "      <th>wins</th>\n",
       "      <th>losses</th>\n",
       "    </tr>\n",
       "  </thead>\n",
       "  <tbody>\n",
       "    <tr>\n",
       "      <th>0</th>\n",
       "      <td>2010</td>\n",
       "      <td>Bears</td>\n",
       "      <td>11</td>\n",
       "      <td>5</td>\n",
       "    </tr>\n",
       "    <tr>\n",
       "      <th>1</th>\n",
       "      <td>2011</td>\n",
       "      <td>Bears</td>\n",
       "      <td>8</td>\n",
       "      <td>8</td>\n",
       "    </tr>\n",
       "    <tr>\n",
       "      <th>2</th>\n",
       "      <td>2012</td>\n",
       "      <td>Bears</td>\n",
       "      <td>10</td>\n",
       "      <td>6</td>\n",
       "    </tr>\n",
       "    <tr>\n",
       "      <th>3</th>\n",
       "      <td>2011</td>\n",
       "      <td>Packers</td>\n",
       "      <td>15</td>\n",
       "      <td>1</td>\n",
       "    </tr>\n",
       "    <tr>\n",
       "      <th>4</th>\n",
       "      <td>2012</td>\n",
       "      <td>Packers</td>\n",
       "      <td>11</td>\n",
       "      <td>5</td>\n",
       "    </tr>\n",
       "    <tr>\n",
       "      <th>5</th>\n",
       "      <td>2010</td>\n",
       "      <td>Lions</td>\n",
       "      <td>6</td>\n",
       "      <td>10</td>\n",
       "    </tr>\n",
       "    <tr>\n",
       "      <th>6</th>\n",
       "      <td>2011</td>\n",
       "      <td>Lions</td>\n",
       "      <td>10</td>\n",
       "      <td>6</td>\n",
       "    </tr>\n",
       "    <tr>\n",
       "      <th>7</th>\n",
       "      <td>2012</td>\n",
       "      <td>Lions</td>\n",
       "      <td>4</td>\n",
       "      <td>12</td>\n",
       "    </tr>\n",
       "  </tbody>\n",
       "</table>\n",
       "</div>"
      ],
      "text/plain": [
       "   year     team  wins  losses\n",
       "0  2010    Bears    11       5\n",
       "1  2011    Bears     8       8\n",
       "2  2012    Bears    10       6\n",
       "3  2011  Packers    15       1\n",
       "4  2012  Packers    11       5\n",
       "5  2010    Lions     6      10\n",
       "6  2011    Lions    10       6\n",
       "7  2012    Lions     4      12"
      ]
     },
     "execution_count": 36,
     "metadata": {},
     "output_type": "execute_result"
    }
   ],
   "source": [
    "football"
   ]
  },
  {
   "cell_type": "code",
   "execution_count": 37,
   "metadata": {},
   "outputs": [
    {
     "data": {
      "text/html": [
       "<div>\n",
       "<style scoped>\n",
       "    .dataframe tbody tr th:only-of-type {\n",
       "        vertical-align: middle;\n",
       "    }\n",
       "\n",
       "    .dataframe tbody tr th {\n",
       "        vertical-align: top;\n",
       "    }\n",
       "\n",
       "    .dataframe thead th {\n",
       "        text-align: right;\n",
       "    }\n",
       "</style>\n",
       "<table border=\"1\" class=\"dataframe\">\n",
       "  <thead>\n",
       "    <tr style=\"text-align: right;\">\n",
       "      <th></th>\n",
       "      <th>year</th>\n",
       "      <th>team</th>\n",
       "      <th>wins</th>\n",
       "      <th>losses</th>\n",
       "    </tr>\n",
       "  </thead>\n",
       "  <tbody>\n",
       "    <tr>\n",
       "      <th>3</th>\n",
       "      <td>2011</td>\n",
       "      <td>Packers</td>\n",
       "      <td>15</td>\n",
       "      <td>1</td>\n",
       "    </tr>\n",
       "    <tr>\n",
       "      <th>4</th>\n",
       "      <td>2012</td>\n",
       "      <td>Packers</td>\n",
       "      <td>11</td>\n",
       "      <td>5</td>\n",
       "    </tr>\n",
       "  </tbody>\n",
       "</table>\n",
       "</div>"
      ],
      "text/plain": [
       "   year     team  wins  losses\n",
       "3  2011  Packers    15       1\n",
       "4  2012  Packers    11       5"
      ]
     },
     "execution_count": 37,
     "metadata": {},
     "output_type": "execute_result"
    }
   ],
   "source": [
    "football[(football.wins > 10) & (football.team == \"Packers\")]"
   ]
  },
  {
   "cell_type": "code",
   "execution_count": 38,
   "metadata": {},
   "outputs": [
    {
     "data": {
      "text/html": [
       "<div>\n",
       "<style scoped>\n",
       "    .dataframe tbody tr th:only-of-type {\n",
       "        vertical-align: middle;\n",
       "    }\n",
       "\n",
       "    .dataframe tbody tr th {\n",
       "        vertical-align: top;\n",
       "    }\n",
       "\n",
       "    .dataframe thead th {\n",
       "        text-align: right;\n",
       "    }\n",
       "</style>\n",
       "<table border=\"1\" class=\"dataframe\">\n",
       "  <thead>\n",
       "    <tr style=\"text-align: right;\">\n",
       "      <th></th>\n",
       "      <th>year</th>\n",
       "      <th>team</th>\n",
       "      <th>wins</th>\n",
       "      <th>losses</th>\n",
       "    </tr>\n",
       "  </thead>\n",
       "  <tbody>\n",
       "    <tr>\n",
       "      <th>0</th>\n",
       "      <td>2010</td>\n",
       "      <td>Bears</td>\n",
       "      <td>11</td>\n",
       "      <td>5</td>\n",
       "    </tr>\n",
       "    <tr>\n",
       "      <th>3</th>\n",
       "      <td>2011</td>\n",
       "      <td>Packers</td>\n",
       "      <td>15</td>\n",
       "      <td>1</td>\n",
       "    </tr>\n",
       "    <tr>\n",
       "      <th>4</th>\n",
       "      <td>2012</td>\n",
       "      <td>Packers</td>\n",
       "      <td>11</td>\n",
       "      <td>5</td>\n",
       "    </tr>\n",
       "  </tbody>\n",
       "</table>\n",
       "</div>"
      ],
      "text/plain": [
       "   year     team  wins  losses\n",
       "0  2010    Bears    11       5\n",
       "3  2011  Packers    15       1\n",
       "4  2012  Packers    11       5"
      ]
     },
     "execution_count": 38,
     "metadata": {},
     "output_type": "execute_result"
    }
   ],
   "source": [
    "football[(football.wins > 10) | (football.team == \"Packers\")]"
   ]
  },
  {
   "cell_type": "markdown",
   "metadata": {},
   "source": [
    "***\n",
    "\n",
    "## Formatowanie"
   ]
  },
  {
   "cell_type": "code",
   "execution_count": 39,
   "metadata": {},
   "outputs": [
    {
     "data": {
      "text/html": [
       "<div>\n",
       "<style scoped>\n",
       "    .dataframe tbody tr th:only-of-type {\n",
       "        vertical-align: middle;\n",
       "    }\n",
       "\n",
       "    .dataframe tbody tr th {\n",
       "        vertical-align: top;\n",
       "    }\n",
       "\n",
       "    .dataframe thead th {\n",
       "        text-align: right;\n",
       "    }\n",
       "</style>\n",
       "<table border=\"1\" class=\"dataframe\">\n",
       "  <thead>\n",
       "    <tr style=\"text-align: right;\">\n",
       "      <th></th>\n",
       "      <th>A</th>\n",
       "      <th>B</th>\n",
       "      <th>C</th>\n",
       "    </tr>\n",
       "  </thead>\n",
       "  <tbody>\n",
       "    <tr>\n",
       "      <th>2000-01-01</th>\n",
       "      <td>-0.905308</td>\n",
       "      <td>-0.393136</td>\n",
       "      <td>-1.003778</td>\n",
       "    </tr>\n",
       "    <tr>\n",
       "      <th>2000-01-02</th>\n",
       "      <td>-0.470104</td>\n",
       "      <td>-0.769813</td>\n",
       "      <td>-0.456002</td>\n",
       "    </tr>\n",
       "    <tr>\n",
       "      <th>2000-01-03</th>\n",
       "      <td>-0.560115</td>\n",
       "      <td>0.086272</td>\n",
       "      <td>-0.725329</td>\n",
       "    </tr>\n",
       "    <tr>\n",
       "      <th>2000-01-04</th>\n",
       "      <td>0.959598</td>\n",
       "      <td>1.296840</td>\n",
       "      <td>-1.868739</td>\n",
       "    </tr>\n",
       "    <tr>\n",
       "      <th>2000-01-05</th>\n",
       "      <td>0.115898</td>\n",
       "      <td>-1.240031</td>\n",
       "      <td>-1.615287</td>\n",
       "    </tr>\n",
       "    <tr>\n",
       "      <th>2000-01-06</th>\n",
       "      <td>-0.012749</td>\n",
       "      <td>1.930775</td>\n",
       "      <td>1.321410</td>\n",
       "    </tr>\n",
       "    <tr>\n",
       "      <th>2000-01-07</th>\n",
       "      <td>-0.029404</td>\n",
       "      <td>-0.186048</td>\n",
       "      <td>1.017959</td>\n",
       "    </tr>\n",
       "    <tr>\n",
       "      <th>2000-01-08</th>\n",
       "      <td>-0.174316</td>\n",
       "      <td>-0.079513</td>\n",
       "      <td>-0.393982</td>\n",
       "    </tr>\n",
       "  </tbody>\n",
       "</table>\n",
       "</div>"
      ],
      "text/plain": [
       "                   A         B         C\n",
       "2000-01-01 -0.905308 -0.393136 -1.003778\n",
       "2000-01-02 -0.470104 -0.769813 -0.456002\n",
       "2000-01-03 -0.560115  0.086272 -0.725329\n",
       "2000-01-04  0.959598  1.296840 -1.868739\n",
       "2000-01-05  0.115898 -1.240031 -1.615287\n",
       "2000-01-06 -0.012749  1.930775  1.321410\n",
       "2000-01-07 -0.029404 -0.186048  1.017959\n",
       "2000-01-08 -0.174316 -0.079513 -0.393982"
      ]
     },
     "execution_count": 39,
     "metadata": {},
     "output_type": "execute_result"
    }
   ],
   "source": [
    "import numpy as np\n",
    "import pandas as pd\n",
    "\n",
    "index = pd.date_range('1/1/2000', periods=8)\n",
    "df = pd.DataFrame(np.random.randn(8, 3), index=index, columns=['A', 'B', 'C'])\n",
    "df"
   ]
  },
  {
   "cell_type": "code",
   "execution_count": 40,
   "metadata": {},
   "outputs": [
    {
     "data": {
      "text/plain": [
       "array([[-0.90530761, -0.39313558, -1.00377824],\n",
       "       [-0.47010366, -0.76981267, -0.45600241],\n",
       "       [-0.56011454,  0.08627152, -0.72532857],\n",
       "       [ 0.95959834,  1.29684027, -1.86873902],\n",
       "       [ 0.11589781, -1.24003116, -1.6152871 ],\n",
       "       [-0.01274867,  1.93077512,  1.32140961],\n",
       "       [-0.02940415, -0.18604793,  1.01795863],\n",
       "       [-0.17431648, -0.07951308, -0.39398244]])"
      ]
     },
     "execution_count": 40,
     "metadata": {},
     "output_type": "execute_result"
    }
   ],
   "source": [
    "df.values"
   ]
  },
  {
   "cell_type": "code",
   "execution_count": 41,
   "metadata": {},
   "outputs": [
    {
     "data": {
      "text/plain": [
       "DatetimeIndex(['2000-01-01', '2000-01-02', '2000-01-03', '2000-01-04',\n",
       "               '2000-01-05', '2000-01-06', '2000-01-07', '2000-01-08'],\n",
       "              dtype='datetime64[ns]', freq='D')"
      ]
     },
     "execution_count": 41,
     "metadata": {},
     "output_type": "execute_result"
    }
   ],
   "source": [
    "df.index"
   ]
  },
  {
   "cell_type": "code",
   "execution_count": 42,
   "metadata": {},
   "outputs": [
    {
     "data": {
      "text/plain": [
       "Index(['A', 'B', 'C'], dtype='object')"
      ]
     },
     "execution_count": 42,
     "metadata": {},
     "output_type": "execute_result"
    }
   ],
   "source": [
    "df.columns"
   ]
  },
  {
   "cell_type": "code",
   "execution_count": 43,
   "metadata": {},
   "outputs": [],
   "source": [
    "newcols = []\n",
    "for i in range(len(df.columns)):\n",
    "    newcols.append(df.columns[i].lower())\n",
    "df.columns = newcols"
   ]
  },
  {
   "cell_type": "code",
   "execution_count": 44,
   "metadata": {},
   "outputs": [
    {
     "data": {
      "text/html": [
       "<div>\n",
       "<style scoped>\n",
       "    .dataframe tbody tr th:only-of-type {\n",
       "        vertical-align: middle;\n",
       "    }\n",
       "\n",
       "    .dataframe tbody tr th {\n",
       "        vertical-align: top;\n",
       "    }\n",
       "\n",
       "    .dataframe thead th {\n",
       "        text-align: right;\n",
       "    }\n",
       "</style>\n",
       "<table border=\"1\" class=\"dataframe\">\n",
       "  <thead>\n",
       "    <tr style=\"text-align: right;\">\n",
       "      <th></th>\n",
       "      <th>a</th>\n",
       "      <th>b</th>\n",
       "      <th>c</th>\n",
       "    </tr>\n",
       "  </thead>\n",
       "  <tbody>\n",
       "    <tr>\n",
       "      <th>2000-01-01</th>\n",
       "      <td>-0.905308</td>\n",
       "      <td>-0.393136</td>\n",
       "      <td>-1.003778</td>\n",
       "    </tr>\n",
       "    <tr>\n",
       "      <th>2000-01-02</th>\n",
       "      <td>-0.470104</td>\n",
       "      <td>-0.769813</td>\n",
       "      <td>-0.456002</td>\n",
       "    </tr>\n",
       "    <tr>\n",
       "      <th>2000-01-03</th>\n",
       "      <td>-0.560115</td>\n",
       "      <td>0.086272</td>\n",
       "      <td>-0.725329</td>\n",
       "    </tr>\n",
       "    <tr>\n",
       "      <th>2000-01-04</th>\n",
       "      <td>0.959598</td>\n",
       "      <td>1.296840</td>\n",
       "      <td>-1.868739</td>\n",
       "    </tr>\n",
       "    <tr>\n",
       "      <th>2000-01-05</th>\n",
       "      <td>0.115898</td>\n",
       "      <td>-1.240031</td>\n",
       "      <td>-1.615287</td>\n",
       "    </tr>\n",
       "    <tr>\n",
       "      <th>2000-01-06</th>\n",
       "      <td>-0.012749</td>\n",
       "      <td>1.930775</td>\n",
       "      <td>1.321410</td>\n",
       "    </tr>\n",
       "    <tr>\n",
       "      <th>2000-01-07</th>\n",
       "      <td>-0.029404</td>\n",
       "      <td>-0.186048</td>\n",
       "      <td>1.017959</td>\n",
       "    </tr>\n",
       "    <tr>\n",
       "      <th>2000-01-08</th>\n",
       "      <td>-0.174316</td>\n",
       "      <td>-0.079513</td>\n",
       "      <td>-0.393982</td>\n",
       "    </tr>\n",
       "  </tbody>\n",
       "</table>\n",
       "</div>"
      ],
      "text/plain": [
       "                   a         b         c\n",
       "2000-01-01 -0.905308 -0.393136 -1.003778\n",
       "2000-01-02 -0.470104 -0.769813 -0.456002\n",
       "2000-01-03 -0.560115  0.086272 -0.725329\n",
       "2000-01-04  0.959598  1.296840 -1.868739\n",
       "2000-01-05  0.115898 -1.240031 -1.615287\n",
       "2000-01-06 -0.012749  1.930775  1.321410\n",
       "2000-01-07 -0.029404 -0.186048  1.017959\n",
       "2000-01-08 -0.174316 -0.079513 -0.393982"
      ]
     },
     "execution_count": 44,
     "metadata": {},
     "output_type": "execute_result"
    }
   ],
   "source": [
    "df"
   ]
  },
  {
   "cell_type": "code",
   "execution_count": 45,
   "metadata": {},
   "outputs": [
    {
     "data": {
      "text/html": [
       "<style type=\"text/css\">\n",
       "</style>\n",
       "<table id=\"T_d165c_\">\n",
       "  <thead>\n",
       "    <tr>\n",
       "      <th class=\"blank level0\" >&nbsp;</th>\n",
       "      <th class=\"col_heading level0 col0\" >a</th>\n",
       "      <th class=\"col_heading level0 col1\" >b</th>\n",
       "      <th class=\"col_heading level0 col2\" >c</th>\n",
       "    </tr>\n",
       "  </thead>\n",
       "  <tbody>\n",
       "    <tr>\n",
       "      <th id=\"T_d165c_level0_row0\" class=\"row_heading level0 row0\" >2000-01-01 00:00:00</th>\n",
       "      <td id=\"T_d165c_row0_col0\" class=\"data row0 col0\" >-0.905308</td>\n",
       "      <td id=\"T_d165c_row0_col1\" class=\"data row0 col1\" >-0.393136</td>\n",
       "      <td id=\"T_d165c_row0_col2\" class=\"data row0 col2\" >-1.003778</td>\n",
       "    </tr>\n",
       "    <tr>\n",
       "      <th id=\"T_d165c_level0_row1\" class=\"row_heading level0 row1\" >2000-01-02 00:00:00</th>\n",
       "      <td id=\"T_d165c_row1_col0\" class=\"data row1 col0\" >-0.470104</td>\n",
       "      <td id=\"T_d165c_row1_col1\" class=\"data row1 col1\" >-0.769813</td>\n",
       "      <td id=\"T_d165c_row1_col2\" class=\"data row1 col2\" >-0.456002</td>\n",
       "    </tr>\n",
       "    <tr>\n",
       "      <th id=\"T_d165c_level0_row2\" class=\"row_heading level0 row2\" >2000-01-03 00:00:00</th>\n",
       "      <td id=\"T_d165c_row2_col0\" class=\"data row2 col0\" >-0.560115</td>\n",
       "      <td id=\"T_d165c_row2_col1\" class=\"data row2 col1\" >0.086272</td>\n",
       "      <td id=\"T_d165c_row2_col2\" class=\"data row2 col2\" >-0.725329</td>\n",
       "    </tr>\n",
       "    <tr>\n",
       "      <th id=\"T_d165c_level0_row3\" class=\"row_heading level0 row3\" >2000-01-04 00:00:00</th>\n",
       "      <td id=\"T_d165c_row3_col0\" class=\"data row3 col0\" >0.959598</td>\n",
       "      <td id=\"T_d165c_row3_col1\" class=\"data row3 col1\" >1.296840</td>\n",
       "      <td id=\"T_d165c_row3_col2\" class=\"data row3 col2\" >-1.868739</td>\n",
       "    </tr>\n",
       "    <tr>\n",
       "      <th id=\"T_d165c_level0_row4\" class=\"row_heading level0 row4\" >2000-01-05 00:00:00</th>\n",
       "      <td id=\"T_d165c_row4_col0\" class=\"data row4 col0\" >0.115898</td>\n",
       "      <td id=\"T_d165c_row4_col1\" class=\"data row4 col1\" >-1.240031</td>\n",
       "      <td id=\"T_d165c_row4_col2\" class=\"data row4 col2\" >-1.615287</td>\n",
       "    </tr>\n",
       "    <tr>\n",
       "      <th id=\"T_d165c_level0_row5\" class=\"row_heading level0 row5\" >2000-01-06 00:00:00</th>\n",
       "      <td id=\"T_d165c_row5_col0\" class=\"data row5 col0\" >-0.012749</td>\n",
       "      <td id=\"T_d165c_row5_col1\" class=\"data row5 col1\" >1.930775</td>\n",
       "      <td id=\"T_d165c_row5_col2\" class=\"data row5 col2\" >1.321410</td>\n",
       "    </tr>\n",
       "    <tr>\n",
       "      <th id=\"T_d165c_level0_row6\" class=\"row_heading level0 row6\" >2000-01-07 00:00:00</th>\n",
       "      <td id=\"T_d165c_row6_col0\" class=\"data row6 col0\" >-0.029404</td>\n",
       "      <td id=\"T_d165c_row6_col1\" class=\"data row6 col1\" >-0.186048</td>\n",
       "      <td id=\"T_d165c_row6_col2\" class=\"data row6 col2\" >1.017959</td>\n",
       "    </tr>\n",
       "    <tr>\n",
       "      <th id=\"T_d165c_level0_row7\" class=\"row_heading level0 row7\" >2000-01-08 00:00:00</th>\n",
       "      <td id=\"T_d165c_row7_col0\" class=\"data row7 col0\" >-0.174316</td>\n",
       "      <td id=\"T_d165c_row7_col1\" class=\"data row7 col1\" >-0.079513</td>\n",
       "      <td id=\"T_d165c_row7_col2\" class=\"data row7 col2\" >-0.393982</td>\n",
       "    </tr>\n",
       "  </tbody>\n",
       "</table>\n"
      ],
      "text/plain": [
       "<pandas.io.formats.style.Styler at 0x1e707875a60>"
      ]
     },
     "execution_count": 45,
     "metadata": {},
     "output_type": "execute_result"
    }
   ],
   "source": [
    "df.style"
   ]
  },
  {
   "cell_type": "code",
   "execution_count": 46,
   "metadata": {},
   "outputs": [],
   "source": [
    "def color_negative_red(val):\n",
    "    color = 'red' if val < 0 else 'white'\n",
    "    return 'color: %s' % color"
   ]
  },
  {
   "cell_type": "code",
   "execution_count": 47,
   "metadata": {},
   "outputs": [
    {
     "data": {
      "text/html": [
       "<style type=\"text/css\">\n",
       "#T_bc3f5_row0_col0, #T_bc3f5_row0_col1, #T_bc3f5_row0_col2, #T_bc3f5_row1_col0, #T_bc3f5_row1_col1, #T_bc3f5_row1_col2, #T_bc3f5_row2_col0, #T_bc3f5_row2_col2, #T_bc3f5_row3_col2, #T_bc3f5_row4_col1, #T_bc3f5_row4_col2, #T_bc3f5_row5_col0, #T_bc3f5_row6_col0, #T_bc3f5_row6_col1, #T_bc3f5_row7_col0, #T_bc3f5_row7_col1, #T_bc3f5_row7_col2 {\n",
       "  color: red;\n",
       "}\n",
       "#T_bc3f5_row2_col1, #T_bc3f5_row3_col0, #T_bc3f5_row3_col1, #T_bc3f5_row4_col0, #T_bc3f5_row5_col1, #T_bc3f5_row5_col2, #T_bc3f5_row6_col2 {\n",
       "  color: white;\n",
       "}\n",
       "</style>\n",
       "<table id=\"T_bc3f5_\">\n",
       "  <thead>\n",
       "    <tr>\n",
       "      <th class=\"blank level0\" >&nbsp;</th>\n",
       "      <th class=\"col_heading level0 col0\" >a</th>\n",
       "      <th class=\"col_heading level0 col1\" >b</th>\n",
       "      <th class=\"col_heading level0 col2\" >c</th>\n",
       "    </tr>\n",
       "  </thead>\n",
       "  <tbody>\n",
       "    <tr>\n",
       "      <th id=\"T_bc3f5_level0_row0\" class=\"row_heading level0 row0\" >2000-01-01 00:00:00</th>\n",
       "      <td id=\"T_bc3f5_row0_col0\" class=\"data row0 col0\" >-0.905308</td>\n",
       "      <td id=\"T_bc3f5_row0_col1\" class=\"data row0 col1\" >-0.393136</td>\n",
       "      <td id=\"T_bc3f5_row0_col2\" class=\"data row0 col2\" >-1.003778</td>\n",
       "    </tr>\n",
       "    <tr>\n",
       "      <th id=\"T_bc3f5_level0_row1\" class=\"row_heading level0 row1\" >2000-01-02 00:00:00</th>\n",
       "      <td id=\"T_bc3f5_row1_col0\" class=\"data row1 col0\" >-0.470104</td>\n",
       "      <td id=\"T_bc3f5_row1_col1\" class=\"data row1 col1\" >-0.769813</td>\n",
       "      <td id=\"T_bc3f5_row1_col2\" class=\"data row1 col2\" >-0.456002</td>\n",
       "    </tr>\n",
       "    <tr>\n",
       "      <th id=\"T_bc3f5_level0_row2\" class=\"row_heading level0 row2\" >2000-01-03 00:00:00</th>\n",
       "      <td id=\"T_bc3f5_row2_col0\" class=\"data row2 col0\" >-0.560115</td>\n",
       "      <td id=\"T_bc3f5_row2_col1\" class=\"data row2 col1\" >0.086272</td>\n",
       "      <td id=\"T_bc3f5_row2_col2\" class=\"data row2 col2\" >-0.725329</td>\n",
       "    </tr>\n",
       "    <tr>\n",
       "      <th id=\"T_bc3f5_level0_row3\" class=\"row_heading level0 row3\" >2000-01-04 00:00:00</th>\n",
       "      <td id=\"T_bc3f5_row3_col0\" class=\"data row3 col0\" >0.959598</td>\n",
       "      <td id=\"T_bc3f5_row3_col1\" class=\"data row3 col1\" >1.296840</td>\n",
       "      <td id=\"T_bc3f5_row3_col2\" class=\"data row3 col2\" >-1.868739</td>\n",
       "    </tr>\n",
       "    <tr>\n",
       "      <th id=\"T_bc3f5_level0_row4\" class=\"row_heading level0 row4\" >2000-01-05 00:00:00</th>\n",
       "      <td id=\"T_bc3f5_row4_col0\" class=\"data row4 col0\" >0.115898</td>\n",
       "      <td id=\"T_bc3f5_row4_col1\" class=\"data row4 col1\" >-1.240031</td>\n",
       "      <td id=\"T_bc3f5_row4_col2\" class=\"data row4 col2\" >-1.615287</td>\n",
       "    </tr>\n",
       "    <tr>\n",
       "      <th id=\"T_bc3f5_level0_row5\" class=\"row_heading level0 row5\" >2000-01-06 00:00:00</th>\n",
       "      <td id=\"T_bc3f5_row5_col0\" class=\"data row5 col0\" >-0.012749</td>\n",
       "      <td id=\"T_bc3f5_row5_col1\" class=\"data row5 col1\" >1.930775</td>\n",
       "      <td id=\"T_bc3f5_row5_col2\" class=\"data row5 col2\" >1.321410</td>\n",
       "    </tr>\n",
       "    <tr>\n",
       "      <th id=\"T_bc3f5_level0_row6\" class=\"row_heading level0 row6\" >2000-01-07 00:00:00</th>\n",
       "      <td id=\"T_bc3f5_row6_col0\" class=\"data row6 col0\" >-0.029404</td>\n",
       "      <td id=\"T_bc3f5_row6_col1\" class=\"data row6 col1\" >-0.186048</td>\n",
       "      <td id=\"T_bc3f5_row6_col2\" class=\"data row6 col2\" >1.017959</td>\n",
       "    </tr>\n",
       "    <tr>\n",
       "      <th id=\"T_bc3f5_level0_row7\" class=\"row_heading level0 row7\" >2000-01-08 00:00:00</th>\n",
       "      <td id=\"T_bc3f5_row7_col0\" class=\"data row7 col0\" >-0.174316</td>\n",
       "      <td id=\"T_bc3f5_row7_col1\" class=\"data row7 col1\" >-0.079513</td>\n",
       "      <td id=\"T_bc3f5_row7_col2\" class=\"data row7 col2\" >-0.393982</td>\n",
       "    </tr>\n",
       "  </tbody>\n",
       "</table>\n"
      ],
      "text/plain": [
       "<pandas.io.formats.style.Styler at 0x1e70babc520>"
      ]
     },
     "execution_count": 47,
     "metadata": {},
     "output_type": "execute_result"
    }
   ],
   "source": [
    "df.style.applymap(color_negative_red)"
   ]
  },
  {
   "cell_type": "code",
   "execution_count": 48,
   "metadata": {},
   "outputs": [
    {
     "data": {
      "text/html": [
       "<style type=\"text/css\">\n",
       "#T_1cd37_row0_col0, #T_1cd37_row0_col1, #T_1cd37_row0_col2, #T_1cd37_row1_col0, #T_1cd37_row1_col1, #T_1cd37_row1_col2, #T_1cd37_row2_col0, #T_1cd37_row2_col2, #T_1cd37_row3_col2, #T_1cd37_row4_col1, #T_1cd37_row4_col2, #T_1cd37_row5_col0, #T_1cd37_row6_col0, #T_1cd37_row6_col1, #T_1cd37_row7_col0, #T_1cd37_row7_col1, #T_1cd37_row7_col2 {\n",
       "  color: red;\n",
       "}\n",
       "#T_1cd37_row2_col1, #T_1cd37_row3_col0, #T_1cd37_row3_col1, #T_1cd37_row4_col0, #T_1cd37_row5_col1, #T_1cd37_row5_col2, #T_1cd37_row6_col2 {\n",
       "  color: white;\n",
       "}\n",
       "</style>\n",
       "<table id=\"T_1cd37_\">\n",
       "  <thead>\n",
       "    <tr>\n",
       "      <th class=\"blank level0\" >&nbsp;</th>\n",
       "      <th class=\"col_heading level0 col0\" >a</th>\n",
       "      <th class=\"col_heading level0 col1\" >b</th>\n",
       "      <th class=\"col_heading level0 col2\" >c</th>\n",
       "    </tr>\n",
       "  </thead>\n",
       "  <tbody>\n",
       "    <tr>\n",
       "      <th id=\"T_1cd37_level0_row0\" class=\"row_heading level0 row0\" >2000-01-01</th>\n",
       "      <td id=\"T_1cd37_row0_col0\" class=\"data row0 col0\" >-0.905308</td>\n",
       "      <td id=\"T_1cd37_row0_col1\" class=\"data row0 col1\" >-0.393136</td>\n",
       "      <td id=\"T_1cd37_row0_col2\" class=\"data row0 col2\" >-1.003778</td>\n",
       "    </tr>\n",
       "    <tr>\n",
       "      <th id=\"T_1cd37_level0_row1\" class=\"row_heading level0 row1\" >2000-01-02</th>\n",
       "      <td id=\"T_1cd37_row1_col0\" class=\"data row1 col0\" >-0.470104</td>\n",
       "      <td id=\"T_1cd37_row1_col1\" class=\"data row1 col1\" >-0.769813</td>\n",
       "      <td id=\"T_1cd37_row1_col2\" class=\"data row1 col2\" >-0.456002</td>\n",
       "    </tr>\n",
       "    <tr>\n",
       "      <th id=\"T_1cd37_level0_row2\" class=\"row_heading level0 row2\" >2000-01-03</th>\n",
       "      <td id=\"T_1cd37_row2_col0\" class=\"data row2 col0\" >-0.560115</td>\n",
       "      <td id=\"T_1cd37_row2_col1\" class=\"data row2 col1\" >0.086272</td>\n",
       "      <td id=\"T_1cd37_row2_col2\" class=\"data row2 col2\" >-0.725329</td>\n",
       "    </tr>\n",
       "    <tr>\n",
       "      <th id=\"T_1cd37_level0_row3\" class=\"row_heading level0 row3\" >2000-01-04</th>\n",
       "      <td id=\"T_1cd37_row3_col0\" class=\"data row3 col0\" >0.959598</td>\n",
       "      <td id=\"T_1cd37_row3_col1\" class=\"data row3 col1\" >1.296840</td>\n",
       "      <td id=\"T_1cd37_row3_col2\" class=\"data row3 col2\" >-1.868739</td>\n",
       "    </tr>\n",
       "    <tr>\n",
       "      <th id=\"T_1cd37_level0_row4\" class=\"row_heading level0 row4\" >2000-01-05</th>\n",
       "      <td id=\"T_1cd37_row4_col0\" class=\"data row4 col0\" >0.115898</td>\n",
       "      <td id=\"T_1cd37_row4_col1\" class=\"data row4 col1\" >-1.240031</td>\n",
       "      <td id=\"T_1cd37_row4_col2\" class=\"data row4 col2\" >-1.615287</td>\n",
       "    </tr>\n",
       "    <tr>\n",
       "      <th id=\"T_1cd37_level0_row5\" class=\"row_heading level0 row5\" >2000-01-06</th>\n",
       "      <td id=\"T_1cd37_row5_col0\" class=\"data row5 col0\" >-0.012749</td>\n",
       "      <td id=\"T_1cd37_row5_col1\" class=\"data row5 col1\" >1.930775</td>\n",
       "      <td id=\"T_1cd37_row5_col2\" class=\"data row5 col2\" >1.321410</td>\n",
       "    </tr>\n",
       "    <tr>\n",
       "      <th id=\"T_1cd37_level0_row6\" class=\"row_heading level0 row6\" >2000-01-07</th>\n",
       "      <td id=\"T_1cd37_row6_col0\" class=\"data row6 col0\" >-0.029404</td>\n",
       "      <td id=\"T_1cd37_row6_col1\" class=\"data row6 col1\" >-0.186048</td>\n",
       "      <td id=\"T_1cd37_row6_col2\" class=\"data row6 col2\" >1.017959</td>\n",
       "    </tr>\n",
       "    <tr>\n",
       "      <th id=\"T_1cd37_level0_row7\" class=\"row_heading level0 row7\" >2000-01-08</th>\n",
       "      <td id=\"T_1cd37_row7_col0\" class=\"data row7 col0\" >-0.174316</td>\n",
       "      <td id=\"T_1cd37_row7_col1\" class=\"data row7 col1\" >-0.079513</td>\n",
       "      <td id=\"T_1cd37_row7_col2\" class=\"data row7 col2\" >-0.393982</td>\n",
       "    </tr>\n",
       "  </tbody>\n",
       "</table>\n"
      ],
      "text/plain": [
       "<pandas.io.formats.style.Styler at 0x1e7077e0fa0>"
      ]
     },
     "execution_count": 48,
     "metadata": {},
     "output_type": "execute_result"
    }
   ],
   "source": [
    "df.index = pd.to_datetime(df.index, format = '%Y-%m-%d').strftime('%Y-%m-%d')\n",
    "df.style.applymap(color_negative_red)"
   ]
  },
  {
   "cell_type": "code",
   "execution_count": 49,
   "metadata": {},
   "outputs": [],
   "source": [
    "def highlight_max(s):\n",
    "    is_max = s == s.max()\n",
    "    return ['background-color: blue' if v else '' for v in is_max]"
   ]
  },
  {
   "cell_type": "code",
   "execution_count": 50,
   "metadata": {},
   "outputs": [
    {
     "data": {
      "text/html": [
       "<style type=\"text/css\">\n",
       "#T_17986_row3_col0, #T_17986_row5_col1, #T_17986_row5_col2 {\n",
       "  background-color: blue;\n",
       "}\n",
       "</style>\n",
       "<table id=\"T_17986_\">\n",
       "  <thead>\n",
       "    <tr>\n",
       "      <th class=\"blank level0\" >&nbsp;</th>\n",
       "      <th class=\"col_heading level0 col0\" >a</th>\n",
       "      <th class=\"col_heading level0 col1\" >b</th>\n",
       "      <th class=\"col_heading level0 col2\" >c</th>\n",
       "    </tr>\n",
       "  </thead>\n",
       "  <tbody>\n",
       "    <tr>\n",
       "      <th id=\"T_17986_level0_row0\" class=\"row_heading level0 row0\" >2000-01-01</th>\n",
       "      <td id=\"T_17986_row0_col0\" class=\"data row0 col0\" >-0.905308</td>\n",
       "      <td id=\"T_17986_row0_col1\" class=\"data row0 col1\" >-0.393136</td>\n",
       "      <td id=\"T_17986_row0_col2\" class=\"data row0 col2\" >-1.003778</td>\n",
       "    </tr>\n",
       "    <tr>\n",
       "      <th id=\"T_17986_level0_row1\" class=\"row_heading level0 row1\" >2000-01-02</th>\n",
       "      <td id=\"T_17986_row1_col0\" class=\"data row1 col0\" >-0.470104</td>\n",
       "      <td id=\"T_17986_row1_col1\" class=\"data row1 col1\" >-0.769813</td>\n",
       "      <td id=\"T_17986_row1_col2\" class=\"data row1 col2\" >-0.456002</td>\n",
       "    </tr>\n",
       "    <tr>\n",
       "      <th id=\"T_17986_level0_row2\" class=\"row_heading level0 row2\" >2000-01-03</th>\n",
       "      <td id=\"T_17986_row2_col0\" class=\"data row2 col0\" >-0.560115</td>\n",
       "      <td id=\"T_17986_row2_col1\" class=\"data row2 col1\" >0.086272</td>\n",
       "      <td id=\"T_17986_row2_col2\" class=\"data row2 col2\" >-0.725329</td>\n",
       "    </tr>\n",
       "    <tr>\n",
       "      <th id=\"T_17986_level0_row3\" class=\"row_heading level0 row3\" >2000-01-04</th>\n",
       "      <td id=\"T_17986_row3_col0\" class=\"data row3 col0\" >0.959598</td>\n",
       "      <td id=\"T_17986_row3_col1\" class=\"data row3 col1\" >1.296840</td>\n",
       "      <td id=\"T_17986_row3_col2\" class=\"data row3 col2\" >-1.868739</td>\n",
       "    </tr>\n",
       "    <tr>\n",
       "      <th id=\"T_17986_level0_row4\" class=\"row_heading level0 row4\" >2000-01-05</th>\n",
       "      <td id=\"T_17986_row4_col0\" class=\"data row4 col0\" >0.115898</td>\n",
       "      <td id=\"T_17986_row4_col1\" class=\"data row4 col1\" >-1.240031</td>\n",
       "      <td id=\"T_17986_row4_col2\" class=\"data row4 col2\" >-1.615287</td>\n",
       "    </tr>\n",
       "    <tr>\n",
       "      <th id=\"T_17986_level0_row5\" class=\"row_heading level0 row5\" >2000-01-06</th>\n",
       "      <td id=\"T_17986_row5_col0\" class=\"data row5 col0\" >-0.012749</td>\n",
       "      <td id=\"T_17986_row5_col1\" class=\"data row5 col1\" >1.930775</td>\n",
       "      <td id=\"T_17986_row5_col2\" class=\"data row5 col2\" >1.321410</td>\n",
       "    </tr>\n",
       "    <tr>\n",
       "      <th id=\"T_17986_level0_row6\" class=\"row_heading level0 row6\" >2000-01-07</th>\n",
       "      <td id=\"T_17986_row6_col0\" class=\"data row6 col0\" >-0.029404</td>\n",
       "      <td id=\"T_17986_row6_col1\" class=\"data row6 col1\" >-0.186048</td>\n",
       "      <td id=\"T_17986_row6_col2\" class=\"data row6 col2\" >1.017959</td>\n",
       "    </tr>\n",
       "    <tr>\n",
       "      <th id=\"T_17986_level0_row7\" class=\"row_heading level0 row7\" >2000-01-08</th>\n",
       "      <td id=\"T_17986_row7_col0\" class=\"data row7 col0\" >-0.174316</td>\n",
       "      <td id=\"T_17986_row7_col1\" class=\"data row7 col1\" >-0.079513</td>\n",
       "      <td id=\"T_17986_row7_col2\" class=\"data row7 col2\" >-0.393982</td>\n",
       "    </tr>\n",
       "  </tbody>\n",
       "</table>\n"
      ],
      "text/plain": [
       "<pandas.io.formats.style.Styler at 0x1e70badffd0>"
      ]
     },
     "execution_count": 50,
     "metadata": {},
     "output_type": "execute_result"
    }
   ],
   "source": [
    "df.style.apply(highlight_max)"
   ]
  },
  {
   "cell_type": "code",
   "execution_count": 51,
   "metadata": {},
   "outputs": [
    {
     "data": {
      "text/html": [
       "<style type=\"text/css\">\n",
       "#T_db054_row0_col1, #T_db054_row1_col2, #T_db054_row2_col1, #T_db054_row3_col1, #T_db054_row4_col0, #T_db054_row5_col1, #T_db054_row6_col2, #T_db054_row7_col1 {\n",
       "  background-color: blue;\n",
       "}\n",
       "</style>\n",
       "<table id=\"T_db054_\">\n",
       "  <thead>\n",
       "    <tr>\n",
       "      <th class=\"blank level0\" >&nbsp;</th>\n",
       "      <th class=\"col_heading level0 col0\" >a</th>\n",
       "      <th class=\"col_heading level0 col1\" >b</th>\n",
       "      <th class=\"col_heading level0 col2\" >c</th>\n",
       "    </tr>\n",
       "  </thead>\n",
       "  <tbody>\n",
       "    <tr>\n",
       "      <th id=\"T_db054_level0_row0\" class=\"row_heading level0 row0\" >2000-01-01</th>\n",
       "      <td id=\"T_db054_row0_col0\" class=\"data row0 col0\" >-0.905308</td>\n",
       "      <td id=\"T_db054_row0_col1\" class=\"data row0 col1\" >-0.393136</td>\n",
       "      <td id=\"T_db054_row0_col2\" class=\"data row0 col2\" >-1.003778</td>\n",
       "    </tr>\n",
       "    <tr>\n",
       "      <th id=\"T_db054_level0_row1\" class=\"row_heading level0 row1\" >2000-01-02</th>\n",
       "      <td id=\"T_db054_row1_col0\" class=\"data row1 col0\" >-0.470104</td>\n",
       "      <td id=\"T_db054_row1_col1\" class=\"data row1 col1\" >-0.769813</td>\n",
       "      <td id=\"T_db054_row1_col2\" class=\"data row1 col2\" >-0.456002</td>\n",
       "    </tr>\n",
       "    <tr>\n",
       "      <th id=\"T_db054_level0_row2\" class=\"row_heading level0 row2\" >2000-01-03</th>\n",
       "      <td id=\"T_db054_row2_col0\" class=\"data row2 col0\" >-0.560115</td>\n",
       "      <td id=\"T_db054_row2_col1\" class=\"data row2 col1\" >0.086272</td>\n",
       "      <td id=\"T_db054_row2_col2\" class=\"data row2 col2\" >-0.725329</td>\n",
       "    </tr>\n",
       "    <tr>\n",
       "      <th id=\"T_db054_level0_row3\" class=\"row_heading level0 row3\" >2000-01-04</th>\n",
       "      <td id=\"T_db054_row3_col0\" class=\"data row3 col0\" >0.959598</td>\n",
       "      <td id=\"T_db054_row3_col1\" class=\"data row3 col1\" >1.296840</td>\n",
       "      <td id=\"T_db054_row3_col2\" class=\"data row3 col2\" >-1.868739</td>\n",
       "    </tr>\n",
       "    <tr>\n",
       "      <th id=\"T_db054_level0_row4\" class=\"row_heading level0 row4\" >2000-01-05</th>\n",
       "      <td id=\"T_db054_row4_col0\" class=\"data row4 col0\" >0.115898</td>\n",
       "      <td id=\"T_db054_row4_col1\" class=\"data row4 col1\" >-1.240031</td>\n",
       "      <td id=\"T_db054_row4_col2\" class=\"data row4 col2\" >-1.615287</td>\n",
       "    </tr>\n",
       "    <tr>\n",
       "      <th id=\"T_db054_level0_row5\" class=\"row_heading level0 row5\" >2000-01-06</th>\n",
       "      <td id=\"T_db054_row5_col0\" class=\"data row5 col0\" >-0.012749</td>\n",
       "      <td id=\"T_db054_row5_col1\" class=\"data row5 col1\" >1.930775</td>\n",
       "      <td id=\"T_db054_row5_col2\" class=\"data row5 col2\" >1.321410</td>\n",
       "    </tr>\n",
       "    <tr>\n",
       "      <th id=\"T_db054_level0_row6\" class=\"row_heading level0 row6\" >2000-01-07</th>\n",
       "      <td id=\"T_db054_row6_col0\" class=\"data row6 col0\" >-0.029404</td>\n",
       "      <td id=\"T_db054_row6_col1\" class=\"data row6 col1\" >-0.186048</td>\n",
       "      <td id=\"T_db054_row6_col2\" class=\"data row6 col2\" >1.017959</td>\n",
       "    </tr>\n",
       "    <tr>\n",
       "      <th id=\"T_db054_level0_row7\" class=\"row_heading level0 row7\" >2000-01-08</th>\n",
       "      <td id=\"T_db054_row7_col0\" class=\"data row7 col0\" >-0.174316</td>\n",
       "      <td id=\"T_db054_row7_col1\" class=\"data row7 col1\" >-0.079513</td>\n",
       "      <td id=\"T_db054_row7_col2\" class=\"data row7 col2\" >-0.393982</td>\n",
       "    </tr>\n",
       "  </tbody>\n",
       "</table>\n"
      ],
      "text/plain": [
       "<pandas.io.formats.style.Styler at 0x1e70badf340>"
      ]
     },
     "execution_count": 51,
     "metadata": {},
     "output_type": "execute_result"
    }
   ],
   "source": [
    "df.style.apply(highlight_max, axis=1)"
   ]
  },
  {
   "cell_type": "code",
   "execution_count": 52,
   "metadata": {},
   "outputs": [
    {
     "data": {
      "text/html": [
       "<style type=\"text/css\">\n",
       "#T_edeed_row3_col0, #T_edeed_row5_col1, #T_edeed_row5_col2 {\n",
       "  background-color: blue;\n",
       "}\n",
       "</style>\n",
       "<table id=\"T_edeed_\">\n",
       "  <thead>\n",
       "    <tr>\n",
       "      <th class=\"blank level0\" >&nbsp;</th>\n",
       "      <th class=\"col_heading level0 col0\" >a</th>\n",
       "      <th class=\"col_heading level0 col1\" >b</th>\n",
       "      <th class=\"col_heading level0 col2\" >c</th>\n",
       "    </tr>\n",
       "  </thead>\n",
       "  <tbody>\n",
       "    <tr>\n",
       "      <th id=\"T_edeed_level0_row0\" class=\"row_heading level0 row0\" >2000-01-01</th>\n",
       "      <td id=\"T_edeed_row0_col0\" class=\"data row0 col0\" >-0.905308</td>\n",
       "      <td id=\"T_edeed_row0_col1\" class=\"data row0 col1\" >-0.393136</td>\n",
       "      <td id=\"T_edeed_row0_col2\" class=\"data row0 col2\" >-1.003778</td>\n",
       "    </tr>\n",
       "    <tr>\n",
       "      <th id=\"T_edeed_level0_row1\" class=\"row_heading level0 row1\" >2000-01-02</th>\n",
       "      <td id=\"T_edeed_row1_col0\" class=\"data row1 col0\" >-0.470104</td>\n",
       "      <td id=\"T_edeed_row1_col1\" class=\"data row1 col1\" >-0.769813</td>\n",
       "      <td id=\"T_edeed_row1_col2\" class=\"data row1 col2\" >-0.456002</td>\n",
       "    </tr>\n",
       "    <tr>\n",
       "      <th id=\"T_edeed_level0_row2\" class=\"row_heading level0 row2\" >2000-01-03</th>\n",
       "      <td id=\"T_edeed_row2_col0\" class=\"data row2 col0\" >-0.560115</td>\n",
       "      <td id=\"T_edeed_row2_col1\" class=\"data row2 col1\" >0.086272</td>\n",
       "      <td id=\"T_edeed_row2_col2\" class=\"data row2 col2\" >-0.725329</td>\n",
       "    </tr>\n",
       "    <tr>\n",
       "      <th id=\"T_edeed_level0_row3\" class=\"row_heading level0 row3\" >2000-01-04</th>\n",
       "      <td id=\"T_edeed_row3_col0\" class=\"data row3 col0\" >0.959598</td>\n",
       "      <td id=\"T_edeed_row3_col1\" class=\"data row3 col1\" >1.296840</td>\n",
       "      <td id=\"T_edeed_row3_col2\" class=\"data row3 col2\" >-1.868739</td>\n",
       "    </tr>\n",
       "    <tr>\n",
       "      <th id=\"T_edeed_level0_row4\" class=\"row_heading level0 row4\" >2000-01-05</th>\n",
       "      <td id=\"T_edeed_row4_col0\" class=\"data row4 col0\" >0.115898</td>\n",
       "      <td id=\"T_edeed_row4_col1\" class=\"data row4 col1\" >-1.240031</td>\n",
       "      <td id=\"T_edeed_row4_col2\" class=\"data row4 col2\" >-1.615287</td>\n",
       "    </tr>\n",
       "    <tr>\n",
       "      <th id=\"T_edeed_level0_row5\" class=\"row_heading level0 row5\" >2000-01-06</th>\n",
       "      <td id=\"T_edeed_row5_col0\" class=\"data row5 col0\" >-0.012749</td>\n",
       "      <td id=\"T_edeed_row5_col1\" class=\"data row5 col1\" >1.930775</td>\n",
       "      <td id=\"T_edeed_row5_col2\" class=\"data row5 col2\" >1.321410</td>\n",
       "    </tr>\n",
       "    <tr>\n",
       "      <th id=\"T_edeed_level0_row6\" class=\"row_heading level0 row6\" >2000-01-07</th>\n",
       "      <td id=\"T_edeed_row6_col0\" class=\"data row6 col0\" >-0.029404</td>\n",
       "      <td id=\"T_edeed_row6_col1\" class=\"data row6 col1\" >-0.186048</td>\n",
       "      <td id=\"T_edeed_row6_col2\" class=\"data row6 col2\" >1.017959</td>\n",
       "    </tr>\n",
       "    <tr>\n",
       "      <th id=\"T_edeed_level0_row7\" class=\"row_heading level0 row7\" >2000-01-08</th>\n",
       "      <td id=\"T_edeed_row7_col0\" class=\"data row7 col0\" >-0.174316</td>\n",
       "      <td id=\"T_edeed_row7_col1\" class=\"data row7 col1\" >-0.079513</td>\n",
       "      <td id=\"T_edeed_row7_col2\" class=\"data row7 col2\" >-0.393982</td>\n",
       "    </tr>\n",
       "  </tbody>\n",
       "</table>\n"
      ],
      "text/plain": [
       "<pandas.io.formats.style.Styler at 0x1e70badf0d0>"
      ]
     },
     "execution_count": 52,
     "metadata": {},
     "output_type": "execute_result"
    }
   ],
   "source": [
    "df.style.apply(highlight_max, axis=0)"
   ]
  },
  {
   "cell_type": "code",
   "execution_count": 53,
   "metadata": {},
   "outputs": [
    {
     "data": {
      "text/html": [
       "<style type=\"text/css\">\n",
       "#T_6e021_row0_col0, #T_6e021_row0_col1, #T_6e021_row0_col2, #T_6e021_row1_col0, #T_6e021_row1_col1, #T_6e021_row1_col2, #T_6e021_row2_col0, #T_6e021_row2_col2, #T_6e021_row3_col2, #T_6e021_row4_col1, #T_6e021_row4_col2, #T_6e021_row5_col0, #T_6e021_row6_col0, #T_6e021_row6_col1, #T_6e021_row7_col0, #T_6e021_row7_col1, #T_6e021_row7_col2 {\n",
       "  color: red;\n",
       "}\n",
       "#T_6e021_row2_col1, #T_6e021_row3_col1, #T_6e021_row4_col0, #T_6e021_row6_col2 {\n",
       "  color: white;\n",
       "}\n",
       "#T_6e021_row3_col0, #T_6e021_row5_col1, #T_6e021_row5_col2 {\n",
       "  background-color: blue;\n",
       "  color: white;\n",
       "}\n",
       "</style>\n",
       "<table id=\"T_6e021_\">\n",
       "  <thead>\n",
       "    <tr>\n",
       "      <th class=\"blank level0\" >&nbsp;</th>\n",
       "      <th class=\"col_heading level0 col0\" >a</th>\n",
       "      <th class=\"col_heading level0 col1\" >b</th>\n",
       "      <th class=\"col_heading level0 col2\" >c</th>\n",
       "    </tr>\n",
       "  </thead>\n",
       "  <tbody>\n",
       "    <tr>\n",
       "      <th id=\"T_6e021_level0_row0\" class=\"row_heading level0 row0\" >2000-01-01</th>\n",
       "      <td id=\"T_6e021_row0_col0\" class=\"data row0 col0\" >-0.905308</td>\n",
       "      <td id=\"T_6e021_row0_col1\" class=\"data row0 col1\" >-0.393136</td>\n",
       "      <td id=\"T_6e021_row0_col2\" class=\"data row0 col2\" >-1.003778</td>\n",
       "    </tr>\n",
       "    <tr>\n",
       "      <th id=\"T_6e021_level0_row1\" class=\"row_heading level0 row1\" >2000-01-02</th>\n",
       "      <td id=\"T_6e021_row1_col0\" class=\"data row1 col0\" >-0.470104</td>\n",
       "      <td id=\"T_6e021_row1_col1\" class=\"data row1 col1\" >-0.769813</td>\n",
       "      <td id=\"T_6e021_row1_col2\" class=\"data row1 col2\" >-0.456002</td>\n",
       "    </tr>\n",
       "    <tr>\n",
       "      <th id=\"T_6e021_level0_row2\" class=\"row_heading level0 row2\" >2000-01-03</th>\n",
       "      <td id=\"T_6e021_row2_col0\" class=\"data row2 col0\" >-0.560115</td>\n",
       "      <td id=\"T_6e021_row2_col1\" class=\"data row2 col1\" >0.086272</td>\n",
       "      <td id=\"T_6e021_row2_col2\" class=\"data row2 col2\" >-0.725329</td>\n",
       "    </tr>\n",
       "    <tr>\n",
       "      <th id=\"T_6e021_level0_row3\" class=\"row_heading level0 row3\" >2000-01-04</th>\n",
       "      <td id=\"T_6e021_row3_col0\" class=\"data row3 col0\" >0.959598</td>\n",
       "      <td id=\"T_6e021_row3_col1\" class=\"data row3 col1\" >1.296840</td>\n",
       "      <td id=\"T_6e021_row3_col2\" class=\"data row3 col2\" >-1.868739</td>\n",
       "    </tr>\n",
       "    <tr>\n",
       "      <th id=\"T_6e021_level0_row4\" class=\"row_heading level0 row4\" >2000-01-05</th>\n",
       "      <td id=\"T_6e021_row4_col0\" class=\"data row4 col0\" >0.115898</td>\n",
       "      <td id=\"T_6e021_row4_col1\" class=\"data row4 col1\" >-1.240031</td>\n",
       "      <td id=\"T_6e021_row4_col2\" class=\"data row4 col2\" >-1.615287</td>\n",
       "    </tr>\n",
       "    <tr>\n",
       "      <th id=\"T_6e021_level0_row5\" class=\"row_heading level0 row5\" >2000-01-06</th>\n",
       "      <td id=\"T_6e021_row5_col0\" class=\"data row5 col0\" >-0.012749</td>\n",
       "      <td id=\"T_6e021_row5_col1\" class=\"data row5 col1\" >1.930775</td>\n",
       "      <td id=\"T_6e021_row5_col2\" class=\"data row5 col2\" >1.321410</td>\n",
       "    </tr>\n",
       "    <tr>\n",
       "      <th id=\"T_6e021_level0_row6\" class=\"row_heading level0 row6\" >2000-01-07</th>\n",
       "      <td id=\"T_6e021_row6_col0\" class=\"data row6 col0\" >-0.029404</td>\n",
       "      <td id=\"T_6e021_row6_col1\" class=\"data row6 col1\" >-0.186048</td>\n",
       "      <td id=\"T_6e021_row6_col2\" class=\"data row6 col2\" >1.017959</td>\n",
       "    </tr>\n",
       "    <tr>\n",
       "      <th id=\"T_6e021_level0_row7\" class=\"row_heading level0 row7\" >2000-01-08</th>\n",
       "      <td id=\"T_6e021_row7_col0\" class=\"data row7 col0\" >-0.174316</td>\n",
       "      <td id=\"T_6e021_row7_col1\" class=\"data row7 col1\" >-0.079513</td>\n",
       "      <td id=\"T_6e021_row7_col2\" class=\"data row7 col2\" >-0.393982</td>\n",
       "    </tr>\n",
       "  </tbody>\n",
       "</table>\n"
      ],
      "text/plain": [
       "<pandas.io.formats.style.Styler at 0x1e70babc280>"
      ]
     },
     "execution_count": 53,
     "metadata": {},
     "output_type": "execute_result"
    }
   ],
   "source": [
    "df.style.apply(highlight_max, axis=0).applymap(color_negative_red)"
   ]
  },
  {
   "cell_type": "markdown",
   "metadata": {},
   "source": [
    "## Nowe kolumny"
   ]
  },
  {
   "cell_type": "code",
   "execution_count": 54,
   "metadata": {},
   "outputs": [
    {
     "name": "stderr",
     "output_type": "stream",
     "text": [
      "<ipython-input-54-c0718dcb1519>:1: UserWarning: Pandas doesn't allow columns to be created via a new attribute name - see https://pandas.pydata.org/pandas-docs/stable/indexing.html#attribute-access\n",
      "  df.suma = df.a + df.b + df.c\n"
     ]
    }
   ],
   "source": [
    "df.suma = df.a + df.b + df.c"
   ]
  },
  {
   "cell_type": "code",
   "execution_count": 55,
   "metadata": {},
   "outputs": [],
   "source": [
    "df['suma'] = df.a + df.b + df.c"
   ]
  },
  {
   "cell_type": "code",
   "execution_count": 56,
   "metadata": {},
   "outputs": [
    {
     "data": {
      "text/html": [
       "<div>\n",
       "<style scoped>\n",
       "    .dataframe tbody tr th:only-of-type {\n",
       "        vertical-align: middle;\n",
       "    }\n",
       "\n",
       "    .dataframe tbody tr th {\n",
       "        vertical-align: top;\n",
       "    }\n",
       "\n",
       "    .dataframe thead th {\n",
       "        text-align: right;\n",
       "    }\n",
       "</style>\n",
       "<table border=\"1\" class=\"dataframe\">\n",
       "  <thead>\n",
       "    <tr style=\"text-align: right;\">\n",
       "      <th></th>\n",
       "      <th>a</th>\n",
       "      <th>b</th>\n",
       "      <th>c</th>\n",
       "      <th>suma</th>\n",
       "    </tr>\n",
       "  </thead>\n",
       "  <tbody>\n",
       "    <tr>\n",
       "      <th>2000-01-01</th>\n",
       "      <td>-0.905308</td>\n",
       "      <td>-0.393136</td>\n",
       "      <td>-1.003778</td>\n",
       "      <td>-2.302221</td>\n",
       "    </tr>\n",
       "    <tr>\n",
       "      <th>2000-01-02</th>\n",
       "      <td>-0.470104</td>\n",
       "      <td>-0.769813</td>\n",
       "      <td>-0.456002</td>\n",
       "      <td>-1.695919</td>\n",
       "    </tr>\n",
       "    <tr>\n",
       "      <th>2000-01-03</th>\n",
       "      <td>-0.560115</td>\n",
       "      <td>0.086272</td>\n",
       "      <td>-0.725329</td>\n",
       "      <td>-1.199172</td>\n",
       "    </tr>\n",
       "    <tr>\n",
       "      <th>2000-01-04</th>\n",
       "      <td>0.959598</td>\n",
       "      <td>1.296840</td>\n",
       "      <td>-1.868739</td>\n",
       "      <td>0.387700</td>\n",
       "    </tr>\n",
       "    <tr>\n",
       "      <th>2000-01-05</th>\n",
       "      <td>0.115898</td>\n",
       "      <td>-1.240031</td>\n",
       "      <td>-1.615287</td>\n",
       "      <td>-2.739420</td>\n",
       "    </tr>\n",
       "    <tr>\n",
       "      <th>2000-01-06</th>\n",
       "      <td>-0.012749</td>\n",
       "      <td>1.930775</td>\n",
       "      <td>1.321410</td>\n",
       "      <td>3.239436</td>\n",
       "    </tr>\n",
       "    <tr>\n",
       "      <th>2000-01-07</th>\n",
       "      <td>-0.029404</td>\n",
       "      <td>-0.186048</td>\n",
       "      <td>1.017959</td>\n",
       "      <td>0.802507</td>\n",
       "    </tr>\n",
       "    <tr>\n",
       "      <th>2000-01-08</th>\n",
       "      <td>-0.174316</td>\n",
       "      <td>-0.079513</td>\n",
       "      <td>-0.393982</td>\n",
       "      <td>-0.647812</td>\n",
       "    </tr>\n",
       "  </tbody>\n",
       "</table>\n",
       "</div>"
      ],
      "text/plain": [
       "                   a         b         c      suma\n",
       "2000-01-01 -0.905308 -0.393136 -1.003778 -2.302221\n",
       "2000-01-02 -0.470104 -0.769813 -0.456002 -1.695919\n",
       "2000-01-03 -0.560115  0.086272 -0.725329 -1.199172\n",
       "2000-01-04  0.959598  1.296840 -1.868739  0.387700\n",
       "2000-01-05  0.115898 -1.240031 -1.615287 -2.739420\n",
       "2000-01-06 -0.012749  1.930775  1.321410  3.239436\n",
       "2000-01-07 -0.029404 -0.186048  1.017959  0.802507\n",
       "2000-01-08 -0.174316 -0.079513 -0.393982 -0.647812"
      ]
     },
     "execution_count": 56,
     "metadata": {},
     "output_type": "execute_result"
    }
   ],
   "source": [
    "df"
   ]
  },
  {
   "cell_type": "markdown",
   "metadata": {},
   "source": [
    "### Zadanie 1"
   ]
  },
  {
   "cell_type": "markdown",
   "metadata": {},
   "source": [
    "Podsumować dane dla zespołu `Packers` (stworzyć `DataFrame` z danymi tego zespołu)"
   ]
  },
  {
   "cell_type": "markdown",
   "metadata": {},
   "source": [
    "### Zadanie 2"
   ]
  },
  {
   "cell_type": "markdown",
   "metadata": {},
   "source": [
    "Dodać do DataFrame `football` kolumnę `games_played`"
   ]
  },
  {
   "cell_type": "markdown",
   "metadata": {},
   "source": [
    "### Zadanie 3"
   ]
  },
  {
   "cell_type": "markdown",
   "metadata": {},
   "source": [
    "Dodać do DataFrame `football` kolumnę `percentage_games_won`"
   ]
  },
  {
   "cell_type": "markdown",
   "metadata": {},
   "source": [
    "## Zadanie 4\n",
    "\n",
    "Wyświetlić dane dla zespołu `Packers` z lat parzystych"
   ]
  }
 ],
 "metadata": {
  "kernelspec": {
   "display_name": "Python 3",
   "language": "python",
   "name": "python3"
  },
  "language_info": {
   "codemirror_mode": {
    "name": "ipython",
    "version": 3
   },
   "file_extension": ".py",
   "mimetype": "text/x-python",
   "name": "python",
   "nbconvert_exporter": "python",
   "pygments_lexer": "ipython3",
   "version": "3.9.1"
  },
  "widgets": {
   "application/vnd.jupyter.widget-state+json": {
    "state": {},
    "version_major": 2,
    "version_minor": 0
   }
  }
 },
 "nbformat": 4,
 "nbformat_minor": 4
}
