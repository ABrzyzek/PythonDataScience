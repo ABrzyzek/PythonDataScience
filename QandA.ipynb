{
 "cells": [
  {
   "cell_type": "markdown",
   "id": "4afa00c6-ec02-43da-a1e0-1e4e1a4424b1",
   "metadata": {},
   "source": [
    "# dr Michał Korzycki\n",
    "\n",
    "- ### Wykstałcenie:\n",
    "  - #### praca magisterska na Wydziale Matematyki UJ\n",
    "  - #### praca magisterska w Katedrze Informatyki AGH\n",
    "  - #### praca doktorska w Katedrze Informatyki AGH z Przetwarzania Języka Naturalnego\n",
    "\n",
    "<br>\n",
    "\n",
    "- ### 15 lat pracowałem jako adiunkt w Katedrze Informatyki na Akademii Górniczo-Hutniczej\n",
    "- ### Od 1999 zarządzałem zespołami technicznymi w różnych startupach i mniejszych firmach\n",
    "- ### W projektach związanych z danymi pracowałem intensywnie od 2007 roku\n",
    "- ### Pracowałem w dwu firmach jako <span style=\"color: cyan\">__*Dyrektor Marketingu*__</span> przez łącznie ok. 2.5 roku\n",
    "- ### W 2017 roku dołączyłem do Schneider Electric\n",
    "  - #### Jako Head od Data Science\n",
    "  - #### W 2019 awansowałem na pozycję Head od A.I. Solutions\n",
    "  - #### W 2021 awansowałem na pozycję <span style=\"color: cyan\">Director od A.I. Solutions</span>\n",
    "\n",
    "<br>"
   ]
  },
  {
   "cell_type": "markdown",
   "id": "0db7696b-fd61-42a0-a7da-9f3ef99bdec4",
   "metadata": {},
   "source": [
    "---\n",
    "\n",
    "# Co to jest Data Science ?\n",
    "\n",
    "<br>\n",
    "\n",
    "![](img\\danger.png)\n",
    "\n",
    "http://drewconway.com/zia/2013/3/26/the-data-science-venn-diagram\n",
    "\n",
    "\n",
    "<br>\n",
    "\n",
    "---\n",
    "\n",
    "# Czym data science nie jest\n",
    "\n",
    "\n",
    "> ### _**\"To teraz dorzućcie tej sztucznej inteligencji by produkt się lepiej sprzedawał!\"**_\n",
    "> ### _**\"Poprawcie te Excele z raportami tak by było widać o co chodzi!\"**_\n",
    "> ### _**\"Zróbcie badanie co wykaże 'im', że mam rację !\"**_\n",
    "> \n",
    "> ### <div style=\"text-align: right\">- pewnie niejeden anonimowy menedżer</div>\n",
    "\n",
    "<br>\n",
    "\n",
    "\n",
    "\n",
    "> ### _**\"Difference between machine learning and AI:**_\n",
    "> - ### _**If it is written in <span style=\"color: cyan\">Python</span>, it's probably <span style=\"color: cyan\">machine learning</span>**_\n",
    "    > - ### _**If it is written in <span style=\"color: cyan\">PowerPoint</span>, it's probably <span style=\"color: cyan\">AI</span>\"**_\n",
    "> \n",
    "> ### <div style=\"text-align: right\">- Mat Velloso (doradca Satya Nadella z Microsoft)</div>\n",
    "\n",
    "<br>\n",
    "\n",
    "---\n",
    "\n",
    "## Jakie jest zagrożenie przesyceniem rynku pracy w data science zarówno z perspektywy Polski, jak i globalnej?\n",
    "\n",
    "<br>\n",
    "\n",
    "\n",
    "> ### If you look to the US, for example, there's a need right now for more than <span style=\"color: cyan\">150,000 data scientists</span>. \n",
    "> ### There's also a global shortage of data science skills in Europe and Asia.\n",
    "> ### The US Bureau of Labor Statistics predicts that by 2026—so around six years from now—there will be <span style=\"color: cyan\">__*11.5&nbsp;million&nbsp;jobs*__</span> in data science and analytics. \n",
    "> \n",
    "> ### <div style=\"text-align: right\">- Ronald Van Loon</div>\n",
    "\n",
    "<br>\n",
    "\n",
    "---"
   ]
  },
  {
   "cell_type": "markdown",
   "id": "a2a5e01c-044a-4d37-a41b-53b50004bd78",
   "metadata": {},
   "source": [
    "## \"*Jak Pan mógłby zdefiniować swoimi słowami rolę Data Scientista w organizacji?*\"\n",
    "\n",
    "<br>\n",
    "\n",
    "\n",
    "### Data Miner/statistical analyst\n",
    " \n",
    "Zajmuje się analizą dużych zbiorów danych. Tworzy modele do wykrywania wzorców, trendów i korelacji.\n",
    "\n",
    "\n",
    "<br>\n",
    "\n",
    "\n",
    "### Big Data Specialist\n",
    " \n",
    "<span style=\"color: cyan\">__*Big Data*__ - czyli \"*dane które się nie mieszczą na moim komputerze*\"</span>. Specjalista od systemów takich jak *Hadoop* czy *Kafka*. Dawniej także Spark. Dziś Spark jest \"chlebem powszednim\". Dziś często związany z IoT albo marketingiem internetowym.\n",
    "\n",
    "<br>\n",
    "\n",
    "\n",
    "### Data Engineer\n",
    " \n",
    "*Data Engineer* odnajduje  dane odpowiednie do realizacji danych w korporacyjnym <span style=\"color: cyan\">__*Data Lake*__</span>. Opracowuje mechanizmy automatycznego pobierania danych z nich - tzw. ETL pipelines.\n",
    "Czyści, waliduje i przekształca dane. Jeśli odpowiada też za biznesową spójność danych - staje się <span style=\"color: cyan\">__*Data Steward*__</span>. \n",
    "\n",
    "\n",
    "<br>\n",
    "\n",
    "\n",
    "### \"Czysty\" Data Scientist\n",
    "\n",
    "\n",
    "Wykorzystuje swoją wiedzę biznesową i umiejętności techniczne do opracowania modeli i rozwiązań które adresuje konkretne problemy biznesowe.\n",
    "\n",
    "<br>\n",
    "\n",
    "\n",
    "### Machine Learning Engineer\n",
    " \n",
    "Jeśli *Data Engineer* dostarczył dane, *Data Scientist* opracował model teoretyczny, to Machine Learning Engineer zajmuje się trenowaniem, optymalizacją i uprodukcyjnieniem modeli Machine Learning.\n",
    "\n",
    "\n",
    "<br>\n",
    "\n",
    " \n",
    "\n",
    "### Specjalista Business Intelligence (BI) \n",
    " \n",
    "Specjalista BI współpracuje z data scientist aby wygenerować wnioski z danych. Data Scientist tworzą modele teoretyczny a specjalista BI je wykorzystuje.\n",
    " \n",
    "\n",
    "<br>\n",
    "\n",
    "\n",
    "### Specjalista Data visualization \n",
    "\n",
    "Odpowiada za narzędzia wizualne - dashboardy, wykresy, infografiki. Pozwala lepiej zrozumieć w danych - trendy, wzorce itp. \n",
    "Komunikuje się ze stronami biznesowymi przy użyciu narzędzi graficznych.\n",
    "\n",
    "\n",
    "<br>\n",
    "\n",
    " \n",
    "\n",
    "### Marketing data analyst (<span style=\"color: cyan\">*Growth Hacker*</span><span style=\"color: cyan\">)\n",
    "\n",
    "Osoba pracująca w obrębie tzw. *performance marketing* używająca danych i środków technicznych do osiągania wzrostu metryk biznesowych."
   ]
  },
  {
   "cell_type": "markdown",
   "id": "d827706c-0b41-4293-927c-2d77c73f27db",
   "metadata": {},
   "source": [
    "\n",
    "<br>\n",
    "\n",
    "---\n",
    "## Które obszary będą się najbardziej rozwijać w długiej perspektywie? \n",
    "\n",
    "Te których jeszcze nie ma liście specjalizacji powyżej"
   ]
  },
  {
   "cell_type": "markdown",
   "id": "35296504-1b22-43a5-a2c6-56221aa1b52f",
   "metadata": {},
   "source": [
    "\n",
    "<br>\n",
    "\n",
    "---\n",
    "## Jak widzi Pan przyszłość data science? \n",
    "\n",
    "Dalej idąca specjalizacja i dywersyfikacja wymaganych umiejętności\n"
   ]
  },
  {
   "cell_type": "markdown",
   "id": "010e7d84-4643-447a-b04c-04937f5514be",
   "metadata": {},
   "source": [
    "--- \n",
    "## Czy konieczne jest posiadanie rozbudowanego portfolio własnych projektów?\n",
    "\n",
    "Tak. Ale to chyba do każdej pracy ?\n",
    "\n",
    "<br>"
   ]
  },
  {
   "cell_type": "markdown",
   "id": "d0693ca0-60b0-4a75-9f1d-4b9c3948e590",
   "metadata": {},
   "source": [
    "---\n",
    "\n",
    "## Jakie certyfikaty mogą ułatwić zdobycie pracy? \n",
    "\n",
    "Chmura: AWS, Google Cloud, Azure ...\n",
    "    \n"
   ]
  },
  {
   "cell_type": "markdown",
   "id": "242392e5-cbfb-4dab-84cb-2a98f98bf5a1",
   "metadata": {},
   "source": [
    "## Czy Python jest lepszy od R w data science? \n",
    "\n",
    "## Czy warto uczyć się Pythona, pracując już w R, czy rozwijać R do perfekcji?\n",
    "\n",
    "## Jakie języki programowania są najbardziej przydatne w pracy jako Data Scientist?\n",
    "\n",
    "## Dlaczego Python a nie R ?\n",
    "\n",
    "### Krótka odpowiedź: ... bo coś trzeba wybrać \n",
    "\n",
    "### Dłuższa odpowiedź:"
   ]
  },
  {
   "cell_type": "markdown",
   "id": "47fc3527-58c5-4424-9385-1e6143327761",
   "metadata": {
    "jupyter": {
     "source_hidden": true
    },
    "tags": []
   },
   "source": [
    "![thylacine](img/thylacine0.jpg)"
   ]
  },
  {
   "cell_type": "markdown",
   "id": "6737da01-c9e2-4f6f-bd3d-8a86d88ef9eb",
   "metadata": {
    "jupyter": {
     "source_hidden": true
    },
    "tags": []
   },
   "source": [
    "## Wilk workowaty († _Thylacinus cynocephalus_)\n",
    "\n",
    "- Największy drapieżny torbacz czasów współczesnych.\n",
    "- Drapieżnik alfa (na szczycie piramidy ekologicznej)\n",
    "- Zwierzę nocne. \n",
    "- Polowało na kangury i wombaty – ale również na owce\n",
    "- Długość: 100-110 cm, wysokość ok. 60 cm, waga ok. 30 kg\n",
    "- Uzębienie typowe dla drapieżników"
   ]
  },
  {
   "cell_type": "markdown",
   "id": "a62817b1-dad9-4bbc-8e9f-331e83264e2c",
   "metadata": {
    "jupyter": {
     "source_hidden": true
    },
    "tags": []
   },
   "source": [
    "![thylacine](img/thylacine.jpg)"
   ]
  },
  {
   "cell_type": "markdown",
   "id": "3530594d-ed8a-4848-820d-173e0a290217",
   "metadata": {
    "jupyter": {
     "source_hidden": true
    },
    "tags": []
   },
   "source": [
    "![thylacine](img/wolf.jpg)"
   ]
  },
  {
   "cell_type": "markdown",
   "id": "2ef268e5-3ea4-4237-b6ea-ba6488620542",
   "metadata": {},
   "source": [
    "(Źródła zdjęć: wikipedia)"
   ]
  },
  {
   "cell_type": "markdown",
   "id": "7154cf2d-0be8-419c-8f0b-ee80308ad685",
   "metadata": {},
   "source": [
    "# No dobra, ale co to ma wspólnego z Pythonem ?"
   ]
  },
  {
   "cell_type": "markdown",
   "id": "9e7968ce-9af8-4ee4-9e63-b6d8428a2680",
   "metadata": {},
   "source": [
    "- ## Podobne problemy wymagają podobnych rozwiązań"
   ]
  },
  {
   "cell_type": "markdown",
   "id": "8fe6e8ca-6e56-4334-b9c6-50f52c42df77",
   "metadata": {},
   "source": [
    "## To z czego korzystać ?\n",
    "\n",
    "### Opowiedź: Nie ma znaczenia. Każda technologia jest okazją do nauki :)\n",
    "  - z **R** naucz się jak przygotowywać dane\n",
    "  - z **Pythona** naucz się jak organizować kod i przekazywać go do produkcji\n",
    "  - ze **Scali** - jak pisać funkcjonalnie w sposób skalowalny\n",
    "  - z **Javy** - jak (nie) dzielić projekt na mniejsze częsci\n",
    "  - etc. etc.\n",
    "\n"
   ]
  },
  {
   "cell_type": "markdown",
   "id": "c307f7db-de6c-453d-bafe-aceee87ea8e2",
   "metadata": {},
   "source": [
    "\n",
    "<br>\n",
    "\n",
    "---\n",
    "## Jak widzi Pan przyszłość data science? \n",
    "\n",
    "Dalej idąca specjalizacja i dywersyfikacja wymaganych umiejętności\n"
   ]
  },
  {
   "cell_type": "markdown",
   "id": "8fa3eec3-d0c6-44fe-9430-d0a3f3a8494e",
   "metadata": {},
   "source": [
    "--- \n",
    "## Czy konieczne jest posiadanie rozbudowanego portfolio własnych projektów?\n",
    "\n",
    "Tak. Ale to chyba do każdej pracy ?\n",
    "\n",
    "<br>"
   ]
  },
  {
   "cell_type": "markdown",
   "id": "cd5b26d9-7a24-41ff-a8be-6127e41c27b5",
   "metadata": {},
   "source": [
    "---\n",
    "\n",
    "## Jakie certyfikaty mogą ułatwić zdobycie pracy? \n",
    "\n",
    "Chmura: AWS, Google Cloud, Azure ...\n",
    "    \n"
   ]
  },
  {
   "cell_type": "markdown",
   "id": "9b218e3b-4936-48bc-8235-f371c9bf1498",
   "metadata": {},
   "source": [
    "\n",
    "<br>\n",
    "\n",
    "---\n",
    "## Które obszary będą się najbardziej rozwijać w długiej perspektywie? \n",
    "\n",
    "Te których jeszcze nie ma liście specjalizacji powyżej"
   ]
  },
  {
   "cell_type": "markdown",
   "id": "74630232-9aba-4cc7-a999-cb3e0d96bd98",
   "metadata": {},
   "source": [
    "<br>\n",
    "\n",
    "---\n",
    "\n",
    "## Ile pracy własnej potrzeba, aby osiągnąć takie stanowisko, a ile wynosi się już ze studiów?\n",
    "\n",
    "- Są 3 filary Data Science. Studia raczej nie dają wiedzy we wszystkich trzech.\n",
    "- Pracy - dużo - idealnie konieczne jest zebranie doświadczenia zawodowego w 2 dziedzinach."
   ]
  },
  {
   "cell_type": "markdown",
   "id": "7c0c4aaa-d58b-48cb-9eac-bd05573fd645",
   "metadata": {},
   "source": [
    "\n",
    "<br>\n",
    "\n",
    "---\n",
    "## Czy łatwa jest zmiana obszaru wykonywanej pracy np. z marketingu do IT?\n",
    "\n",
    "Nie. Ale według mnie do Data Science najłatwiej trafić od strony Marketingu. Ja przeszedłem ścieżkę odwrotną - od IT, przez Marketing do Data Science."
   ]
  },
  {
   "cell_type": "markdown",
   "id": "85358e9b-3072-4bf9-9b4f-33a4881dd1e1",
   "metadata": {},
   "source": [
    "\n",
    "<br>\n",
    "\n",
    "---\n",
    "## Czy poza dużymi korporacjami występuje zapotrzebowanie na tak zaawansowaną analitykę? \n",
    "\n",
    "- Tak, często wynajmowani są \"ad-hoc\" do projektów przez \"body-leasing shops\", tak też pracowałem\n",
    "- Tak, w startupach tworzących nową wartość/produkty oparte o dane\n",
    "- Tak, w każdej organizacji która chce zacząć podejmować decyzje w oparciu o dane, a nie o opinie"
   ]
  },
  {
   "cell_type": "markdown",
   "id": "b4e3b3f2-1a5e-437b-88b5-d4bd6fae4261",
   "metadata": {},
   "source": [
    "\n",
    "<br>\n",
    "\n",
    "---\n",
    "## Czym zajmuje się Pan przez znaczną część swojego czasu w pracy jako Data Scientist? \n",
    "\n",
    "## Jaki jest proporcjonalny rozkład obowiązków według czasu w roli Data Scientist?\n",
    "\n",
    "Data Scientist:\n",
    "- 20% czasu słucha i zadaje pytania\n",
    "- 60% czasu zbiera i czyści dane (kodując)\n",
    "- 10% czasu koduje rozwiązanie\n",
    "- 10% czasu się dokształca\n",
    "\n",
    "<br>\n",
    "\n",
    "\n",
    "---\n",
    "## Jak często bierze Pan udział w szkoleniach doszkalających?\n",
    "\n",
    "2-3 razy w tygodniu ponad godzinne szkolenia - wewnętrzne i zewnętrzne. Nie licząc tych, które sam prowadzę.\n",
    "\n",
    "<br>\n",
    "\n",
    "\n",
    "---\n",
    "## Czy ciężko jest nadążyć za szybko zmieniającymi się trendami?\n",
    "\n",
    "TAK\n",
    "\n",
    "<br>\n",
    "\n"
   ]
  },
  {
   "cell_type": "markdown",
   "id": "3943bcfa-bf2f-4d4f-a999-0b6d08df7723",
   "metadata": {},
   "source": [
    "---\n",
    "## Jakie dostrzega Pan wady pracy w data Science?\n",
    "\n",
    "- Nabranie iluzji, że wszystko da się rozwiązać danymi. \n",
    "- Brak możliwości zagwarantowania sukcesu.\n",
    "- Etyczne wyzwania.\n",
    "- Presja na wyniki. \n",
    "  - własna (nieświadome *p-hacking*)\n",
    "  - zewnętrzna - oczekiwanie potwierdzania opinii (ludzie mają słabą metrykę *recall*)\n",
    "\n",
    "<br>\n",
    "\n"
   ]
  },
  {
   "cell_type": "markdown",
   "id": "04b9e492-ece9-433a-841f-271b1994e3ae",
   "metadata": {},
   "source": [
    "---\n",
    "## Jakie są oczekiwane widełki płacowe w Pana roli?\n",
    "\n",
    "- Spore, ale na jakim stanowisku ?\n",
    "- Oferty *too good to be true* -  \"*Co się stało z moim poprzednikiem ?*\"\n",
    "\n",
    "<br>\n",
    "\n"
   ]
  },
  {
   "cell_type": "markdown",
   "id": "1d521ab4-7667-487a-8a81-4a5a8ef47ccf",
   "metadata": {},
   "source": [
    "<br>\n",
    "\n",
    "---\n",
    "## Jakie kompetencje techniczne i miękkie są niezbędne? \n",
    "\n",
    "- Programowanie w Pythonie lub R\n",
    "- Umiejętnośc słuchania ze zrozumieniem\n",
    "- Zorientowanie na rozwiązywanie problemów biznesowych\n",
    "\n",
    "<br>"
   ]
  },
  {
   "cell_type": "markdown",
   "id": "fd8e197f-f352-4430-9c81-8b334ed25a06",
   "metadata": {},
   "source": [
    "---\n",
    "## Jakie Pan pamięta najciekawsze projekty/zastosowania podczas pracy w SE?\n",
    "\n",
    "- te które są używane na codzień przez moich kolegów w Schneider Electric\n",
    "- 1 szczególny: https://biznesmysli.pl/schneider-electric-i-sztuczna-inteligencja-w-sprzedazy/"
   ]
  },
  {
   "cell_type": "markdown",
   "id": "1b0aee27-b7bd-4ed7-8020-43be4ab0350b",
   "metadata": {},
   "source": [
    "\n",
    "<br>\n",
    "\n",
    "---\n",
    "## W jaki sposób analityka jest wykorzystywana w firmie SE?\n",
    "\n",
    "- W marketingu i sprzedaży\n",
    "- W finansach\n",
    "- W produktach IoT\n",
    "- W cyber-bezpieczeństwie \n",
    "- etc. etc."
   ]
  },
  {
   "cell_type": "markdown",
   "id": "3583b237-d000-46ff-bde7-8d86ba3acd87",
   "metadata": {},
   "source": [
    "<br>\n",
    "\n",
    "---\n",
    "## Jak znaleźć pierwszą pracę jako Data Scientist? \n",
    "\n",
    "<br>\n",
    "\n",
    "![](img\\se.png)"
   ]
  },
  {
   "cell_type": "markdown",
   "id": "52c937a4-897d-4535-8eb8-fa85d9fbb8b9",
   "metadata": {},
   "source": [
    "- https://www.se.com/pl/pl/about-us/careers/overview.jsp\n",
    "\n",
    "- https://pracodawcy.pracuj.pl/schneider-electric-polska-sp-z-o-o,7850\n",
    "\n",
    "- https://www.linkedin.com/company/schneider-electric\n",
    "\n",
    "- Wysyłając CV na rekrutacja@se.com "
   ]
  }
 ],
 "metadata": {
  "kernelspec": {
   "display_name": "Python 3",
   "language": "python",
   "name": "python3"
  },
  "language_info": {
   "codemirror_mode": {
    "name": "ipython",
    "version": 3
   },
   "file_extension": ".py",
   "mimetype": "text/x-python",
   "name": "python",
   "nbconvert_exporter": "python",
   "pygments_lexer": "ipython3",
   "version": "3.9.1"
  }
 },
 "nbformat": 4,
 "nbformat_minor": 5
}
