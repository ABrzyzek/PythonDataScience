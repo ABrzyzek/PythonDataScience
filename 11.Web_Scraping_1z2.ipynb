{
 "cells": [
  {
   "cell_type": "markdown",
   "metadata": {},
   "source": [
    "# Warsztaty Python w Data Science\n",
    "\n",
    "---\n",
    "## Web Scraping - część 1 z 2  \n",
    "\n",
    "- ### Budowa web crawlera\n",
    "  - #### Anatomia pająka\n",
    "  - #### Zarządzanie granicą (*Crawling Frontier*)\n",
    "  - #### Jak scrapować etycznie i bezpiecznie\n",
    "- ### Anatomia strony WWW\n",
    "  - #### HTML jaki jest - każdy widzi\n",
    "  - #### Parsowanie pobranych danych\n",
    "- ### Prosty, praktyczny scraper\n",
    "---\n"
   ]
  },
  {
   "cell_type": "markdown",
   "metadata": {},
   "source": [
    "## Budowa (web) crawlera\n",
    "\n",
    "*Web crawler, webbot, pająk, spider, pełzacz, web crawler, web wanderer, scraper* - program zbierający informacje o strukturze i treściach stron WWW. \n",
    "\n",
    "### Anatomia pająka\n"
   ]
  },
  {
   "cell_type": "markdown",
   "metadata": {},
   "source": [
    "*pająk* - to program który:\n",
    "- odwiedzają linki ze listy określanej jako granica (*the frontier*)\n",
    "- z odwiedzonych stron wyciąga i zapisuje informacje\n",
    "  - w szczególności dalsze linki (web indexing)\n",
    "  - odpowiednie linki uzupełniają *granicę* crawlingu\n",
    "  - informację w sposób trwały zapisuje web scraper \n"
   ]
  },
  {
   "cell_type": "markdown",
   "metadata": {},
   "source": [
    "### Zarządzanie granicą (*Crawling Frontier*)\n",
    "\n",
    "- Zakres granicy powinien być ZAWSZE na początku określony\n",
    "    - najlepiej z góry zawężony do określonej liczby i typu linków\n",
    "- Granica winna być mocno ograniczana\n",
    "- Granica rozbudowywana powinna być BARDZO selektywnie\n",
    "- Duża granica powoduje problemy skali"
   ]
  },
  {
   "cell_type": "markdown",
   "metadata": {},
   "source": [
    "---\n",
    "### Jak scrapować etycznie i bezpiecznie"
   ]
  },
  {
   "cell_type": "markdown",
   "metadata": {},
   "source": [
    "1. Po pierwsze - nie szkodzić! Nie obciążaj niepotrzebnie strony scrapowanej\n",
    "2. Przestrzegaj `robots.txt` i warunków korzystania z usługi\n",
    "3. Miej na uwadze, że bazy danych są chronione na podstawie przepisów ustawy o ochronie baz danych \n",
    "4. Przestrzegaj RODO\n",
    "5. Nie ukrywaj się\n",
    "6. Gdzie to możliwe,  korzystaj z API\n",
    "---"
   ]
  },
  {
   "cell_type": "markdown",
   "metadata": {},
   "source": [
    "# art. 8 ustawy z dnia 27 lipca 2001 r. o ochronie baz danych (Dz.U. Nr 28, poz. 1402 ze zm.) \n",
    "\n",
    "1. Wolno korzystać z istotnej, co do jakości lub ilości, części rozpowszechnionej bazy danych:\n",
    "\n",
    "  1)   do własnego użytku osobistego, ale tylko z zawartości nieelektronicznej bazy danych,\n",
    "\n",
    "  2)   w charakterze ilustracji, w celach _**dydaktycznych lub badawczych**_ (podkreslenie moje), ze wskazaniem źródła, jeżeli takie korzystanie jest uzasadnione niekomercyjnym celem, dla którego wykorzystano bazę,\n",
    "  \n",
    "  3)   do celów bezpieczeństwa wewnętrznego, postępowania sądowego lub administracyjnego.\n",
    "\n",
    "2. Nie jest dozwolone powtarzające się i systematyczne pobieranie lub wtórne wykorzystanie sprzeczne z normalnym korzystaniem i powodujące nieusprawiedliwione naruszenie słusznych interesów producenta.\n",
    "---"
   ]
  },
  {
   "cell_type": "markdown",
   "metadata": {},
   "source": [
    "### Anatomia strony WWW\n",
    "#### HTML jaki jest - każdy widzi\n"
   ]
  },
  {
   "cell_type": "code",
   "execution_count": 2,
   "metadata": {},
   "outputs": [],
   "source": [
    "html_doc = \"\"\"\n",
    "<html>\n",
    "<head><title>The Dormouse's story</title></head>\n",
    "<body>\n",
    "<p class=\"title\"><b>The Dormouse's story</b></p>\n",
    "\n",
    "<p class=\"story\">Once upon a time there were three little sisters; and their names were\n",
    "    <a href=\"http://example.com/elsie\" class=\"sister\" id=\"link1\">Elsie</a>,\n",
    "    <a href=\"http://example.com/lacie\" class=\"sister\" id=\"link2\">Lacie</a> and\n",
    "    <a href=\"http://example.com/tillie\" class=\"sister\" id=\"link3\">Tillie</a>;\n",
    "    and they lived at the bottom of a well.</p>\n",
    "\n",
    "<p class=\"story\">...</p>\n",
    "</body></html>\n",
    "\"\"\""
   ]
  },
  {
   "cell_type": "markdown",
   "metadata": {},
   "source": [
    "---\n",
    "#### Parsowanie pobranych danych"
   ]
  },
  {
   "cell_type": "code",
   "execution_count": 3,
   "metadata": {},
   "outputs": [
    {
     "name": "stdout",
     "output_type": "stream",
     "text": [
      "<html>\n",
      " <head>\n",
      "  <title>\n",
      "   The Dormouse's story\n",
      "  </title>\n",
      " </head>\n",
      " <body>\n",
      "  <p class=\"title\">\n",
      "   <b>\n",
      "    The Dormouse's story\n",
      "   </b>\n",
      "  </p>\n",
      "  <p class=\"story\">\n",
      "   Once upon a time there were three little sisters; and their names were\n",
      "   <a class=\"sister\" href=\"http://example.com/elsie\" id=\"link1\">\n",
      "    Elsie\n",
      "   </a>\n",
      "   ,\n",
      "   <a class=\"sister\" href=\"http://example.com/lacie\" id=\"link2\">\n",
      "    Lacie\n",
      "   </a>\n",
      "   and\n",
      "   <a class=\"sister\" href=\"http://example.com/tillie\" id=\"link3\">\n",
      "    Tillie\n",
      "   </a>\n",
      "   ;\n",
      "    and they lived at the bottom of a well.\n",
      "  </p>\n",
      "  <p class=\"story\">\n",
      "   ...\n",
      "  </p>\n",
      " </body>\n",
      "</html>\n",
      "\n"
     ]
    }
   ],
   "source": [
    "from bs4 import BeautifulSoup\n",
    "soup = BeautifulSoup(html_doc, 'html.parser')\n",
    "\n",
    "print(soup.prettify())"
   ]
  },
  {
   "cell_type": "markdown",
   "metadata": {},
   "source": [
    "---\n",
    "## HTML ma\n",
    "- strukturę drzewiastą\n",
    "- znaczniki się zagnieżdzają i mają mieć (w teorii):\n",
    "  - `<a>` - początek\n",
    "  - `</a>` - koniec\n",
    "- pomiędzy początkiem a końcem są tzw. dzieci\n",
    "- znaczniki nie mogą się \"zazębiac\" np. `<a><b></a></b>` (w teorii ...)\n",
    "- znaczniki mają atrybuty - np. `<a href=\"linkdostrony\">Tu jest link</a>\n",
    "---"
   ]
  },
  {
   "cell_type": "raw",
   "metadata": {},
   "source": [
    "html\n",
    " ┣ head\n",
    " ┃  ┗ title\n",
    " ┗ body\t\n",
    "    ┣ p\n",
    "    ┃ ┗ b\n",
    "    ┣ p\n",
    "    ┃ ┣ a    \n",
    "    ┃ ┣ a    \n",
    "    ┃ ┗ a\n",
    "    ┗ p"
   ]
  },
  {
   "cell_type": "code",
   "execution_count": 4,
   "metadata": {},
   "outputs": [],
   "source": [
    "from bs4 import BeautifulSoup\n",
    "\n",
    "soup = BeautifulSoup(html_doc)"
   ]
  },
  {
   "cell_type": "raw",
   "metadata": {},
   "source": [
    "!pip install bs4"
   ]
  },
  {
   "cell_type": "code",
   "execution_count": 5,
   "metadata": {},
   "outputs": [
    {
     "data": {
      "text/plain": [
       "<p class=\"title\"><b>The Dormouse's story</b></p>"
      ]
     },
     "execution_count": 5,
     "metadata": {},
     "output_type": "execute_result"
    }
   ],
   "source": [
    "soup.p"
   ]
  },
  {
   "cell_type": "code",
   "execution_count": 6,
   "metadata": {},
   "outputs": [
    {
     "data": {
      "text/plain": [
       "['title']"
      ]
     },
     "execution_count": 6,
     "metadata": {},
     "output_type": "execute_result"
    }
   ],
   "source": [
    "soup.p['class']"
   ]
  },
  {
   "cell_type": "code",
   "execution_count": 7,
   "metadata": {},
   "outputs": [
    {
     "data": {
      "text/plain": [
       "<a class=\"sister\" href=\"http://example.com/elsie\" id=\"link1\">Elsie</a>"
      ]
     },
     "execution_count": 7,
     "metadata": {},
     "output_type": "execute_result"
    }
   ],
   "source": [
    "soup.a"
   ]
  },
  {
   "cell_type": "markdown",
   "metadata": {},
   "source": [
    "### Szukanie po znaczniku"
   ]
  },
  {
   "cell_type": "code",
   "execution_count": 8,
   "metadata": {},
   "outputs": [
    {
     "data": {
      "text/plain": [
       "[<a class=\"sister\" href=\"http://example.com/elsie\" id=\"link1\">Elsie</a>,\n",
       " <a class=\"sister\" href=\"http://example.com/lacie\" id=\"link2\">Lacie</a>,\n",
       " <a class=\"sister\" href=\"http://example.com/tillie\" id=\"link3\">Tillie</a>]"
      ]
     },
     "execution_count": 8,
     "metadata": {},
     "output_type": "execute_result"
    }
   ],
   "source": [
    "soup.find_all('a')"
   ]
  },
  {
   "cell_type": "markdown",
   "metadata": {},
   "source": [
    "### Szukanie po id"
   ]
  },
  {
   "cell_type": "code",
   "execution_count": 9,
   "metadata": {},
   "outputs": [
    {
     "data": {
      "text/plain": [
       "<a class=\"sister\" href=\"http://example.com/tillie\" id=\"link3\">Tillie</a>"
      ]
     },
     "execution_count": 9,
     "metadata": {},
     "output_type": "execute_result"
    }
   ],
   "source": [
    "soup.find(id=\"link3\")"
   ]
  },
  {
   "cell_type": "markdown",
   "metadata": {},
   "source": [
    "### Wyciąganie atrybutów"
   ]
  },
  {
   "cell_type": "code",
   "execution_count": 10,
   "metadata": {},
   "outputs": [
    {
     "data": {
      "text/plain": [
       "['http://example.com/elsie',\n",
       " 'http://example.com/lacie',\n",
       " 'http://example.com/tillie']"
      ]
     },
     "execution_count": 10,
     "metadata": {},
     "output_type": "execute_result"
    }
   ],
   "source": [
    "[ link.get('href') for link in soup.find_all('a')]"
   ]
  },
  {
   "cell_type": "markdown",
   "metadata": {},
   "source": [
    "### Wędrowanie po drzewie"
   ]
  },
  {
   "cell_type": "code",
   "execution_count": 11,
   "metadata": {},
   "outputs": [
    {
     "data": {
      "text/plain": [
       "<a class=\"sister\" href=\"http://example.com/elsie\" id=\"link1\">Elsie</a>"
      ]
     },
     "execution_count": 11,
     "metadata": {},
     "output_type": "execute_result"
    }
   ],
   "source": [
    "soup.a"
   ]
  },
  {
   "cell_type": "code",
   "execution_count": 12,
   "metadata": {},
   "outputs": [
    {
     "data": {
      "text/plain": [
       "<a class=\"sister\" href=\"http://example.com/lacie\" id=\"link2\">Lacie</a>"
      ]
     },
     "execution_count": 12,
     "metadata": {},
     "output_type": "execute_result"
    }
   ],
   "source": [
    "soup.a.find_next_sibling(\"a\")"
   ]
  },
  {
   "cell_type": "code",
   "execution_count": 13,
   "metadata": {},
   "outputs": [
    {
     "data": {
      "text/plain": [
       "<p class=\"title\"><b>The Dormouse's story</b></p>"
      ]
     },
     "execution_count": 13,
     "metadata": {},
     "output_type": "execute_result"
    }
   ],
   "source": [
    "soup.p"
   ]
  },
  {
   "cell_type": "code",
   "execution_count": 15,
   "metadata": {},
   "outputs": [
    {
     "data": {
      "text/plain": [
       "<p class=\"story\">Once upon a time there were three little sisters; and their names were\n",
       "    <a class=\"sister\" href=\"http://example.com/elsie\" id=\"link1\">Elsie</a>,\n",
       "    <a class=\"sister\" href=\"http://example.com/lacie\" id=\"link2\">Lacie</a> and\n",
       "    <a class=\"sister\" href=\"http://example.com/tillie\" id=\"link3\">Tillie</a>;\n",
       "    and they lived at the bottom of a well.</p>"
      ]
     },
     "execution_count": 15,
     "metadata": {},
     "output_type": "execute_result"
    }
   ],
   "source": [
    "soup.p.find_next_sibling(\"p\")"
   ]
  },
  {
   "cell_type": "code",
   "execution_count": 18,
   "metadata": {},
   "outputs": [],
   "source": [
    "pn=soup.p.find_next_sibling(\"p\")\n",
    "children = pn.children"
   ]
  },
  {
   "cell_type": "code",
   "execution_count": 19,
   "metadata": {},
   "outputs": [
    {
     "data": {
      "text/plain": [
       "<list_iterator at 0x1839e29c5b0>"
      ]
     },
     "execution_count": 19,
     "metadata": {},
     "output_type": "execute_result"
    }
   ],
   "source": [
    "children"
   ]
  },
  {
   "cell_type": "code",
   "execution_count": 20,
   "metadata": {},
   "outputs": [
    {
     "data": {
      "text/plain": [
       "['Once upon a time there were three little sisters; and their names were\\n    ',\n",
       " <a class=\"sister\" href=\"http://example.com/elsie\" id=\"link1\">Elsie</a>,\n",
       " ',\\n    ',\n",
       " <a class=\"sister\" href=\"http://example.com/lacie\" id=\"link2\">Lacie</a>,\n",
       " ' and\\n    ',\n",
       " <a class=\"sister\" href=\"http://example.com/tillie\" id=\"link3\">Tillie</a>,\n",
       " ';\\n    and they lived at the bottom of a well.']"
      ]
     },
     "execution_count": 20,
     "metadata": {},
     "output_type": "execute_result"
    }
   ],
   "source": [
    "lista = [ x for x in children ]\n",
    "lista"
   ]
  },
  {
   "cell_type": "code",
   "execution_count": 21,
   "metadata": {},
   "outputs": [
    {
     "data": {
      "text/plain": [
       "'http://example.com/elsie'"
      ]
     },
     "execution_count": 21,
     "metadata": {},
     "output_type": "execute_result"
    }
   ],
   "source": [
    "lista[1].get('href')"
   ]
  },
  {
   "cell_type": "code",
   "execution_count": 22,
   "metadata": {},
   "outputs": [
    {
     "data": {
      "text/plain": [
       "<head><title>The Dormouse's story</title></head>"
      ]
     },
     "execution_count": 22,
     "metadata": {},
     "output_type": "execute_result"
    }
   ],
   "source": [
    "head_tag = soup.head\n",
    "head_tag"
   ]
  },
  {
   "cell_type": "code",
   "execution_count": 23,
   "metadata": {},
   "outputs": [
    {
     "name": "stdout",
     "output_type": "stream",
     "text": [
      "<title>The Dormouse's story</title>\n"
     ]
    }
   ],
   "source": [
    "for child in head_tag.children:\n",
    "    print(child)"
   ]
  },
  {
   "cell_type": "code",
   "execution_count": 24,
   "metadata": {},
   "outputs": [
    {
     "name": "stdout",
     "output_type": "stream",
     "text": [
      "<title>The Dormouse's story</title>\n",
      "The Dormouse's story\n"
     ]
    }
   ],
   "source": [
    "for child in head_tag.descendants:\n",
    "    print(child)"
   ]
  },
  {
   "cell_type": "code",
   "execution_count": 25,
   "metadata": {},
   "outputs": [
    {
     "data": {
      "text/plain": [
       "<a class=\"sister\" href=\"http://example.com/tillie\" id=\"link3\">Tillie</a>"
      ]
     },
     "execution_count": 25,
     "metadata": {},
     "output_type": "execute_result"
    }
   ],
   "source": [
    "last_a_tag = soup.find(\"a\", id=\"link3\")\n",
    "last_a_tag\n"
   ]
  },
  {
   "cell_type": "code",
   "execution_count": 26,
   "metadata": {},
   "outputs": [
    {
     "data": {
      "text/plain": [
       "';\\n    and they lived at the bottom of a well.'"
      ]
     },
     "execution_count": 26,
     "metadata": {},
     "output_type": "execute_result"
    }
   ],
   "source": [
    "last_a_tag.next_sibling"
   ]
  },
  {
   "cell_type": "code",
   "execution_count": 27,
   "metadata": {},
   "outputs": [
    {
     "data": {
      "text/plain": [
       "'Tillie'"
      ]
     },
     "execution_count": 27,
     "metadata": {},
     "output_type": "execute_result"
    }
   ],
   "source": [
    "last_a_tag.next_element"
   ]
  },
  {
   "cell_type": "code",
   "execution_count": 28,
   "metadata": {},
   "outputs": [
    {
     "data": {
      "text/plain": [
       "<p class=\"story\">Once upon a time there were three little sisters; and their names were\n",
       "    <a class=\"sister\" href=\"http://example.com/elsie\" id=\"link1\">Elsie</a>,\n",
       "    <a class=\"sister\" href=\"http://example.com/lacie\" id=\"link2\">Lacie</a> and\n",
       "    <a class=\"sister\" href=\"http://example.com/tillie\" id=\"link3\">Tillie</a>;\n",
       "    and they lived at the bottom of a well.</p>"
      ]
     },
     "execution_count": 28,
     "metadata": {},
     "output_type": "execute_result"
    }
   ],
   "source": [
    "last_a_tag.parent"
   ]
  },
  {
   "cell_type": "markdown",
   "metadata": {},
   "source": [
    "### Szukanie przy użyciu predykatu (funckji logicznej)"
   ]
  },
  {
   "cell_type": "code",
   "execution_count": 29,
   "metadata": {},
   "outputs": [
    {
     "data": {
      "text/plain": [
       "[<p class=\"title\"><b>The Dormouse's story</b></p>,\n",
       " <p class=\"story\">Once upon a time there were three little sisters; and their names were\n",
       "     <a class=\"sister\" href=\"http://example.com/elsie\" id=\"link1\">Elsie</a>,\n",
       "     <a class=\"sister\" href=\"http://example.com/lacie\" id=\"link2\">Lacie</a> and\n",
       "     <a class=\"sister\" href=\"http://example.com/tillie\" id=\"link3\">Tillie</a>;\n",
       "     and they lived at the bottom of a well.</p>,\n",
       " <p class=\"story\">...</p>]"
      ]
     },
     "execution_count": 29,
     "metadata": {},
     "output_type": "execute_result"
    }
   ],
   "source": [
    "def has_class_but_no_id(tag):\n",
    "    return tag.has_attr('class') and not tag.has_attr('id')\n",
    "\n",
    "soup.find_all(has_class_but_no_id)"
   ]
  },
  {
   "cell_type": "code",
   "execution_count": 30,
   "metadata": {},
   "outputs": [
    {
     "data": {
      "text/plain": [
       "[<a class=\"sister\" href=\"http://example.com/lacie\" id=\"link2\">Lacie</a>]"
      ]
     },
     "execution_count": 30,
     "metadata": {},
     "output_type": "execute_result"
    }
   ],
   "source": [
    "soup.find_all(id='link2')"
   ]
  },
  {
   "cell_type": "code",
   "execution_count": 32,
   "metadata": {},
   "outputs": [
    {
     "data": {
      "text/plain": [
       "[<a class=\"sister\" href=\"http://example.com/elsie\" id=\"link1\">Elsie</a>,\n",
       " <a class=\"sister\" href=\"http://example.com/lacie\" id=\"link2\">Lacie</a>,\n",
       " <a class=\"sister\" href=\"http://example.com/tillie\" id=\"link3\">Tillie</a>]"
      ]
     },
     "execution_count": 32,
     "metadata": {},
     "output_type": "execute_result"
    }
   ],
   "source": [
    "soup.find_all(\"a\", class_=\"sister\")"
   ]
  },
  {
   "cell_type": "code",
   "execution_count": 33,
   "metadata": {},
   "outputs": [
    {
     "data": {
      "text/plain": [
       "[<a class=\"sister\" href=\"http://example.com/elsie\" id=\"link1\">Elsie</a>,\n",
       " <a class=\"sister\" href=\"http://example.com/lacie\" id=\"link2\">Lacie</a>,\n",
       " <a class=\"sister\" href=\"http://example.com/tillie\" id=\"link3\">Tillie</a>]"
      ]
     },
     "execution_count": 33,
     "metadata": {},
     "output_type": "execute_result"
    }
   ],
   "source": [
    "soup.find_all(\"a\")\n",
    "soup(\"a\")"
   ]
  },
  {
   "cell_type": "markdown",
   "metadata": {},
   "source": [
    "---\n",
    "## Prosty, praktyczny scraper"
   ]
  },
  {
   "cell_type": "code",
   "execution_count": 34,
   "metadata": {},
   "outputs": [
    {
     "name": "stdout",
     "output_type": "stream",
     "text": [
      "<Response [200]>\n"
     ]
    }
   ],
   "source": [
    "import requests\n",
    "from bs4 import BeautifulSoup\n",
    "import pandas as pd\n",
    "import time\n",
    "\n",
    "\n",
    "url = f'https://pl.wikipedia.org/wiki/Dane_statystyczne_o_miastach_w_Polsce'\n",
    "    \n",
    "page = requests.get(url)\n",
    "print (page)\n"
   ]
  },
  {
   "cell_type": "code",
   "execution_count": 35,
   "metadata": {},
   "outputs": [
    {
     "data": {
      "text/plain": [
       "b'<!DOCTYPE html>\\n<html class=\"client-nojs\" lang=\"pl\" dir=\"ltr\">\\n<head>\\n<meta charset=\"UTF-8\"/>\\n<title>Dane statystyczne o miastach w Polsce \\xe2\\x80\\x93 Wikipedia, wolna encyklopedia</title>\\n<script>document.documentElement.className=\"client-js\";RLCONF={\"wgBreakFrames\":false,\"wgSeparatorTransformTable\":[\",\\\\t.'"
      ]
     },
     "execution_count": 35,
     "metadata": {},
     "output_type": "execute_result"
    }
   ],
   "source": [
    "page.content[:300]"
   ]
  },
  {
   "cell_type": "code",
   "execution_count": 36,
   "metadata": {},
   "outputs": [],
   "source": [
    "from bs4 import BeautifulSoup\n",
    "\n",
    "soup = BeautifulSoup(page.content)"
   ]
  },
  {
   "cell_type": "code",
   "execution_count": 37,
   "metadata": {},
   "outputs": [
    {
     "data": {
      "text/plain": [
       "1"
      ]
     },
     "execution_count": 37,
     "metadata": {},
     "output_type": "execute_result"
    }
   ],
   "source": [
    "tables = soup.find_all('table')\n",
    "len(tables)"
   ]
  },
  {
   "cell_type": "code",
   "execution_count": 38,
   "metadata": {},
   "outputs": [
    {
     "name": "stdout",
     "output_type": "stream",
     "text": [
      "<tr>\n",
      "<th style=\"width: 26%\">Miasto\n",
      "</th>\n",
      "<th style=\"width: 26%\"><a href=\"/wiki/Powiat_(Polska)\" title=\"Powiat (Polska)\">Powiat</a>\n",
      "</th>\n",
      "<th style=\"width: 24%\"><a href=\"/wiki/Wojew%C3%B3dztwo\" title=\"Województwo\">Województwo</a>\n",
      "</th>\n",
      "<th style=\"width: 8%\">Powierzchnia [ha] (01.01.2021)\n",
      "</th>\n",
      "<th style=\"width: 8%\"><a href=\"/wiki/Liczba_ludno%C5%9Bci\" title=\"Liczba ludności\">Liczba ludności</a> (01.01.2021)\n",
      "</th>\n",
      "<th style=\"width: 8%\"><a href=\"/wiki/G%C4%99sto%C5%9B%C4%87_zaludnienia\" title=\"Gęstość zaludnienia\">Gęstość zaludnienia</a> [osoby/km²] (01.01.2021)\n",
      "</th></tr>\n",
      "<tr>\n",
      "<td><b><a href=\"/wiki/Aleksandr%C3%B3w_Kujawski\" title=\"Aleksandrów Kujawski\">Aleksandrów Kujawski</a></b>\n",
      "</td>\n",
      "<td><a href=\"/wiki/Powiat_aleksandrowski\" title=\"Powiat aleksandrowski\">aleksandrowski</a>\n",
      "</td>\n",
      "<td><a href=\"/wiki/Wojew%C3%B3dztwo_kujawsko-pomorskie\" title=\"Województwo kujawsko-pomorskie\">kujawsko-pomorskie</a>\n",
      "</td>\n",
      "<td>723\n",
      "</td>\n",
      "<td>12058\n",
      "</td>\n",
      "<td>1668\n",
      "</td></tr>\n",
      "<tr>\n",
      "<td><a href=\"/wiki/Aleksandr%C3%B3w_%C5%81%C3%B3dzki\" title=\"Aleksandrów Łódzki\">Aleksandrów Łódzki</a>\n",
      "</td>\n",
      "<td><a href=\"/wiki/Powiat_zgierski\" title=\"Powiat zgierski\">zgierski</a>\n",
      "</td>\n",
      "<td><a href=\"/wiki/Wojew%C3%B3dztwo_%C5%82%C3%B3dzkie\" title=\"Województwo łódzkie\">łódzkie</a>\n",
      "</td>\n",
      "<td>1382\n",
      "</td>\n",
      "<td>21754\n",
      "</td>\n",
      "<td>1574\n",
      "</td></tr>\n"
     ]
    }
   ],
   "source": [
    "table = tables[0]\n",
    "rows = table.find_all('tr')\n",
    "for row in rows[:3]:\n",
    "    print (row)"
   ]
  },
  {
   "cell_type": "code",
   "execution_count": 39,
   "metadata": {},
   "outputs": [
    {
     "name": "stdout",
     "output_type": "stream",
     "text": [
      "<td><b><a href=\"/wiki/Aleksandr%C3%B3w_Kujawski\" title=\"Aleksandrów Kujawski\">Aleksandrów Kujawski</a></b>\n",
      "</td>\n",
      "<td><a href=\"/wiki/Powiat_aleksandrowski\" title=\"Powiat aleksandrowski\">aleksandrowski</a>\n",
      "</td>\n",
      "<td><a href=\"/wiki/Wojew%C3%B3dztwo_kujawsko-pomorskie\" title=\"Województwo kujawsko-pomorskie\">kujawsko-pomorskie</a>\n",
      "</td>\n",
      "<td>723\n",
      "</td>\n",
      "<td><a href=\"/wiki/Aleksandr%C3%B3w_%C5%81%C3%B3dzki\" title=\"Aleksandrów Łódzki\">Aleksandrów Łódzki</a>\n",
      "</td>\n",
      "<td><a href=\"/wiki/Powiat_zgierski\" title=\"Powiat zgierski\">zgierski</a>\n",
      "</td>\n",
      "<td><a href=\"/wiki/Wojew%C3%B3dztwo_%C5%82%C3%B3dzkie\" title=\"Województwo łódzkie\">łódzkie</a>\n",
      "</td>\n",
      "<td>1382\n",
      "</td>\n"
     ]
    }
   ],
   "source": [
    "table = tables[0]\n",
    "rows = table.find_all('tr')\n",
    "for row in rows[:3]:\n",
    "    cells = row.find_all('td')\n",
    "    for cell in cells[:4]:\n",
    "        print(cell)"
   ]
  },
  {
   "cell_type": "code",
   "execution_count": 40,
   "metadata": {},
   "outputs": [
    {
     "name": "stdout",
     "output_type": "stream",
     "text": [
      "<a href=\"/wiki/Aleksandr%C3%B3w_Kujawski\" title=\"Aleksandrów Kujawski\">Aleksandrów Kujawski</a>\n",
      "<a href=\"/wiki/Powiat_aleksandrowski\" title=\"Powiat aleksandrowski\">aleksandrowski</a>\n",
      "<a href=\"/wiki/Wojew%C3%B3dztwo_kujawsko-pomorskie\" title=\"Województwo kujawsko-pomorskie\">kujawsko-pomorskie</a>\n",
      "<a href=\"/wiki/Aleksandr%C3%B3w_%C5%81%C3%B3dzki\" title=\"Aleksandrów Łódzki\">Aleksandrów Łódzki</a>\n",
      "<a href=\"/wiki/Powiat_zgierski\" title=\"Powiat zgierski\">zgierski</a>\n",
      "<a href=\"/wiki/Wojew%C3%B3dztwo_%C5%82%C3%B3dzkie\" title=\"Województwo łódzkie\">łódzkie</a>\n"
     ]
    }
   ],
   "source": [
    "table = tables[0]\n",
    "rows = table.find_all('tr')\n",
    "for row in rows[:3]:\n",
    "    cells = row.find_all('td')\n",
    "    for cell in cells[:4]:\n",
    "        link=cell.find('a')\n",
    "        if link and link!=-1:\n",
    "            print(link)"
   ]
  },
  {
   "cell_type": "code",
   "execution_count": 41,
   "metadata": {},
   "outputs": [
    {
     "name": "stdout",
     "output_type": "stream",
     "text": [
      "Aleksandrów Kujawski\n",
      "aleksandrowski\n",
      "kujawsko-pomorskie\n",
      "Aleksandrów Łódzki\n",
      "zgierski\n",
      "łódzkie\n"
     ]
    }
   ],
   "source": [
    "table = tables[0]\n",
    "rows = table.find_all('tr')\n",
    "for row in rows[:3]:\n",
    "    cells = row.find_all('td')\n",
    "    for cell in cells[:4]:\n",
    "        link=cell.find('a')\n",
    "        if link and link!=-1:\n",
    "            print(link.text)"
   ]
  },
  {
   "cell_type": "code",
   "execution_count": 42,
   "metadata": {},
   "outputs": [
    {
     "name": "stdout",
     "output_type": "stream",
     "text": [
      "723\n",
      "\n",
      "1382\n",
      "\n"
     ]
    }
   ],
   "source": [
    "table = tables[0]\n",
    "rows = table.find_all('tr')\n",
    "for row in rows[:3]:\n",
    "    cells = row.find_all('td')\n",
    "    for cell in cells[:4]:\n",
    "        link=cell.find('a')\n",
    "        if link and link!=-1:\n",
    "            pass\n",
    "        else:\n",
    "            print(cell.text)"
   ]
  },
  {
   "cell_type": "code",
   "execution_count": 43,
   "metadata": {},
   "outputs": [
    {
     "data": {
      "text/plain": [
       "[['Aleksandrów Kujawski',\n",
       "  'aleksandrowski',\n",
       "  'kujawsko-pomorskie',\n",
       "  '723',\n",
       "  '12058',\n",
       "  '1668'],\n",
       " ['Aleksandrów Łódzki', 'zgierski', 'łódzkie', '1382', '21754', '1574'],\n",
       " ['Alwernia', 'chrzanowski', 'małopolskie', '888', '3336', '376'],\n",
       " ['Andrychów', 'wadowicki', 'małopolskie', '1033', '19837', '1920']]"
      ]
     },
     "execution_count": 43,
     "metadata": {},
     "output_type": "execute_result"
    }
   ],
   "source": [
    "data = []\n",
    "table = tables[0]\n",
    "rows = table.find_all('tr')\n",
    "for row in rows:\n",
    "    data_row = []\n",
    "    cells = row.find_all('td')\n",
    "    for cell in cells:\n",
    "        link=cell.find('a')\n",
    "        if link and link!=-1:\n",
    "            data_row.append(link.text.strip())\n",
    "        else:\n",
    "            data_row.append(cell.text.strip())\n",
    "    if data_row:\n",
    "        data.append(data_row)\n",
    "data[:4]"
   ]
  },
  {
   "cell_type": "code",
   "execution_count": 44,
   "metadata": {},
   "outputs": [
    {
     "data": {
      "text/html": [
       "<div>\n",
       "<style scoped>\n",
       "    .dataframe tbody tr th:only-of-type {\n",
       "        vertical-align: middle;\n",
       "    }\n",
       "\n",
       "    .dataframe tbody tr th {\n",
       "        vertical-align: top;\n",
       "    }\n",
       "\n",
       "    .dataframe thead th {\n",
       "        text-align: right;\n",
       "    }\n",
       "</style>\n",
       "<table border=\"1\" class=\"dataframe\">\n",
       "  <thead>\n",
       "    <tr style=\"text-align: right;\">\n",
       "      <th></th>\n",
       "      <th>0</th>\n",
       "      <th>1</th>\n",
       "      <th>2</th>\n",
       "      <th>3</th>\n",
       "      <th>4</th>\n",
       "      <th>5</th>\n",
       "    </tr>\n",
       "  </thead>\n",
       "  <tbody>\n",
       "    <tr>\n",
       "      <th>0</th>\n",
       "      <td>Aleksandrów Kujawski</td>\n",
       "      <td>aleksandrowski</td>\n",
       "      <td>kujawsko-pomorskie</td>\n",
       "      <td>723</td>\n",
       "      <td>12058</td>\n",
       "      <td>1668</td>\n",
       "    </tr>\n",
       "    <tr>\n",
       "      <th>1</th>\n",
       "      <td>Aleksandrów Łódzki</td>\n",
       "      <td>zgierski</td>\n",
       "      <td>łódzkie</td>\n",
       "      <td>1382</td>\n",
       "      <td>21754</td>\n",
       "      <td>1574</td>\n",
       "    </tr>\n",
       "    <tr>\n",
       "      <th>2</th>\n",
       "      <td>Alwernia</td>\n",
       "      <td>chrzanowski</td>\n",
       "      <td>małopolskie</td>\n",
       "      <td>888</td>\n",
       "      <td>3336</td>\n",
       "      <td>376</td>\n",
       "    </tr>\n",
       "    <tr>\n",
       "      <th>3</th>\n",
       "      <td>Andrychów</td>\n",
       "      <td>wadowicki</td>\n",
       "      <td>małopolskie</td>\n",
       "      <td>1033</td>\n",
       "      <td>19837</td>\n",
       "      <td>1920</td>\n",
       "    </tr>\n",
       "    <tr>\n",
       "      <th>4</th>\n",
       "      <td>Annopol</td>\n",
       "      <td>kraśnicki</td>\n",
       "      <td>lubelskie</td>\n",
       "      <td>773</td>\n",
       "      <td>2436</td>\n",
       "      <td>315</td>\n",
       "    </tr>\n",
       "    <tr>\n",
       "      <th>...</th>\n",
       "      <td>...</td>\n",
       "      <td>...</td>\n",
       "      <td>...</td>\n",
       "      <td>...</td>\n",
       "      <td>...</td>\n",
       "      <td>...</td>\n",
       "    </tr>\n",
       "    <tr>\n",
       "      <th>949</th>\n",
       "      <td>Żukowo</td>\n",
       "      <td>kartuski</td>\n",
       "      <td>pomorskie</td>\n",
       "      <td>473</td>\n",
       "      <td>8135</td>\n",
       "      <td>1422</td>\n",
       "    </tr>\n",
       "    <tr>\n",
       "      <th>950</th>\n",
       "      <td>Żuromin</td>\n",
       "      <td>żuromiński</td>\n",
       "      <td>mazowieckie</td>\n",
       "      <td>1118</td>\n",
       "      <td>8756</td>\n",
       "      <td>783</td>\n",
       "    </tr>\n",
       "    <tr>\n",
       "      <th>951</th>\n",
       "      <td>Żychlin</td>\n",
       "      <td>kutnowski</td>\n",
       "      <td>łódzkie</td>\n",
       "      <td>868</td>\n",
       "      <td>7964</td>\n",
       "      <td>918</td>\n",
       "    </tr>\n",
       "    <tr>\n",
       "      <th>952</th>\n",
       "      <td>Żyrardów</td>\n",
       "      <td>żyrardowski</td>\n",
       "      <td>mazowieckie</td>\n",
       "      <td>1435</td>\n",
       "      <td>39550</td>\n",
       "      <td>2756</td>\n",
       "    </tr>\n",
       "    <tr>\n",
       "      <th>953</th>\n",
       "      <td>Żywiec</td>\n",
       "      <td>żywiecki</td>\n",
       "      <td>śląskie</td>\n",
       "      <td>5054</td>\n",
       "      <td>30733</td>\n",
       "      <td>608</td>\n",
       "    </tr>\n",
       "  </tbody>\n",
       "</table>\n",
       "<p>954 rows × 6 columns</p>\n",
       "</div>"
      ],
      "text/plain": [
       "                        0               1                   2     3      4  \\\n",
       "0    Aleksandrów Kujawski  aleksandrowski  kujawsko-pomorskie   723  12058   \n",
       "1      Aleksandrów Łódzki        zgierski             łódzkie  1382  21754   \n",
       "2                Alwernia     chrzanowski         małopolskie   888   3336   \n",
       "3               Andrychów       wadowicki         małopolskie  1033  19837   \n",
       "4                 Annopol       kraśnicki           lubelskie   773   2436   \n",
       "..                    ...             ...                 ...   ...    ...   \n",
       "949                Żukowo        kartuski           pomorskie   473   8135   \n",
       "950               Żuromin      żuromiński         mazowieckie  1118   8756   \n",
       "951               Żychlin       kutnowski             łódzkie   868   7964   \n",
       "952              Żyrardów     żyrardowski         mazowieckie  1435  39550   \n",
       "953                Żywiec        żywiecki             śląskie  5054  30733   \n",
       "\n",
       "        5  \n",
       "0    1668  \n",
       "1    1574  \n",
       "2     376  \n",
       "3    1920  \n",
       "4     315  \n",
       "..    ...  \n",
       "949  1422  \n",
       "950   783  \n",
       "951   918  \n",
       "952  2756  \n",
       "953   608  \n",
       "\n",
       "[954 rows x 6 columns]"
      ]
     },
     "execution_count": 44,
     "metadata": {},
     "output_type": "execute_result"
    }
   ],
   "source": [
    "import pandas as pd\n",
    "\n",
    "df = pd.DataFrame(data)\n",
    "df"
   ]
  },
  {
   "cell_type": "code",
   "execution_count": 45,
   "metadata": {},
   "outputs": [
    {
     "name": "stdout",
     "output_type": "stream",
     "text": [
      "<th style=\"width: 26%\">Miasto\n",
      "</th>\n",
      "<th style=\"width: 26%\"><a href=\"/wiki/Powiat_(Polska)\" title=\"Powiat (Polska)\">Powiat</a>\n",
      "</th>\n",
      "<th style=\"width: 24%\"><a href=\"/wiki/Wojew%C3%B3dztwo\" title=\"Województwo\">Województwo</a>\n",
      "</th>\n",
      "<th style=\"width: 8%\">Powierzchnia [ha] (01.01.2021)\n",
      "</th>\n",
      "<th style=\"width: 8%\"><a href=\"/wiki/Liczba_ludno%C5%9Bci\" title=\"Liczba ludności\">Liczba ludności</a> (01.01.2021)\n",
      "</th>\n",
      "<th style=\"width: 8%\"><a href=\"/wiki/G%C4%99sto%C5%9B%C4%87_zaludnienia\" title=\"Gęstość zaludnienia\">Gęstość zaludnienia</a> [osoby/km²] (01.01.2021)\n",
      "</th>\n"
     ]
    }
   ],
   "source": [
    "rows = table.find_all('tr')\n",
    "for row in rows:\n",
    "    data_row = []\n",
    "    cells = row.find_all('th')\n",
    "    for cell in cells:\n",
    "        print(cell)\n",
    "    break"
   ]
  },
  {
   "cell_type": "code",
   "execution_count": 46,
   "metadata": {},
   "outputs": [
    {
     "name": "stdout",
     "output_type": "stream",
     "text": [
      "['Miasto', 'Powiat', 'Województwo', 'Powierzchnia [ha] (01.01.2021)', 'Liczba ludności', 'Gęstość zaludnienia']\n"
     ]
    }
   ],
   "source": [
    "header = []\n",
    "rows = table.find_all('tr')\n",
    "for row in rows:\n",
    "    data_row = []\n",
    "    cells = row.find_all('th')\n",
    "    for cell in cells:\n",
    "        link=cell.find('a')\n",
    "        if link and link!=-1:\n",
    "            header.append(link.text.strip())\n",
    "        else:\n",
    "            header.append(cell.text.strip())\n",
    "print(header)"
   ]
  },
  {
   "cell_type": "code",
   "execution_count": 47,
   "metadata": {},
   "outputs": [
    {
     "data": {
      "text/html": [
       "<div>\n",
       "<style scoped>\n",
       "    .dataframe tbody tr th:only-of-type {\n",
       "        vertical-align: middle;\n",
       "    }\n",
       "\n",
       "    .dataframe tbody tr th {\n",
       "        vertical-align: top;\n",
       "    }\n",
       "\n",
       "    .dataframe thead th {\n",
       "        text-align: right;\n",
       "    }\n",
       "</style>\n",
       "<table border=\"1\" class=\"dataframe\">\n",
       "  <thead>\n",
       "    <tr style=\"text-align: right;\">\n",
       "      <th></th>\n",
       "      <th>Miasto</th>\n",
       "      <th>Powiat</th>\n",
       "      <th>Województwo</th>\n",
       "      <th>Powierzchnia [ha] (01.01.2021)</th>\n",
       "      <th>Liczba ludności</th>\n",
       "      <th>Gęstość zaludnienia</th>\n",
       "    </tr>\n",
       "  </thead>\n",
       "  <tbody>\n",
       "    <tr>\n",
       "      <th>0</th>\n",
       "      <td>Aleksandrów Kujawski</td>\n",
       "      <td>aleksandrowski</td>\n",
       "      <td>kujawsko-pomorskie</td>\n",
       "      <td>723</td>\n",
       "      <td>12058</td>\n",
       "      <td>1668</td>\n",
       "    </tr>\n",
       "    <tr>\n",
       "      <th>1</th>\n",
       "      <td>Aleksandrów Łódzki</td>\n",
       "      <td>zgierski</td>\n",
       "      <td>łódzkie</td>\n",
       "      <td>1382</td>\n",
       "      <td>21754</td>\n",
       "      <td>1574</td>\n",
       "    </tr>\n",
       "    <tr>\n",
       "      <th>2</th>\n",
       "      <td>Alwernia</td>\n",
       "      <td>chrzanowski</td>\n",
       "      <td>małopolskie</td>\n",
       "      <td>888</td>\n",
       "      <td>3336</td>\n",
       "      <td>376</td>\n",
       "    </tr>\n",
       "    <tr>\n",
       "      <th>3</th>\n",
       "      <td>Andrychów</td>\n",
       "      <td>wadowicki</td>\n",
       "      <td>małopolskie</td>\n",
       "      <td>1033</td>\n",
       "      <td>19837</td>\n",
       "      <td>1920</td>\n",
       "    </tr>\n",
       "    <tr>\n",
       "      <th>4</th>\n",
       "      <td>Annopol</td>\n",
       "      <td>kraśnicki</td>\n",
       "      <td>lubelskie</td>\n",
       "      <td>773</td>\n",
       "      <td>2436</td>\n",
       "      <td>315</td>\n",
       "    </tr>\n",
       "    <tr>\n",
       "      <th>...</th>\n",
       "      <td>...</td>\n",
       "      <td>...</td>\n",
       "      <td>...</td>\n",
       "      <td>...</td>\n",
       "      <td>...</td>\n",
       "      <td>...</td>\n",
       "    </tr>\n",
       "    <tr>\n",
       "      <th>949</th>\n",
       "      <td>Żukowo</td>\n",
       "      <td>kartuski</td>\n",
       "      <td>pomorskie</td>\n",
       "      <td>473</td>\n",
       "      <td>8135</td>\n",
       "      <td>1422</td>\n",
       "    </tr>\n",
       "    <tr>\n",
       "      <th>950</th>\n",
       "      <td>Żuromin</td>\n",
       "      <td>żuromiński</td>\n",
       "      <td>mazowieckie</td>\n",
       "      <td>1118</td>\n",
       "      <td>8756</td>\n",
       "      <td>783</td>\n",
       "    </tr>\n",
       "    <tr>\n",
       "      <th>951</th>\n",
       "      <td>Żychlin</td>\n",
       "      <td>kutnowski</td>\n",
       "      <td>łódzkie</td>\n",
       "      <td>868</td>\n",
       "      <td>7964</td>\n",
       "      <td>918</td>\n",
       "    </tr>\n",
       "    <tr>\n",
       "      <th>952</th>\n",
       "      <td>Żyrardów</td>\n",
       "      <td>żyrardowski</td>\n",
       "      <td>mazowieckie</td>\n",
       "      <td>1435</td>\n",
       "      <td>39550</td>\n",
       "      <td>2756</td>\n",
       "    </tr>\n",
       "    <tr>\n",
       "      <th>953</th>\n",
       "      <td>Żywiec</td>\n",
       "      <td>żywiecki</td>\n",
       "      <td>śląskie</td>\n",
       "      <td>5054</td>\n",
       "      <td>30733</td>\n",
       "      <td>608</td>\n",
       "    </tr>\n",
       "  </tbody>\n",
       "</table>\n",
       "<p>954 rows × 6 columns</p>\n",
       "</div>"
      ],
      "text/plain": [
       "                   Miasto          Powiat         Województwo  \\\n",
       "0    Aleksandrów Kujawski  aleksandrowski  kujawsko-pomorskie   \n",
       "1      Aleksandrów Łódzki        zgierski             łódzkie   \n",
       "2                Alwernia     chrzanowski         małopolskie   \n",
       "3               Andrychów       wadowicki         małopolskie   \n",
       "4                 Annopol       kraśnicki           lubelskie   \n",
       "..                    ...             ...                 ...   \n",
       "949                Żukowo        kartuski           pomorskie   \n",
       "950               Żuromin      żuromiński         mazowieckie   \n",
       "951               Żychlin       kutnowski             łódzkie   \n",
       "952              Żyrardów     żyrardowski         mazowieckie   \n",
       "953                Żywiec        żywiecki             śląskie   \n",
       "\n",
       "    Powierzchnia [ha] (01.01.2021) Liczba ludności Gęstość zaludnienia  \n",
       "0                              723           12058                1668  \n",
       "1                             1382           21754                1574  \n",
       "2                              888            3336                 376  \n",
       "3                             1033           19837                1920  \n",
       "4                              773            2436                 315  \n",
       "..                             ...             ...                 ...  \n",
       "949                            473            8135                1422  \n",
       "950                           1118            8756                 783  \n",
       "951                            868            7964                 918  \n",
       "952                           1435           39550                2756  \n",
       "953                           5054           30733                 608  \n",
       "\n",
       "[954 rows x 6 columns]"
      ]
     },
     "execution_count": 47,
     "metadata": {},
     "output_type": "execute_result"
    }
   ],
   "source": [
    "df.columns = header\n",
    "df"
   ]
  },
  {
   "cell_type": "code",
   "execution_count": null,
   "metadata": {},
   "outputs": [],
   "source": []
  }
 ],
 "metadata": {
  "kernelspec": {
   "display_name": "Python 3",
   "language": "python",
   "name": "python3"
  },
  "language_info": {
   "codemirror_mode": {
    "name": "ipython",
    "version": 3
   },
   "file_extension": ".py",
   "mimetype": "text/x-python",
   "name": "python",
   "nbconvert_exporter": "python",
   "pygments_lexer": "ipython3",
   "version": "3.9.1"
  }
 },
 "nbformat": 4,
 "nbformat_minor": 4
}
